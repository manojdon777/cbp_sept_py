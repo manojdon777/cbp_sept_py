{
 "cells": [
  {
   "cell_type": "code",
   "execution_count": 1,
   "id": "48a78cbe",
   "metadata": {},
   "outputs": [
    {
     "name": "stdout",
     "output_type": "stream",
     "text": [
      "fdsdfsdf\n"
     ]
    }
   ],
   "source": [
    "print('fdsdfsdf')"
   ]
  },
  {
   "cell_type": "code",
   "execution_count": 2,
   "id": "5888cbbc",
   "metadata": {},
   "outputs": [
    {
     "name": "stdout",
     "output_type": "stream",
     "text": [
      "in double quotes\n"
     ]
    }
   ],
   "source": [
    "print(\"in double quotes\")"
   ]
  },
  {
   "cell_type": "code",
   "execution_count": 3,
   "id": "dd8a7979",
   "metadata": {},
   "outputs": [
    {
     "name": "stdout",
     "output_type": "stream",
     "text": [
      "hiee\n",
      "hello\n"
     ]
    }
   ],
   "source": [
    "print('hiee')\n",
    "print('hello')"
   ]
  },
  {
   "cell_type": "code",
   "execution_count": 4,
   "id": "2bde541d",
   "metadata": {},
   "outputs": [
    {
     "name": "stdout",
     "output_type": "stream",
     "text": [
      "hello\n"
     ]
    }
   ],
   "source": [
    "#print('hiee')\n",
    "print('hello')"
   ]
  },
  {
   "cell_type": "code",
   "execution_count": 6,
   "id": "390ca455",
   "metadata": {},
   "outputs": [
    {
     "data": {
      "text/plain": [
       "' Am I a string \\nthis is my second line'"
      ]
     },
     "execution_count": 6,
     "metadata": {},
     "output_type": "execute_result"
    }
   ],
   "source": [
    "''' Am I a string \n",
    "this is my second line'''"
   ]
  },
  {
   "cell_type": "code",
   "execution_count": 7,
   "id": "25b5e0ff",
   "metadata": {},
   "outputs": [
    {
     "data": {
      "text/plain": [
       "67"
      ]
     },
     "execution_count": 7,
     "metadata": {},
     "output_type": "execute_result"
    }
   ],
   "source": [
    "var = 67\n",
    "var"
   ]
  },
  {
   "cell_type": "code",
   "execution_count": 8,
   "id": "cd2451ef",
   "metadata": {},
   "outputs": [
    {
     "name": "stdout",
     "output_type": "stream",
     "text": [
      "*\n",
      "* *\n",
      "* * *\n",
      "* * * *\n"
     ]
    }
   ],
   "source": [
    "print('*')\n",
    "print('*','*')\n",
    "print('*','*','*')\n",
    "print('*','*','*','*')\n"
   ]
  },
  {
   "cell_type": "code",
   "execution_count": 9,
   "id": "df548c82",
   "metadata": {},
   "outputs": [
    {
     "name": "stdout",
     "output_type": "stream",
     "text": [
      "*\n",
      "**\n",
      "***\n",
      "****\n"
     ]
    }
   ],
   "source": [
    "print('*', sep = '')\n",
    "print('*','*', sep = '')\n",
    "print('*','*','*', sep = '')\n",
    "print('*','*','*','*', sep = '')"
   ]
  },
  {
   "cell_type": "markdown",
   "id": "f4af7f78",
   "metadata": {},
   "source": [
    "# Heading 1"
   ]
  },
  {
   "cell_type": "markdown",
   "id": "c8501501",
   "metadata": {},
   "source": [
    "## Heading 2"
   ]
  },
  {
   "cell_type": "markdown",
   "id": "b1d0e9d4",
   "metadata": {},
   "source": [
    "### Heading 3"
   ]
  },
  {
   "cell_type": "markdown",
   "id": "40672042",
   "metadata": {},
   "source": [
    "### Notes"
   ]
  },
  {
   "cell_type": "markdown",
   "id": "42872958",
   "metadata": {},
   "source": [
    "# Variables"
   ]
  },
  {
   "cell_type": "code",
   "execution_count": 10,
   "id": "948f05ec",
   "metadata": {},
   "outputs": [
    {
     "name": "stdout",
     "output_type": "stream",
     "text": [
      "45\n"
     ]
    }
   ],
   "source": [
    "marks = 45\n",
    "print(marks)"
   ]
  },
  {
   "cell_type": "code",
   "execution_count": 11,
   "id": "f48559dc",
   "metadata": {},
   "outputs": [
    {
     "name": "stdout",
     "output_type": "stream",
     "text": [
      "Aman Mishra\n"
     ]
    }
   ],
   "source": [
    "name = \"Aman Mishra\"\n",
    "print(name)"
   ]
  },
  {
   "cell_type": "code",
   "execution_count": 12,
   "id": "a1e54489",
   "metadata": {},
   "outputs": [
    {
     "name": "stdout",
     "output_type": "stream",
     "text": [
      "3.15\n"
     ]
    }
   ],
   "source": [
    "pi = 3.15\n",
    "print(pi)"
   ]
  },
  {
   "cell_type": "code",
   "execution_count": 13,
   "id": "2dd8a1b0",
   "metadata": {},
   "outputs": [
    {
     "name": "stdout",
     "output_type": "stream",
     "text": [
      "Put marks45\n",
      "<class 'str'>\n"
     ]
    }
   ],
   "source": [
    "marks = input('Put marks')\n",
    "print(type(marks))"
   ]
  },
  {
   "cell_type": "code",
   "execution_count": 14,
   "id": "a5e04962",
   "metadata": {},
   "outputs": [
    {
     "name": "stdout",
     "output_type": "stream",
     "text": [
      "Put marks45\n",
      "<class 'int'>\n"
     ]
    }
   ],
   "source": [
    "marks = int(input('Put marks'))\n",
    "print(type(marks))"
   ]
  },
  {
   "cell_type": "code",
   "execution_count": 15,
   "id": "f7183e30",
   "metadata": {},
   "outputs": [
    {
     "name": "stdout",
     "output_type": "stream",
     "text": [
      "45 <class 'int'>\n"
     ]
    }
   ],
   "source": [
    "marks = 45\n",
    "print(marks, type(marks))"
   ]
  },
  {
   "cell_type": "code",
   "execution_count": 16,
   "id": "6586f1f0",
   "metadata": {},
   "outputs": [
    {
     "name": "stdout",
     "output_type": "stream",
     "text": [
      "Aman Mishra <class 'str'>\n"
     ]
    }
   ],
   "source": [
    "name = \"Aman Mishra\"\n",
    "print(name, type(name))"
   ]
  },
  {
   "cell_type": "code",
   "execution_count": 17,
   "id": "347b6cee",
   "metadata": {},
   "outputs": [
    {
     "name": "stdout",
     "output_type": "stream",
     "text": [
      "3.15 <class 'float'>\n"
     ]
    }
   ],
   "source": [
    "pi = 3.15\n",
    "print(pi, type(pi))"
   ]
  },
  {
   "cell_type": "code",
   "execution_count": 18,
   "id": "6c251693",
   "metadata": {},
   "outputs": [
    {
     "name": "stdout",
     "output_type": "stream",
     "text": [
      "<class 'str'>\n"
     ]
    }
   ],
   "source": [
    "var = \"3.14\"\n",
    "print(type(var))"
   ]
  },
  {
   "cell_type": "code",
   "execution_count": 21,
   "id": "7b41cd73",
   "metadata": {},
   "outputs": [
    {
     "name": "stdout",
     "output_type": "stream",
     "text": [
      "<class 'float'>\n"
     ]
    }
   ],
   "source": [
    "var = \"3.14\"\n",
    "var = float(var)\n",
    "print(type(var))"
   ]
  },
  {
   "cell_type": "code",
   "execution_count": 20,
   "id": "c88194bb",
   "metadata": {},
   "outputs": [
    {
     "name": "stdout",
     "output_type": "stream",
     "text": [
      "<class 'float'>\n"
     ]
    }
   ],
   "source": [
    "var = \"3.14\"\n",
    "print(type(float(var)))"
   ]
  },
  {
   "cell_type": "code",
   "execution_count": 24,
   "id": "0d2b934c",
   "metadata": {},
   "outputs": [
    {
     "name": "stdout",
     "output_type": "stream",
     "text": [
      "a = 30 b = 45\n",
      "a = 45 b = 30\n"
     ]
    }
   ],
   "source": [
    "a = 30\n",
    "b = 45\n",
    "print('a =', a, 'b =', b)\n",
    "a,b = b,a\n",
    "print('a =', a, 'b =', b)"
   ]
  },
  {
   "cell_type": "code",
   "execution_count": 25,
   "id": "74ba01f4",
   "metadata": {},
   "outputs": [
    {
     "name": "stdout",
     "output_type": "stream",
     "text": [
      "a = 33 b = 55\n"
     ]
    }
   ],
   "source": [
    "a,b  = 33, 55\n",
    "print('a =', a, 'b =', b)"
   ]
  },
  {
   "cell_type": "code",
   "execution_count": 26,
   "id": "ff162462",
   "metadata": {},
   "outputs": [
    {
     "name": "stdout",
     "output_type": "stream",
     "text": [
      "Aman verma 34 78\n"
     ]
    }
   ],
   "source": [
    "name, age, marks = 'Aman verma', 34, 78\n",
    "print(name, age, marks)"
   ]
  },
  {
   "cell_type": "code",
   "execution_count": 27,
   "id": "97eaa28a",
   "metadata": {},
   "outputs": [
    {
     "name": "stdout",
     "output_type": "stream",
     "text": [
      "Aman verma 34 78\n",
      "<class 'str'> <class 'int'> <class 'int'>\n"
     ]
    }
   ],
   "source": [
    "name, age, marks = 'Aman verma', 34, 78\n",
    "print(name, age, marks)\n",
    "print(type(name), type(age), type(marks))"
   ]
  },
  {
   "cell_type": "code",
   "execution_count": 28,
   "id": "03a37d82",
   "metadata": {},
   "outputs": [
    {
     "name": "stdout",
     "output_type": "stream",
     "text": [
      "44 33\n"
     ]
    }
   ],
   "source": [
    "a = 33\n",
    "b = 44\n",
    "a = a + b\n",
    "b = a - b\n",
    "a = a - b\n",
    "print(a, b)"
   ]
  },
  {
   "cell_type": "code",
   "execution_count": null,
   "id": "f7010a8d",
   "metadata": {},
   "outputs": [],
   "source": []
  }
 ],
 "metadata": {
  "kernelspec": {
   "display_name": "Python 3 (ipykernel)",
   "language": "python",
   "name": "python3"
  },
  "language_info": {
   "codemirror_mode": {
    "name": "ipython",
    "version": 3
   },
   "file_extension": ".py",
   "mimetype": "text/x-python",
   "name": "python",
   "nbconvert_exporter": "python",
   "pygments_lexer": "ipython3",
   "version": "3.10.12"
  }
 },
 "nbformat": 4,
 "nbformat_minor": 5
}
