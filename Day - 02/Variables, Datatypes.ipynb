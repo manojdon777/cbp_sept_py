{
 "cells": [
  {
   "cell_type": "markdown",
   "id": "5b039408",
   "metadata": {},
   "source": [
    "# Variables"
   ]
  },
  {
   "cell_type": "markdown",
   "id": "24857692",
   "metadata": {},
   "source": [
    "- case sensitive\n",
    "- cannot start with digits\n",
    "- can start with alphabets\n",
    "- can start with underscore\n",
    "- variable cannot be reserved keywords\n",
    "- no space between variables\n",
    "- no special symbol other than underscore"
   ]
  },
  {
   "cell_type": "markdown",
   "id": "98439756",
   "metadata": {},
   "source": [
    "# Conditionals"
   ]
  },
  {
   "cell_type": "markdown",
   "id": "94d466de",
   "metadata": {},
   "source": [
    "## syntax"
   ]
  },
  {
   "cell_type": "code",
   "execution_count": null,
   "id": "4d234ae6",
   "metadata": {},
   "outputs": [],
   "source": [
    "if condiction :\n",
    "    stat1 \n",
    "    stat2    "
   ]
  },
  {
   "cell_type": "code",
   "execution_count": 1,
   "id": "9928cc5d",
   "metadata": {},
   "outputs": [
    {
     "name": "stdout",
     "output_type": "stream",
     "text": [
      "Yes\n"
     ]
    }
   ],
   "source": [
    "if 3>2:\n",
    "    print('Yes')"
   ]
  },
  {
   "cell_type": "code",
   "execution_count": 2,
   "id": "3c19e71e",
   "metadata": {},
   "outputs": [],
   "source": [
    "if 3<2:\n",
    "    print('Yes')"
   ]
  },
  {
   "cell_type": "code",
   "execution_count": 3,
   "id": "1dc14617",
   "metadata": {},
   "outputs": [
    {
     "name": "stdout",
     "output_type": "stream",
     "text": [
      "Yes\n"
     ]
    }
   ],
   "source": [
    "if True:\n",
    "    print('Yes')"
   ]
  },
  {
   "cell_type": "code",
   "execution_count": null,
   "id": "6ef45def",
   "metadata": {},
   "outputs": [],
   "source": [
    "if True:\n",
    "    print('Yes')"
   ]
  },
  {
   "cell_type": "code",
   "execution_count": 4,
   "id": "6252880f",
   "metadata": {},
   "outputs": [],
   "source": [
    "if False:\n",
    "    print('Yes')"
   ]
  },
  {
   "cell_type": "code",
   "execution_count": null,
   "id": "13acb845",
   "metadata": {},
   "outputs": [],
   "source": []
  },
  {
   "cell_type": "code",
   "execution_count": null,
   "id": "acae52f3",
   "metadata": {},
   "outputs": [],
   "source": [
    "if condiction :\n",
    "    stat1\n",
    "    stat2\n",
    "else:\n",
    "    stat3"
   ]
  },
  {
   "cell_type": "code",
   "execution_count": 5,
   "id": "ce62a381",
   "metadata": {},
   "outputs": [
    {
     "name": "stdout",
     "output_type": "stream",
     "text": [
      "You got A grade\n"
     ]
    }
   ],
   "source": [
    "marks = 76\n",
    "if marks > 75:\n",
    "    print('You got A grade')\n",
    "else:\n",
    "    print('Other grade')"
   ]
  },
  {
   "cell_type": "code",
   "execution_count": 8,
   "id": "58abbc8e",
   "metadata": {},
   "outputs": [
    {
     "name": "stdout",
     "output_type": "stream",
     "text": [
      "False\n",
      "True\n",
      "True\n",
      "True\n"
     ]
    }
   ],
   "source": [
    "print(bool(0))\n",
    "print(bool(1))\n",
    "print(bool(2))\n",
    "print(bool(-2))"
   ]
  },
  {
   "cell_type": "code",
   "execution_count": 9,
   "id": "5863a435",
   "metadata": {},
   "outputs": [
    {
     "name": "stdout",
     "output_type": "stream",
     "text": [
      "Other grade\n"
     ]
    }
   ],
   "source": [
    "marks = 67\n",
    "if marks > 75:\n",
    "    print('You got A grade')\n",
    "else:\n",
    "    print('Other grade')"
   ]
  },
  {
   "cell_type": "code",
   "execution_count": null,
   "id": "76e4946b",
   "metadata": {},
   "outputs": [],
   "source": []
  },
  {
   "cell_type": "code",
   "execution_count": null,
   "id": "5311c5f6",
   "metadata": {},
   "outputs": [],
   "source": [
    "if condiction1 :\n",
    "    stat1\n",
    "    stat2\n",
    "elif condition2 :\n",
    "    stat3"
   ]
  },
  {
   "cell_type": "code",
   "execution_count": null,
   "id": "9938e11f",
   "metadata": {},
   "outputs": [],
   "source": [
    "if condiction1 :\n",
    "    stat1\n",
    "    stat2\n",
    "elif condition2 :\n",
    "    stat3"
   ]
  },
  {
   "cell_type": "code",
   "execution_count": null,
   "id": "7929ad3e",
   "metadata": {},
   "outputs": [],
   "source": [
    "if condiction1 :\n",
    "    stat1\n",
    "    stat2\n",
    "elif condition2 :\n",
    "    stat3\n",
    "    stat4\n",
    "    stat5\n",
    "elif condition3 :\n",
    "    stat6\n",
    "    stat7\n",
    "elif condition4 :\n",
    "    stat8\n",
    "elif condition5 :\n",
    "    stat9\n",
    "    stat10"
   ]
  },
  {
   "cell_type": "code",
   "execution_count": null,
   "id": "b75fdf56",
   "metadata": {},
   "outputs": [],
   "source": [
    "if condiction1 :\n",
    "    stat1\n",
    "    stat2\n",
    "elif condition2 :\n",
    "    stat3\n",
    "    stat4\n",
    "    stat5\n",
    "elif condition3 :\n",
    "    stat6\n",
    "    stat7\n",
    "else:\n",
    "    stat8"
   ]
  },
  {
   "cell_type": "code",
   "execution_count": null,
   "id": "bd6924ae",
   "metadata": {},
   "outputs": [],
   "source": []
  }
 ],
 "metadata": {
  "kernelspec": {
   "display_name": "Python 3 (ipykernel)",
   "language": "python",
   "name": "python3"
  },
  "language_info": {
   "codemirror_mode": {
    "name": "ipython",
    "version": 3
   },
   "file_extension": ".py",
   "mimetype": "text/x-python",
   "name": "python",
   "nbconvert_exporter": "python",
   "pygments_lexer": "ipython3",
   "version": "3.10.12"
  }
 },
 "nbformat": 4,
 "nbformat_minor": 5
}
