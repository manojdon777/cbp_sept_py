{
 "cells": [
  {
   "cell_type": "markdown",
   "id": "8ca8637b",
   "metadata": {},
   "source": [
    "# Variables"
   ]
  },
  {
   "cell_type": "markdown",
   "id": "447c8a0a",
   "metadata": {},
   "source": [
    "- case sensitive\n",
    "- cannot start with digits\n",
    "- can start with alphabets\n",
    "- can start with underscore\n",
    "- variable cannot be reserved keywords\n",
    "- no space between variables\n",
    "- no special symbol other than underscore"
   ]
  },
  {
   "cell_type": "markdown",
   "id": "a523da84",
   "metadata": {},
   "source": [
    "# Conditionals"
   ]
  },
  {
   "cell_type": "markdown",
   "id": "9216eb2d",
   "metadata": {},
   "source": [
    "## syntax"
   ]
  },
  {
   "cell_type": "code",
   "execution_count": null,
   "id": "dd09e5dd",
   "metadata": {},
   "outputs": [],
   "source": [
    "if condiction :\n",
    "    stat1 \n",
    "    stat2    "
   ]
  },
  {
   "cell_type": "code",
   "execution_count": 1,
   "id": "08f7c286",
   "metadata": {},
   "outputs": [
    {
     "name": "stdout",
     "output_type": "stream",
     "text": [
      "Yes\n"
     ]
    }
   ],
   "source": [
    "if 3>2:\n",
    "    print('Yes')"
   ]
  },
  {
   "cell_type": "code",
   "execution_count": 2,
   "id": "cdda82c6",
   "metadata": {},
   "outputs": [],
   "source": [
    "if 3<2:\n",
    "    print('Yes')"
   ]
  },
  {
   "cell_type": "code",
   "execution_count": 3,
   "id": "d4772f57",
   "metadata": {},
   "outputs": [
    {
     "name": "stdout",
     "output_type": "stream",
     "text": [
      "Yes\n"
     ]
    }
   ],
   "source": [
    "if True:\n",
    "    print('Yes')"
   ]
  },
  {
   "cell_type": "code",
   "execution_count": null,
   "id": "7427ad3b",
   "metadata": {},
   "outputs": [],
   "source": [
    "if True:\n",
    "    print('Yes')"
   ]
  },
  {
   "cell_type": "code",
   "execution_count": 4,
   "id": "ec00ef37",
   "metadata": {},
   "outputs": [],
   "source": [
    "if False:\n",
    "    print('Yes')"
   ]
  },
  {
   "cell_type": "code",
   "execution_count": null,
   "id": "887653dd",
   "metadata": {},
   "outputs": [],
   "source": []
  },
  {
   "cell_type": "code",
   "execution_count": null,
   "id": "b3b996bb",
   "metadata": {},
   "outputs": [],
   "source": [
    "if condiction :\n",
    "    stat1\n",
    "    stat2\n",
    "else:\n",
    "    stat3"
   ]
  },
  {
   "cell_type": "code",
   "execution_count": 5,
   "id": "1f7bb64b",
   "metadata": {},
   "outputs": [
    {
     "name": "stdout",
     "output_type": "stream",
     "text": [
      "You got A grade\n"
     ]
    }
   ],
   "source": [
    "marks = 76\n",
    "if marks > 75:\n",
    "    print('You got A grade')\n",
    "else:\n",
    "    print('Other grade')"
   ]
  },
  {
   "cell_type": "code",
   "execution_count": 8,
   "id": "beb6d87e",
   "metadata": {},
   "outputs": [
    {
     "name": "stdout",
     "output_type": "stream",
     "text": [
      "False\n",
      "True\n",
      "True\n",
      "True\n"
     ]
    }
   ],
   "source": [
    "print(bool(0))\n",
    "print(bool(1))\n",
    "print(bool(2))\n",
    "print(bool(-2))"
   ]
  },
  {
   "cell_type": "code",
   "execution_count": 9,
   "id": "b52c925d",
   "metadata": {},
   "outputs": [
    {
     "name": "stdout",
     "output_type": "stream",
     "text": [
      "Other grade\n"
     ]
    }
   ],
   "source": [
    "marks = 67\n",
    "if marks > 75:\n",
    "    print('You got A grade')\n",
    "else:\n",
    "    print('Other grade')"
   ]
  },
  {
   "cell_type": "code",
   "execution_count": null,
   "id": "b7634069",
   "metadata": {},
   "outputs": [],
   "source": []
  },
  {
   "cell_type": "code",
   "execution_count": null,
   "id": "b0e0a80a",
   "metadata": {},
   "outputs": [],
   "source": [
    "if condiction1 :\n",
    "    stat1\n",
    "    stat2\n",
    "elif condition2 :\n",
    "    stat3"
   ]
  },
  {
   "cell_type": "code",
   "execution_count": 10,
   "id": "82737d3b",
   "metadata": {},
   "outputs": [
    {
     "name": "stdout",
     "output_type": "stream",
     "text": [
      "You got B grade\n"
     ]
    }
   ],
   "source": [
    "marks = 67\n",
    "if marks > 75:\n",
    "    print('You got A grade')\n",
    "elif marks > 50:\n",
    "    print('You got B grade')"
   ]
  },
  {
   "cell_type": "code",
   "execution_count": null,
   "id": "a8a13f41",
   "metadata": {},
   "outputs": [],
   "source": []
  },
  {
   "cell_type": "code",
   "execution_count": null,
   "id": "95d949b2",
   "metadata": {},
   "outputs": [],
   "source": []
  },
  {
   "cell_type": "code",
   "execution_count": null,
   "id": "53695bb3",
   "metadata": {},
   "outputs": [],
   "source": []
  },
  {
   "cell_type": "code",
   "execution_count": null,
   "id": "d5c5cd08",
   "metadata": {},
   "outputs": [],
   "source": [
    "if condiction1 :\n",
    "    stat1\n",
    "    stat2\n",
    "elif condition2 :\n",
    "    stat3\n",
    "    stat4\n",
    "    stat5\n",
    "elif condition3 :\n",
    "    stat6\n",
    "    stat7\n",
    "elif condition4 :\n",
    "    stat8\n",
    "elif condition5 :\n",
    "    stat9\n",
    "    stat10"
   ]
  },
  {
   "cell_type": "code",
   "execution_count": 15,
   "id": "e306c125",
   "metadata": {},
   "outputs": [
    {
     "name": "stdout",
     "output_type": "stream",
     "text": [
      "You got A grade\n"
     ]
    }
   ],
   "source": [
    "marks = 80\n",
    "if marks > 75:\n",
    "    print('You got A grade')\n",
    "elif marks > 50:\n",
    "    print('You got B grade')\n",
    "elif marks > 25:\n",
    "    print('You got C grade')\n",
    "        "
   ]
  },
  {
   "cell_type": "code",
   "execution_count": 18,
   "id": "d1f1bbde",
   "metadata": {},
   "outputs": [
    {
     "name": "stdout",
     "output_type": "stream",
     "text": [
      "You got B grade\n"
     ]
    }
   ],
   "source": [
    "marks = 80\n",
    "if marks > 50:\n",
    "    print('You got B grade')\n",
    "elif marks > 75:\n",
    "    print('You got A grade')\n",
    "elif marks > 25:\n",
    "    print('You got C grade')\n",
    "        "
   ]
  },
  {
   "cell_type": "code",
   "execution_count": 21,
   "id": "d62f6a0a",
   "metadata": {},
   "outputs": [
    {
     "name": "stdout",
     "output_type": "stream",
     "text": [
      "You got A grade\n"
     ]
    }
   ],
   "source": [
    "marks = 80\n",
    "if marks < 50:\n",
    "    print('You got B grade')\n",
    "elif marks > 75:\n",
    "    print('You got A grade')\n",
    "elif marks > 25:\n",
    "    print('You got C grade')\n",
    "        "
   ]
  },
  {
   "cell_type": "code",
   "execution_count": 22,
   "id": "a3684263",
   "metadata": {},
   "outputs": [
    {
     "name": "stdout",
     "output_type": "stream",
     "text": [
      "You got C grade\n"
     ]
    }
   ],
   "source": [
    "marks = 80\n",
    "if marks < 50:\n",
    "    print('You got B grade')\n",
    "elif marks > 25:\n",
    "    print('You got C grade')\n",
    "elif marks > 75:\n",
    "    print('You got A grade')"
   ]
  },
  {
   "cell_type": "code",
   "execution_count": null,
   "id": "c67ae1b4",
   "metadata": {},
   "outputs": [],
   "source": [
    "if condiction1 :\n",
    "    stat1\n",
    "    stat2\n",
    "elif condition2 :\n",
    "    stat3\n",
    "    stat4\n",
    "    stat5\n",
    "elif condition3 :\n",
    "    stat6\n",
    "    stat7\n",
    "else:\n",
    "    stat8"
   ]
  },
  {
   "cell_type": "code",
   "execution_count": null,
   "id": "a657556a",
   "metadata": {},
   "outputs": [],
   "source": [
    "# Assignment:\n",
    "\n",
    "# Write a program that determines the discount amount for a purchase based on \n",
    "# the total cost. The discount rules are as follows:\n",
    "\n",
    "#     If the total cost is $100 or more, the discount is 10% of the total cost\n",
    "#     If the total cost is $50 or more but less than $100, the discount is 5% of the total cost\n",
    "#     If the total cost is less than $50, there is no discount\n",
    "\n",
    "\n",
    "\n",
    "\n",
    "\n"
   ]
  },
  {
   "cell_type": "code",
   "execution_count": 26,
   "id": "a716029e",
   "metadata": {},
   "outputs": [
    {
     "name": "stdout",
     "output_type": "stream",
     "text": [
      "Enter purchase amount: 55\n",
      "Your Purchase amout is : 55\n",
      "Value after discount is = 52.25\n"
     ]
    }
   ],
   "source": [
    "purchase = int(input('Enter purchase amount: '))\n",
    "\n",
    "print('Your Purchase amout is :', purchase)\n",
    "\n",
    "if purchase >= 100:\n",
    "    discount_value = purchase * 0.9\n",
    "    print('Value after discount is =', discount_value)\n",
    "elif purchase < 100 and purchase >= 50:\n",
    "    discount_value = purchase * 0.95\n",
    "    print('Value after discount is =', discount_value)\n",
    "else:\n",
    "    print('There is no discount')\n",
    "        "
   ]
  },
  {
   "cell_type": "markdown",
   "id": "000de1f1",
   "metadata": {},
   "source": [
    "# Operators"
   ]
  },
  {
   "cell_type": "markdown",
   "id": "6c10e19f",
   "metadata": {},
   "source": [
    " ## Arithmatic operators"
   ]
  },
  {
   "cell_type": "code",
   "execution_count": null,
   "id": "8bb5f0fc",
   "metadata": {},
   "outputs": [],
   "source": [
    "+\n",
    "=\n",
    "*\n",
    "/\n",
    "//\n",
    "%\n",
    "**"
   ]
  },
  {
   "cell_type": "code",
   "execution_count": 3,
   "id": "a5b2ff80",
   "metadata": {},
   "outputs": [
    {
     "name": "stdout",
     "output_type": "stream",
     "text": [
      "a = 77 b = 11\n",
      "Add = 88\n",
      "Sub = 66\n",
      "Mult = 847\n",
      "Div_F = 7.0\n",
      "Div_I = 7\n",
      "Module = 0\n"
     ]
    }
   ],
   "source": [
    "a = 77\n",
    "b = 11\n",
    "\n",
    "print('a =', a, 'b =', b)\n",
    "print('Add =',a + b)\n",
    "print('Sub =',a - b)\n",
    "print('Mult =',a * b)\n",
    "print('Div_F =',a / b)\n",
    "print('Div_I =',a // b)\n",
    "print('Module =', a % b)"
   ]
  },
  {
   "cell_type": "code",
   "execution_count": 4,
   "id": "5cb395a6",
   "metadata": {},
   "outputs": [
    {
     "name": "stdout",
     "output_type": "stream",
     "text": [
      "3\n"
     ]
    }
   ],
   "source": [
    "print(55 % 4)"
   ]
  },
  {
   "cell_type": "code",
   "execution_count": null,
   "id": "22dbc00c",
   "metadata": {},
   "outputs": [],
   "source": []
  },
  {
   "cell_type": "markdown",
   "id": "23e69bdf",
   "metadata": {},
   "source": [
    "## Assignment Operator"
   ]
  },
  {
   "cell_type": "code",
   "execution_count": null,
   "id": "19481ea5",
   "metadata": {},
   "outputs": [],
   "source": [
    "+=\n",
    "-=\n",
    "*=\n",
    "/=\n",
    "//="
   ]
  },
  {
   "cell_type": "code",
   "execution_count": 1,
   "id": "3bf4b23c",
   "metadata": {},
   "outputs": [
    {
     "ename": "NameError",
     "evalue": "name 'b' is not defined",
     "output_type": "error",
     "traceback": [
      "\u001b[0;31m---------------------------------------------------------------------------\u001b[0m",
      "\u001b[0;31mNameError\u001b[0m                                 Traceback (most recent call last)",
      "\u001b[0;32m/tmp/ipykernel_257125/1918884979.py\u001b[0m in \u001b[0;36m<module>\u001b[0;34m\u001b[0m\n\u001b[1;32m      1\u001b[0m \u001b[0ma\u001b[0m \u001b[0;34m=\u001b[0m \u001b[0;36m77\u001b[0m\u001b[0;34m\u001b[0m\u001b[0;34m\u001b[0m\u001b[0m\n\u001b[0;32m----> 2\u001b[0;31m \u001b[0ma\u001b[0m \u001b[0;34m+=\u001b[0m \u001b[0mb\u001b[0m\u001b[0;34m\u001b[0m\u001b[0;34m\u001b[0m\u001b[0m\n\u001b[0m\u001b[1;32m      3\u001b[0m \u001b[0mprint\u001b[0m\u001b[0;34m(\u001b[0m\u001b[0;34m'Add ='\u001b[0m\u001b[0;34m,\u001b[0m\u001b[0ma\u001b[0m\u001b[0;34m)\u001b[0m\u001b[0;34m\u001b[0m\u001b[0;34m\u001b[0m\u001b[0m\n\u001b[1;32m      4\u001b[0m \u001b[0;34m\u001b[0m\u001b[0m\n\u001b[1;32m      5\u001b[0m \u001b[0ma\u001b[0m \u001b[0;34m=\u001b[0m \u001b[0;36m77\u001b[0m\u001b[0;34m\u001b[0m\u001b[0;34m\u001b[0m\u001b[0m\n",
      "\u001b[0;31mNameError\u001b[0m: name 'b' is not defined"
     ]
    }
   ],
   "source": [
    "a = 77\n",
    "a += b\n",
    "print('Add =',a)\n",
    "\n",
    "a = 77\n",
    "a -= b\n",
    "print('Sub =',a)\n",
    "\n",
    "a = 77\n",
    "a *= b\n",
    "print('Mult =',a)\n",
    "\n",
    "a = 77\n",
    "a /= b\n",
    "print('Div_F =',a)\n",
    "\n",
    "a = 77\n",
    "a //= b\n",
    "print('Div_I =',a)"
   ]
  },
  {
   "cell_type": "markdown",
   "id": "1a7d5bf0",
   "metadata": {},
   "source": [
    "## Comparison operators"
   ]
  },
  {
   "cell_type": "code",
   "execution_count": null,
   "id": "aca8c1a8",
   "metadata": {},
   "outputs": [],
   "source": [
    ">\n",
    "<\n",
    "!=\n",
    "==\n",
    ">=\n",
    "<=\n"
   ]
  },
  {
   "cell_type": "code",
   "execution_count": 49,
   "id": "5f0e7a35",
   "metadata": {},
   "outputs": [
    {
     "name": "stdout",
     "output_type": "stream",
     "text": [
      "True\n"
     ]
    }
   ],
   "source": [
    "print(55>44)"
   ]
  },
  {
   "cell_type": "code",
   "execution_count": 50,
   "id": "d6e10f0c",
   "metadata": {},
   "outputs": [
    {
     "name": "stdout",
     "output_type": "stream",
     "text": [
      "True\n"
     ]
    }
   ],
   "source": [
    "condition = 55>44\n",
    "print(condition)"
   ]
  },
  {
   "cell_type": "code",
   "execution_count": 51,
   "id": "aa8d71df",
   "metadata": {},
   "outputs": [
    {
     "name": "stdout",
     "output_type": "stream",
     "text": [
      "<class 'bool'>\n"
     ]
    }
   ],
   "source": [
    "condition = 55>44\n",
    "print(type(condition))"
   ]
  },
  {
   "cell_type": "code",
   "execution_count": 52,
   "id": "65d71f83",
   "metadata": {},
   "outputs": [
    {
     "name": "stdout",
     "output_type": "stream",
     "text": [
      "True\n"
     ]
    }
   ],
   "source": [
    "print(55>=55)"
   ]
  },
  {
   "cell_type": "code",
   "execution_count": 54,
   "id": "ef62e77a",
   "metadata": {},
   "outputs": [
    {
     "name": "stdout",
     "output_type": "stream",
     "text": [
      "True\n"
     ]
    }
   ],
   "source": [
    "print(55==55)"
   ]
  },
  {
   "cell_type": "code",
   "execution_count": 55,
   "id": "164627c6",
   "metadata": {},
   "outputs": [
    {
     "name": "stdout",
     "output_type": "stream",
     "text": [
      "True\n"
     ]
    }
   ],
   "source": [
    "name = 'CBP'\n",
    "print(name == 'CBP')"
   ]
  },
  {
   "cell_type": "code",
   "execution_count": 56,
   "id": "4292f263",
   "metadata": {},
   "outputs": [
    {
     "name": "stdout",
     "output_type": "stream",
     "text": [
      "Enter string: cbp\n",
      "It is not CBP string\n"
     ]
    }
   ],
   "source": [
    "name = input('Enter string: ')\n",
    "if name == 'CBP':\n",
    "    print('It is CBP string')\n",
    "else:\n",
    "    print('It is not CBP string')"
   ]
  },
  {
   "cell_type": "code",
   "execution_count": 57,
   "id": "e77d6483",
   "metadata": {},
   "outputs": [
    {
     "name": "stdout",
     "output_type": "stream",
     "text": [
      "Enter string: CBP\n",
      "It is CBP string\n"
     ]
    }
   ],
   "source": [
    "name = input('Enter string: ')\n",
    "if name == 'CBP':\n",
    "    print('It is CBP string')\n",
    "else:\n",
    "    print('It is not CBP string')"
   ]
  },
  {
   "cell_type": "code",
   "execution_count": 58,
   "id": "6f86343e",
   "metadata": {},
   "outputs": [
    {
     "name": "stdout",
     "output_type": "stream",
     "text": [
      "True\n"
     ]
    }
   ],
   "source": [
    "print(55!=100)"
   ]
  },
  {
   "cell_type": "markdown",
   "id": "e6b38f20",
   "metadata": {},
   "source": [
    "## Logical Operators"
   ]
  },
  {
   "cell_type": "code",
   "execution_count": null,
   "id": "271f0635",
   "metadata": {},
   "outputs": [],
   "source": [
    "and\n",
    "or\n",
    "not\n"
   ]
  },
  {
   "cell_type": "code",
   "execution_count": 59,
   "id": "88f8d24b",
   "metadata": {},
   "outputs": [
    {
     "name": "stdout",
     "output_type": "stream",
     "text": [
      "True\n"
     ]
    }
   ],
   "source": [
    "print(33>22 and 44<55)"
   ]
  },
  {
   "cell_type": "code",
   "execution_count": 60,
   "id": "3674fe1f",
   "metadata": {},
   "outputs": [
    {
     "name": "stdout",
     "output_type": "stream",
     "text": [
      "False\n"
     ]
    }
   ],
   "source": [
    "print(33<22 and 44<55)"
   ]
  },
  {
   "cell_type": "code",
   "execution_count": 61,
   "id": "359903b5",
   "metadata": {},
   "outputs": [
    {
     "name": "stdout",
     "output_type": "stream",
     "text": [
      "True\n"
     ]
    }
   ],
   "source": [
    "print(55 > 44)"
   ]
  },
  {
   "cell_type": "code",
   "execution_count": 62,
   "id": "2187774d",
   "metadata": {},
   "outputs": [
    {
     "name": "stdout",
     "output_type": "stream",
     "text": [
      "False\n"
     ]
    }
   ],
   "source": [
    "print(not 55 > 44)"
   ]
  },
  {
   "cell_type": "code",
   "execution_count": 63,
   "id": "835f4c80",
   "metadata": {},
   "outputs": [
    {
     "name": "stdout",
     "output_type": "stream",
     "text": [
      "True\n"
     ]
    }
   ],
   "source": [
    "print(True)"
   ]
  },
  {
   "cell_type": "code",
   "execution_count": 64,
   "id": "1f4b8a7c",
   "metadata": {},
   "outputs": [
    {
     "name": "stdout",
     "output_type": "stream",
     "text": [
      "False\n"
     ]
    }
   ],
   "source": [
    "print(not True)"
   ]
  },
  {
   "cell_type": "code",
   "execution_count": 65,
   "id": "ff26659b",
   "metadata": {},
   "outputs": [
    {
     "name": "stdout",
     "output_type": "stream",
     "text": [
      "False\n"
     ]
    }
   ],
   "source": [
    "print(False)"
   ]
  },
  {
   "cell_type": "code",
   "execution_count": 66,
   "id": "362ce709",
   "metadata": {},
   "outputs": [
    {
     "name": "stdout",
     "output_type": "stream",
     "text": [
      "True\n"
     ]
    }
   ],
   "source": [
    "print(not False)"
   ]
  },
  {
   "cell_type": "code",
   "execution_count": 67,
   "id": "f5d742a7",
   "metadata": {},
   "outputs": [
    {
     "name": "stdout",
     "output_type": "stream",
     "text": [
      "True\n"
     ]
    }
   ],
   "source": [
    "print(33>22 and 44<55)"
   ]
  },
  {
   "cell_type": "code",
   "execution_count": 68,
   "id": "fead62ac",
   "metadata": {},
   "outputs": [
    {
     "name": "stdout",
     "output_type": "stream",
     "text": [
      "False\n"
     ]
    }
   ],
   "source": [
    "print(not (33>22 and 44<55))"
   ]
  },
  {
   "cell_type": "code",
   "execution_count": 71,
   "id": "adf3657d",
   "metadata": {},
   "outputs": [
    {
     "name": "stdout",
     "output_type": "stream",
     "text": [
      "True\n",
      "False\n",
      "True\n"
     ]
    }
   ],
   "source": [
    "print(33>22)\n",
    "print(44>55)\n",
    "\n",
    "print(33>22 or 44>55)"
   ]
  },
  {
   "cell_type": "code",
   "execution_count": 82,
   "id": "e9e615cd",
   "metadata": {},
   "outputs": [
    {
     "name": "stdout",
     "output_type": "stream",
     "text": [
      "True\n"
     ]
    }
   ],
   "source": [
    "print(33<22 or 44<55)"
   ]
  },
  {
   "cell_type": "code",
   "execution_count": 83,
   "id": "c90bac0f",
   "metadata": {},
   "outputs": [
    {
     "name": "stdout",
     "output_type": "stream",
     "text": [
      "True\n"
     ]
    }
   ],
   "source": [
    "print(not 33<22 or 44<55) # wrong usage of not. it will negate only forst condition"
   ]
  },
  {
   "cell_type": "code",
   "execution_count": 84,
   "id": "2d15a9e9",
   "metadata": {},
   "outputs": [
    {
     "name": "stdout",
     "output_type": "stream",
     "text": [
      "False\n"
     ]
    }
   ],
   "source": [
    "print(not (33<22 or 44<55))"
   ]
  },
  {
   "cell_type": "code",
   "execution_count": null,
   "id": "78dc493a",
   "metadata": {},
   "outputs": [],
   "source": []
  }
 ],
 "metadata": {
  "kernelspec": {
   "display_name": "Python 3 (ipykernel)",
   "language": "python",
   "name": "python3"
  },
  "language_info": {
   "codemirror_mode": {
    "name": "ipython",
    "version": 3
   },
   "file_extension": ".py",
   "mimetype": "text/x-python",
   "name": "python",
   "nbconvert_exporter": "python",
   "pygments_lexer": "ipython3",
   "version": "3.10.12"
  }
 },
 "nbformat": 4,
 "nbformat_minor": 5
}
