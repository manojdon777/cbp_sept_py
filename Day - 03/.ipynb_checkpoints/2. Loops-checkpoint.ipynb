{
 "cells": [
  {
   "cell_type": "markdown",
   "id": "268ec27b",
   "metadata": {},
   "source": [
    "### for loop"
   ]
  },
  {
   "cell_type": "code",
   "execution_count": null,
   "id": "12c19f04",
   "metadata": {},
   "outputs": [],
   "source": [
    "syntax\n",
    "for variable in iterable:\n"
   ]
  },
  {
   "cell_type": "code",
   "execution_count": null,
   "id": "16be1215",
   "metadata": {},
   "outputs": [],
   "source": [
    "iterable-\n",
    "    - list\n",
    "    - tuple\n",
    "    - str\n",
    "    - set\n",
    "    - frozenset\n",
    "    - dict\n",
    "    "
   ]
  },
  {
   "cell_type": "code",
   "execution_count": 1,
   "id": "40433ded",
   "metadata": {},
   "outputs": [
    {
     "name": "stdout",
     "output_type": "stream",
     "text": [
      "1\n",
      "2\n",
      "3\n",
      "4\n",
      "5\n",
      "6\n",
      "7\n",
      "8\n",
      "9\n"
     ]
    }
   ],
   "source": [
    "list1 = [1,2,3,4,5,6,7,8,9]\n",
    "for i in list1:\n",
    "    print(i)"
   ]
  },
  {
   "cell_type": "code",
   "execution_count": 2,
   "id": "4f38271e",
   "metadata": {},
   "outputs": [
    {
     "name": "stdout",
     "output_type": "stream",
     "text": [
      "1,2,3,4,5,6,7,8,9,"
     ]
    }
   ],
   "source": [
    "list1 = [1,2,3,4,5,6,7,8,9]\n",
    "for i in list1:\n",
    "    print(i, end=',')"
   ]
  },
  {
   "cell_type": "code",
   "execution_count": 4,
   "id": "bd5c3531",
   "metadata": {},
   "outputs": [
    {
     "name": "stdout",
     "output_type": "stream",
     "text": [
      "1,1\n",
      "2,2\n",
      "3,3\n",
      "4,4\n",
      "5,5\n",
      "6,6\n",
      "7,7\n",
      "8,8\n",
      "9,9\n"
     ]
    }
   ],
   "source": [
    "list1 = [1,2,3,4,5,6,7,8,9]\n",
    "for i in list1:\n",
    "    print(i,i, sep=',')"
   ]
  },
  {
   "cell_type": "code",
   "execution_count": 6,
   "id": "0867c167",
   "metadata": {},
   "outputs": [
    {
     "name": "stdout",
     "output_type": "stream",
     "text": [
      "1 2 3 4 5 6 7 8 9 "
     ]
    }
   ],
   "source": [
    "list1 = [1,2,3,4,5,6,7,8,9]\n",
    "for index in range(9):\n",
    "    print(list1[index], end=' ')"
   ]
  },
  {
   "cell_type": "code",
   "execution_count": 7,
   "id": "8ebb544f",
   "metadata": {},
   "outputs": [
    {
     "name": "stdout",
     "output_type": "stream",
     "text": [
      "111 222 333 444 555 666 777 888 999 "
     ]
    }
   ],
   "source": [
    "list1 = [111,222,333,444,555,666,777,888,999]\n",
    "for index in range(9):\n",
    "    print(list1[index], end=' ')"
   ]
  },
  {
   "cell_type": "code",
   "execution_count": 8,
   "id": "2cc75f5a",
   "metadata": {},
   "outputs": [
    {
     "name": "stdout",
     "output_type": "stream",
     "text": [
      "111 222 333 444 555 666 777 888 999 "
     ]
    }
   ],
   "source": [
    "list1 = [111,222,333,444,555,666,777,888,999]\n",
    "for item in list1:\n",
    "    print(item, end=' ')"
   ]
  },
  {
   "cell_type": "markdown",
   "id": "4e835347",
   "metadata": {},
   "source": [
    "## range()"
   ]
  },
  {
   "cell_type": "code",
   "execution_count": null,
   "id": "60921f80",
   "metadata": {},
   "outputs": [],
   "source": [
    "range(length)\n",
    "range(start, end)\n",
    "range(start, end, step)"
   ]
  },
  {
   "cell_type": "code",
   "execution_count": null,
   "id": "f5f78eb8",
   "metadata": {},
   "outputs": [],
   "source": [
    "range(length)\n",
    " o to length-1\n",
    "dafault values\n",
    "    start = 0\n",
    "    step = 1"
   ]
  },
  {
   "cell_type": "code",
   "execution_count": 11,
   "id": "a22c0c90",
   "metadata": {},
   "outputs": [
    {
     "name": "stdout",
     "output_type": "stream",
     "text": [
      "0 1 2 3 4 5 6 7 8 "
     ]
    }
   ],
   "source": [
    "for i in range(9):\n",
    "    print(i, end=' ')"
   ]
  },
  {
   "cell_type": "code",
   "execution_count": 13,
   "id": "51f60238",
   "metadata": {},
   "outputs": [
    {
     "name": "stdout",
     "output_type": "stream",
     "text": [
      "0 1 2 3 "
     ]
    }
   ],
   "source": [
    "for i in range(4):\n",
    "    print(i, end=' ')"
   ]
  },
  {
   "cell_type": "code",
   "execution_count": 20,
   "id": "77033abc",
   "metadata": {},
   "outputs": [
    {
     "name": "stdout",
     "output_type": "stream",
     "text": [
      "Lets repeat this statement\n",
      "Lets repeat this statement\n",
      "Lets repeat this statement\n",
      "Lets repeat this statement\n",
      "Lets repeat this statement\n",
      "Lets repeat this statement\n",
      "Lets repeat this statement\n",
      "Lets repeat this statement\n",
      "Lets repeat this statement\n",
      "Lets repeat this statement\n"
     ]
    }
   ],
   "source": [
    "for i in range(10):\n",
    "    print('Lets repeat this statement')"
   ]
  },
  {
   "cell_type": "code",
   "execution_count": 23,
   "id": "fcb498e4",
   "metadata": {},
   "outputs": [
    {
     "name": "stdout",
     "output_type": "stream",
     "text": [
      "Lets repeat this statement 1\n",
      "Lets repeat this statement 2\n",
      "Lets repeat this statement 3\n",
      "Lets repeat this statement 4\n",
      "Lets repeat this statement 5\n",
      "Lets repeat this statement 6\n",
      "Lets repeat this statement 7\n",
      "Lets repeat this statement 8\n",
      "Lets repeat this statement 9\n",
      "Lets repeat this statement 10\n"
     ]
    }
   ],
   "source": [
    "count = 1\n",
    "for _ in range(10):\n",
    "    print('Lets repeat this statement', count)\n",
    "    count += 1"
   ]
  },
  {
   "cell_type": "code",
   "execution_count": 24,
   "id": "598f70da",
   "metadata": {},
   "outputs": [
    {
     "name": "stdout",
     "output_type": "stream",
     "text": [
      "1 Lets repeat this statement\n",
      "2 Lets repeat this statement\n",
      "3 Lets repeat this statement\n",
      "4 Lets repeat this statement\n",
      "5 Lets repeat this statement\n",
      "6 Lets repeat this statement\n",
      "7 Lets repeat this statement\n",
      "8 Lets repeat this statement\n",
      "9 Lets repeat this statement\n",
      "10 Lets repeat this statement\n"
     ]
    }
   ],
   "source": [
    "count = 1\n",
    "for _ in range(10):\n",
    "    print(count, 'Lets repeat this statement')\n",
    "    count += 1"
   ]
  },
  {
   "cell_type": "code",
   "execution_count": 22,
   "id": "5509b51d",
   "metadata": {},
   "outputs": [
    {
     "name": "stdout",
     "output_type": "stream",
     "text": [
      "78\n"
     ]
    }
   ],
   "source": [
    "_marks = 78\n",
    "print(_marks)"
   ]
  },
  {
   "cell_type": "code",
   "execution_count": null,
   "id": "a4575335",
   "metadata": {},
   "outputs": [],
   "source": []
  },
  {
   "cell_type": "code",
   "execution_count": 17,
   "id": "469bc52a",
   "metadata": {},
   "outputs": [
    {
     "name": "stdout",
     "output_type": "stream",
     "text": [
      "A B C D E F G H I J K L M N O P Q R S T U V W X Y Z "
     ]
    }
   ],
   "source": [
    "\n",
    "char = 'A'\n",
    "for i in range(26):\n",
    "    print(chr(ord(char) + i), end=' ')"
   ]
  },
  {
   "cell_type": "code",
   "execution_count": 16,
   "id": "0b366304",
   "metadata": {},
   "outputs": [
    {
     "data": {
      "text/plain": [
       "65"
      ]
     },
     "execution_count": 16,
     "metadata": {},
     "output_type": "execute_result"
    }
   ],
   "source": [
    "ord('A')"
   ]
  },
  {
   "cell_type": "code",
   "execution_count": 18,
   "id": "dadc6cf6",
   "metadata": {},
   "outputs": [
    {
     "data": {
      "text/plain": [
       "53"
      ]
     },
     "execution_count": 18,
     "metadata": {},
     "output_type": "execute_result"
    }
   ],
   "source": [
    "ord('5')"
   ]
  },
  {
   "cell_type": "code",
   "execution_count": 19,
   "id": "1b86a267",
   "metadata": {},
   "outputs": [
    {
     "data": {
      "text/plain": [
       "'5'"
      ]
     },
     "execution_count": 19,
     "metadata": {},
     "output_type": "execute_result"
    }
   ],
   "source": [
    "chr(53)"
   ]
  },
  {
   "cell_type": "code",
   "execution_count": null,
   "id": "af5e50b4",
   "metadata": {},
   "outputs": [],
   "source": []
  },
  {
   "cell_type": "code",
   "execution_count": null,
   "id": "d50beae8",
   "metadata": {},
   "outputs": [],
   "source": [
    "range(start, end)\n",
    "end is excluded means range is from start to end-1\n",
    "\n",
    "dafault values\n",
    "step = 1"
   ]
  },
  {
   "cell_type": "code",
   "execution_count": 26,
   "id": "a5437a82",
   "metadata": {},
   "outputs": [
    {
     "name": "stdout",
     "output_type": "stream",
     "text": [
      "23 24 25 26 27 28 29 30 31 32 33 34 35 36 37 38 39 40 41 42 43 44 45 46 47 48 "
     ]
    }
   ],
   "source": [
    "for i in range(23, 49):\n",
    "    print(i, end=' ')"
   ]
  },
  {
   "cell_type": "code",
   "execution_count": 71,
   "id": "050f53a0",
   "metadata": {},
   "outputs": [
    {
     "name": "stdout",
     "output_type": "stream",
     "text": [
      "23 24 25 26 27 28 29 30 31 32 33 34 35 36 37 38 39 40 41 42 43 44 45 46 47 48 "
     ]
    }
   ],
   "source": [
    "for i in range(23, 49):\n",
    "    print(i, end=' ')"
   ]
  },
  {
   "cell_type": "code",
   "execution_count": null,
   "id": "1ff0a412",
   "metadata": {},
   "outputs": [],
   "source": []
  },
  {
   "cell_type": "code",
   "execution_count": 27,
   "id": "808ef4c8",
   "metadata": {},
   "outputs": [],
   "source": [
    "for i in range(49, 23):\n",
    "    print(i, end=' ') # no output"
   ]
  },
  {
   "cell_type": "code",
   "execution_count": 28,
   "id": "13be7671",
   "metadata": {},
   "outputs": [],
   "source": [
    "for i in range(23, 23):\n",
    "    print(i, end=' ') # no output"
   ]
  },
  {
   "cell_type": "code",
   "execution_count": null,
   "id": "3e737c95",
   "metadata": {},
   "outputs": [],
   "source": []
  },
  {
   "cell_type": "code",
   "execution_count": null,
   "id": "54678dff",
   "metadata": {},
   "outputs": [],
   "source": [
    "range(start, end, step)"
   ]
  },
  {
   "cell_type": "code",
   "execution_count": 30,
   "id": "e40a60df",
   "metadata": {},
   "outputs": [
    {
     "name": "stdout",
     "output_type": "stream",
     "text": [
      "1 2 3 4 5 6 7 8 9 "
     ]
    }
   ],
   "source": [
    "for i in range(1,10):\n",
    "    print(i, end=' ')"
   ]
  },
  {
   "cell_type": "code",
   "execution_count": 31,
   "id": "80923101",
   "metadata": {},
   "outputs": [
    {
     "name": "stdout",
     "output_type": "stream",
     "text": [
      "1 2 3 4 5 6 7 8 9 "
     ]
    }
   ],
   "source": [
    "for i in range(1,10, 1):\n",
    "    print(i, end=' ')"
   ]
  },
  {
   "cell_type": "code",
   "execution_count": 32,
   "id": "28ed1418",
   "metadata": {},
   "outputs": [
    {
     "name": "stdout",
     "output_type": "stream",
     "text": [
      "1 3 5 7 9 "
     ]
    }
   ],
   "source": [
    "for i in range(1,10, 2):\n",
    "    print(i, end=' ')"
   ]
  },
  {
   "cell_type": "code",
   "execution_count": 36,
   "id": "928b9866",
   "metadata": {},
   "outputs": [
    {
     "name": "stdout",
     "output_type": "stream",
     "text": [
      "2 4 6 8 10 12 14 16 18 "
     ]
    }
   ],
   "source": [
    "for i in range(2,20, 2):\n",
    "    print(i, end=' ')"
   ]
  },
  {
   "cell_type": "code",
   "execution_count": 37,
   "id": "05c3b3a5",
   "metadata": {},
   "outputs": [
    {
     "name": "stdout",
     "output_type": "stream",
     "text": [
      "3 5 7 9 11 13 15 17 19 "
     ]
    }
   ],
   "source": [
    "for i in range(2,20, 2):\n",
    "    print(i+1, end=' ')"
   ]
  },
  {
   "cell_type": "code",
   "execution_count": 39,
   "id": "ad0e4315",
   "metadata": {},
   "outputs": [
    {
     "name": "stdout",
     "output_type": "stream",
     "text": [
      "1 256 511 766 "
     ]
    }
   ],
   "source": [
    "for i in range(1,1000, 255):\n",
    "    print(i, end=' ')"
   ]
  },
  {
   "cell_type": "code",
   "execution_count": 40,
   "id": "d9e194bf",
   "metadata": {},
   "outputs": [
    {
     "name": "stdout",
     "output_type": "stream",
     "text": [
      "1 256 511 766 1021 1276 1531 1786 2041 2296 2551 2806 3061 3316 3571 3826 4081 4336 4591 4846 5101 5356 5611 5866 6121 6376 6631 6886 7141 7396 7651 7906 8161 8416 8671 8926 9181 9436 9691 9946 "
     ]
    }
   ],
   "source": [
    "for i in range(1,10000, 255):\n",
    "    print(i, end=' ')"
   ]
  },
  {
   "cell_type": "code",
   "execution_count": 41,
   "id": "48fddc43",
   "metadata": {},
   "outputs": [
    {
     "name": "stdout",
     "output_type": "stream",
     "text": [
      "40\n"
     ]
    }
   ],
   "source": [
    "counter = 0\n",
    "for i in range(1,10000, 255):\n",
    "    counter += 1\n",
    "print(counter)"
   ]
  },
  {
   "cell_type": "code",
   "execution_count": 44,
   "id": "9fd322cf",
   "metadata": {},
   "outputs": [
    {
     "ename": "IndentationError",
     "evalue": "unexpected indent (192829267.py, line 4)",
     "output_type": "error",
     "traceback": [
      "\u001b[0;36m  File \u001b[0;32m\"/tmp/ipykernel_258688/192829267.py\"\u001b[0;36m, line \u001b[0;32m4\u001b[0m\n\u001b[0;31m    index += 1\u001b[0m\n\u001b[0m    ^\u001b[0m\n\u001b[0;31mIndentationError\u001b[0m\u001b[0;31m:\u001b[0m unexpected indent\n"
     ]
    }
   ],
   "source": [
    "index = 0\n",
    "for _ in range(10):\n",
    "    print(index, end=' ')\n",
    "     index += 1"
   ]
  },
  {
   "cell_type": "code",
   "execution_count": 45,
   "id": "cc43c5a0",
   "metadata": {},
   "outputs": [
    {
     "name": "stdout",
     "output_type": "stream",
     "text": [
      "0 1 2 3 4 5 6 7 8 9 "
     ]
    }
   ],
   "source": [
    "index = 0\n",
    "for _ in range(10):\n",
    " print(index, end=' ')\n",
    " index += 1"
   ]
  },
  {
   "cell_type": "code",
   "execution_count": 49,
   "id": "2a1bbb80",
   "metadata": {},
   "outputs": [
    {
     "name": "stdout",
     "output_type": "stream",
     "text": [
      "0 0 0 0 0 0 0 0 0 0 \n",
      "index = 1\n"
     ]
    }
   ],
   "source": [
    "index = 0\n",
    "for _ in range(10):\n",
    " print(index, end=' ')\n",
    "index += 1\n",
    "print('\\nindex =', index)"
   ]
  },
  {
   "cell_type": "code",
   "execution_count": 69,
   "id": "19ec8bbe",
   "metadata": {},
   "outputs": [
    {
     "name": "stdout",
     "output_type": "stream",
     "text": [
      "\n",
      "A \n",
      "A b \n",
      "A b C \n",
      "A b C d \n",
      "A b C d E \n",
      "A b C d E f \n",
      "A b C d E f G \n",
      "A b C d E f G h \n",
      "A b C d E f G h I \n"
     ]
    }
   ],
   "source": [
    "'''\n",
    "A \n",
    "A b \n",
    "A b C \n",
    "A b C d \n",
    "A b C d E \n",
    "A b C d E f \n",
    "A b C d E f G \n",
    "A b C d E f G h \n",
    "A b C d E f G h I \n",
    "'''\n",
    "\n",
    "char = 'A'\n",
    "n = 10\n",
    "\n",
    "\n",
    "for i in range(n):\n",
    "    boolean = True\n",
    "    for i in range(i):\n",
    "        if boolean == True:\n",
    "            print(chr(ord(char) + i), end=' ')\n",
    "            boolean = False\n",
    "        else:\n",
    "            print(chr(ord(char) + i + 32), end=' ')\n",
    "            boolean = True\n",
    "    print()    "
   ]
  },
  {
   "cell_type": "code",
   "execution_count": 54,
   "id": "87c5cd51",
   "metadata": {},
   "outputs": [
    {
     "name": "stdout",
     "output_type": "stream",
     "text": [
      "-32\n"
     ]
    }
   ],
   "source": [
    "print(ord('A') - ord('a'))"
   ]
  },
  {
   "cell_type": "code",
   "execution_count": 62,
   "id": "eb97e30a",
   "metadata": {},
   "outputs": [
    {
     "name": "stdout",
     "output_type": "stream",
     "text": [
      "Aman Baman Raman\n"
     ]
    }
   ],
   "source": [
    "print('Aman', 'Baman', 'Raman')"
   ]
  },
  {
   "cell_type": "code",
   "execution_count": 64,
   "id": "5cf829a1",
   "metadata": {},
   "outputs": [
    {
     "name": "stdout",
     "output_type": "stream",
     "text": [
      "Aman Baman Raman\n"
     ]
    }
   ],
   "source": [
    "print('Aman', 'Baman', 'Raman', sep=' ')"
   ]
  },
  {
   "cell_type": "code",
   "execution_count": 65,
   "id": "ddd8e47a",
   "metadata": {},
   "outputs": [
    {
     "name": "stdout",
     "output_type": "stream",
     "text": [
      "Aman---->Baman---->Raman\n"
     ]
    }
   ],
   "source": [
    "print('Aman', 'Baman', 'Raman', sep='---->')"
   ]
  },
  {
   "cell_type": "code",
   "execution_count": null,
   "id": "264c4dff",
   "metadata": {},
   "outputs": [],
   "source": []
  },
  {
   "cell_type": "code",
   "execution_count": null,
   "id": "162a0052",
   "metadata": {},
   "outputs": [],
   "source": []
  },
  {
   "cell_type": "code",
   "execution_count": null,
   "id": "706ba4fb",
   "metadata": {},
   "outputs": [],
   "source": []
  },
  {
   "cell_type": "code",
   "execution_count": null,
   "id": "189021d4",
   "metadata": {},
   "outputs": [],
   "source": []
  }
 ],
 "metadata": {
  "kernelspec": {
   "display_name": "Python 3 (ipykernel)",
   "language": "python",
   "name": "python3"
  },
  "language_info": {
   "codemirror_mode": {
    "name": "ipython",
    "version": 3
   },
   "file_extension": ".py",
   "mimetype": "text/x-python",
   "name": "python",
   "nbconvert_exporter": "python",
   "pygments_lexer": "ipython3",
   "version": "3.10.12"
  }
 },
 "nbformat": 4,
 "nbformat_minor": 5
}
