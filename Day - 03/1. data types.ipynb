{
 "cells": [
  {
   "cell_type": "markdown",
   "id": "27b40969",
   "metadata": {},
   "source": [
    "## Membership Operator"
   ]
  },
  {
   "cell_type": "code",
   "execution_count": null,
   "id": "89a71c00",
   "metadata": {},
   "outputs": [],
   "source": [
    "in, not in"
   ]
  },
  {
   "cell_type": "code",
   "execution_count": 2,
   "id": "b1952701",
   "metadata": {},
   "outputs": [
    {
     "name": "stdout",
     "output_type": "stream",
     "text": [
      "True\n"
     ]
    }
   ],
   "source": [
    "slogan = 'Give me blood, and I will give you freedom'\n",
    "print('G' in slogan )"
   ]
  },
  {
   "cell_type": "code",
   "execution_count": 3,
   "id": "e687c6e8",
   "metadata": {},
   "outputs": [
    {
     "name": "stdout",
     "output_type": "stream",
     "text": [
      "True\n"
     ]
    }
   ],
   "source": [
    "slogan = 'Give me blood, and I will give you freedom'\n",
    "print('blood' in slogan )"
   ]
  },
  {
   "cell_type": "code",
   "execution_count": 4,
   "id": "59a809cf",
   "metadata": {},
   "outputs": [
    {
     "name": "stdout",
     "output_type": "stream",
     "text": [
      "111 is present in list\n"
     ]
    }
   ],
   "source": [
    "list1 = [111,222,333,444]\n",
    "if 111 in list1:\n",
    "    print('111 is present in list')\n",
    "else:\n",
    "    print('111 not present in list')"
   ]
  },
  {
   "cell_type": "code",
   "execution_count": 5,
   "id": "607b6eeb",
   "metadata": {},
   "outputs": [
    {
     "name": "stdout",
     "output_type": "stream",
     "text": [
      "I is present in list\n"
     ]
    }
   ],
   "source": [
    "list_char = ['A', 'K', 'I', 'E', 'Q', 'S',]\n",
    "\n",
    "if 'I' not in list_char:\n",
    "    print('I is not present in list')\n",
    "else:\n",
    "    print('I is present in list')"
   ]
  },
  {
   "cell_type": "markdown",
   "id": "3f285452",
   "metadata": {},
   "source": [
    "## Bitwise Operator"
   ]
  },
  {
   "cell_type": "code",
   "execution_count": null,
   "id": "cfca38ad",
   "metadata": {},
   "outputs": [],
   "source": [
    "& bitwise anding\n",
    "| bitwise oring\n",
    "~ bitwise complementing"
   ]
  },
  {
   "cell_type": "code",
   "execution_count": 6,
   "id": "76418998",
   "metadata": {},
   "outputs": [
    {
     "name": "stdout",
     "output_type": "stream",
     "text": [
      "4\n"
     ]
    }
   ],
   "source": [
    "a = 5\n",
    "b = 6\n",
    "print(a & b)"
   ]
  },
  {
   "cell_type": "code",
   "execution_count": 7,
   "id": "00a75d64",
   "metadata": {},
   "outputs": [
    {
     "name": "stdout",
     "output_type": "stream",
     "text": [
      "59\n"
     ]
    }
   ],
   "source": [
    "a = 35\n",
    "b = 27\n",
    "print(a | b)"
   ]
  },
  {
   "cell_type": "code",
   "execution_count": 9,
   "id": "e6854d34",
   "metadata": {},
   "outputs": [
    {
     "name": "stdout",
     "output_type": "stream",
     "text": [
      "-36\n"
     ]
    }
   ],
   "source": [
    "num = 35\n",
    "print(~num)t"
   ]
  },
  {
   "cell_type": "code",
   "execution_count": 13,
   "id": "01c9c801",
   "metadata": {},
   "outputs": [
    {
     "name": "stdout",
     "output_type": "stream",
     "text": [
      "-128\n"
     ]
    }
   ],
   "source": [
    "print(~127)"
   ]
  },
  {
   "cell_type": "code",
   "execution_count": 14,
   "id": "41887fc0",
   "metadata": {},
   "outputs": [
    {
     "name": "stdout",
     "output_type": "stream",
     "text": [
      "-129\n"
     ]
    }
   ],
   "source": [
    "print(~128)"
   ]
  },
  {
   "cell_type": "code",
   "execution_count": null,
   "id": "79be53fd",
   "metadata": {},
   "outputs": [],
   "source": []
  },
  {
   "cell_type": "code",
   "execution_count": null,
   "id": "b91d1f52",
   "metadata": {},
   "outputs": [],
   "source": []
  },
  {
   "cell_type": "code",
   "execution_count": null,
   "id": "625f555c",
   "metadata": {},
   "outputs": [],
   "source": []
  },
  {
   "cell_type": "code",
   "execution_count": null,
   "id": "97a6ba67",
   "metadata": {},
   "outputs": [],
   "source": []
  },
  {
   "cell_type": "code",
   "execution_count": null,
   "id": "829e0e43",
   "metadata": {},
   "outputs": [],
   "source": []
  },
  {
   "cell_type": "markdown",
   "id": "e21bd1f9",
   "metadata": {},
   "source": [
    "## Membership Operator"
   ]
  },
  {
   "cell_type": "code",
   "execution_count": null,
   "id": "0512c071",
   "metadata": {},
   "outputs": [],
   "source": [
    "is\n",
    " -  to compare two objects"
   ]
  },
  {
   "cell_type": "code",
   "execution_count": 11,
   "id": "0ccb357f",
   "metadata": {},
   "outputs": [
    {
     "name": "stdout",
     "output_type": "stream",
     "text": [
      "True\n"
     ]
    },
    {
     "name": "stderr",
     "output_type": "stream",
     "text": [
      "<>:2: SyntaxWarning: \"is\" with a literal. Did you mean \"==\"?\n",
      "<>:2: SyntaxWarning: \"is\" with a literal. Did you mean \"==\"?\n",
      "/tmp/ipykernel_257093/3878386669.py:2: SyntaxWarning: \"is\" with a literal. Did you mean \"==\"?\n",
      "  print(marks is 34)\n"
     ]
    }
   ],
   "source": [
    "marks = 34\n",
    "print(marks is 34)"
   ]
  },
  {
   "cell_type": "code",
   "execution_count": 12,
   "id": "62d7dbcc",
   "metadata": {},
   "outputs": [
    {
     "name": "stdout",
     "output_type": "stream",
     "text": [
      "True\n"
     ]
    },
    {
     "name": "stderr",
     "output_type": "stream",
     "text": [
      "<>:2: SyntaxWarning: \"is\" with a literal. Did you mean \"==\"?\n",
      "<>:2: SyntaxWarning: \"is\" with a literal. Did you mean \"==\"?\n",
      "/tmp/ipykernel_257093/840226867.py:2: SyntaxWarning: \"is\" with a literal. Did you mean \"==\"?\n",
      "  print(name is 'cbp')\n"
     ]
    }
   ],
   "source": [
    "name = 'cbp'\n",
    "print(name is 'cbp')"
   ]
  },
  {
   "cell_type": "code",
   "execution_count": null,
   "id": "f99d1700",
   "metadata": {},
   "outputs": [],
   "source": []
  },
  {
   "cell_type": "code",
   "execution_count": null,
   "id": "0e2a15d9",
   "metadata": {},
   "outputs": [],
   "source": []
  },
  {
   "cell_type": "code",
   "execution_count": null,
   "id": "2c388115",
   "metadata": {},
   "outputs": [],
   "source": []
  }
 ],
 "metadata": {
  "kernelspec": {
   "display_name": "Python 3 (ipykernel)",
   "language": "python",
   "name": "python3"
  },
  "language_info": {
   "codemirror_mode": {
    "name": "ipython",
    "version": 3
   },
   "file_extension": ".py",
   "mimetype": "text/x-python",
   "name": "python",
   "nbconvert_exporter": "python",
   "pygments_lexer": "ipython3",
   "version": "3.10.12"
  }
 },
 "nbformat": 4,
 "nbformat_minor": 5
}
