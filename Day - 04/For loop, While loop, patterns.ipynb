{
 "cells": [
  {
   "cell_type": "markdown",
   "id": "7b1c92b3",
   "metadata": {},
   "source": [
    "## Indentations in loops"
   ]
  },
  {
   "cell_type": "code",
   "execution_count": 4,
   "id": "84e9a57c",
   "metadata": {},
   "outputs": [
    {
     "name": "stdout",
     "output_type": "stream",
     "text": [
      "first line\n",
      "dfdf\n",
      "0\n",
      "1\n",
      "2\n",
      "3\n",
      "4\n",
      "1\n",
      "2\n",
      "3\n",
      "4\n",
      "5\n",
      "6\n",
      "last line\n"
     ]
    }
   ],
   "source": [
    "def fun():\n",
    "\n",
    "    print('first line')\n",
    "\n",
    "    # Example 1: Simple While Loop\n",
    "    count = 0\n",
    "    print('dfdf')\n",
    "    while count < 5:\n",
    "        print(count)\n",
    "        count += 1\n",
    "\n",
    "    # Example 2: Using the `break` statement\n",
    "    number = 1\n",
    "    while True:\n",
    "        print(number)\n",
    "        number += 1\n",
    "        if number > 5:\n",
    "            break\n",
    "\n",
    "    # Example 3: Using the `continue` statement\n",
    "    i = 0\n",
    "    while i < 6:\n",
    "        i += 1\n",
    "        if i == 3:\n",
    "            continue\n",
    "    print(i)\n",
    "    print('last line')\n",
    "\n",
    "fun()"
   ]
  },
  {
   "cell_type": "code",
   "execution_count": null,
   "id": "6f6df609",
   "metadata": {},
   "outputs": [],
   "source": [
    "## different indentation in fun() and for loop is allowed\n",
    "def fun():\n",
    "  print('I am in function')\n",
    "  print('function ended')\n",
    "\n",
    "for i in range(10):\n",
    "\tprint(i, end=' ')\n",
    "\t\n",
    "\n",
    "for i in range(10):\n",
    "\tprint(i, end=' ')\n",
    "fun()"
   ]
  },
  {
   "cell_type": "code",
   "execution_count": null,
   "id": "819d21e0",
   "metadata": {},
   "outputs": [],
   "source": []
  },
  {
   "cell_type": "code",
   "execution_count": 8,
   "id": "9d9decdc",
   "metadata": {},
   "outputs": [
    {
     "name": "stdout",
     "output_type": "stream",
     "text": [
      "89\n"
     ]
    }
   ],
   "source": [
    "slogan = 'Freedom is our birthright! Unity in Diversity! India, where every heart beats with pride!'\n",
    "count = 0\n",
    "for i in slogan:\n",
    "    count += 1\n",
    "print(count)\n"
   ]
  },
  {
   "cell_type": "code",
   "execution_count": null,
   "id": "5bc00158",
   "metadata": {},
   "outputs": [],
   "source": []
  },
  {
   "cell_type": "code",
   "execution_count": 5,
   "id": "d814be7f",
   "metadata": {},
   "outputs": [
    {
     "name": "stdout",
     "output_type": "stream",
     "text": [
      "i is present\n"
     ]
    }
   ],
   "source": [
    "slogan = 'Freedom is our birthright! Unity in Diversity! India, where every heart beats with pride!'\n",
    "\n",
    "if 'i' in slogan:\n",
    "    print('i is present')"
   ]
  },
  {
   "cell_type": "code",
   "execution_count": null,
   "id": "8da858eb",
   "metadata": {},
   "outputs": [],
   "source": [
    "# Count following from string\n",
    "# \t1. Alphabets\n",
    "# \t2. Digits\n",
    "# \t3. Vowels\n",
    "# \t4. Consonents\n",
    "# \t5. Lower case chars\n",
    "# \t6. Upper case chars\n",
    "# \t7. Special symbols\n",
    "\n",
    "\n"
   ]
  },
  {
   "cell_type": "code",
   "execution_count": null,
   "id": "1899ddc6",
   "metadata": {},
   "outputs": [],
   "source": []
  }
 ],
 "metadata": {
  "kernelspec": {
   "display_name": "Python 3 (ipykernel)",
   "language": "python",
   "name": "python3"
  },
  "language_info": {
   "codemirror_mode": {
    "name": "ipython",
    "version": 3
   },
   "file_extension": ".py",
   "mimetype": "text/x-python",
   "name": "python",
   "nbconvert_exporter": "python",
   "pygments_lexer": "ipython3",
   "version": "3.10.12"
  }
 },
 "nbformat": 4,
 "nbformat_minor": 5
}
