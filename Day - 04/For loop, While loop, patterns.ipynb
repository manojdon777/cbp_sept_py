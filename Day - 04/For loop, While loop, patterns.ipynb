{
 "cells": [
  {
   "cell_type": "markdown",
   "id": "1dabd513",
   "metadata": {},
   "source": [
    "## Indentations in loops"
   ]
  },
  {
   "cell_type": "code",
   "execution_count": 4,
   "id": "dc42910e",
   "metadata": {},
   "outputs": [
    {
     "name": "stdout",
     "output_type": "stream",
     "text": [
      "first line\n",
      "dfdf\n",
      "0\n",
      "1\n",
      "2\n",
      "3\n",
      "4\n",
      "1\n",
      "2\n",
      "3\n",
      "4\n",
      "5\n",
      "6\n",
      "last line\n"
     ]
    }
   ],
   "source": [
    "def fun():\n",
    "\n",
    "    print('first line')\n",
    "\n",
    "    # Example 1: Simple While Loop\n",
    "    count = 0\n",
    "    print('dfdf')\n",
    "    while count < 5:\n",
    "        print(count)\n",
    "        count += 1\n",
    "\n",
    "    # Example 2: Using the `break` statement\n",
    "    number = 1\n",
    "    while True:\n",
    "        print(number)\n",
    "        number += 1\n",
    "        if number > 5:\n",
    "            break\n",
    "\n",
    "    # Example 3: Using the `continue` statement\n",
    "    i = 0\n",
    "    while i < 6:\n",
    "        i += 1\n",
    "        if i == 3:\n",
    "            continue\n",
    "    print(i)\n",
    "    print('last line')\n",
    "\n",
    "fun()"
   ]
  },
  {
   "cell_type": "code",
   "execution_count": null,
   "id": "7ad42fd8",
   "metadata": {},
   "outputs": [],
   "source": [
    "## different indentation in fun() and for loop is allowed\n",
    "def fun():\n",
    "  print('I am in function')\n",
    "  print('function ended')\n",
    "\n",
    "for i in range(10):\n",
    "\tprint(i, end=' ')\n",
    "\t\n",
    "\n",
    "for i in range(10):\n",
    "\tprint(i, end=' ')\n",
    "fun()"
   ]
  },
  {
   "cell_type": "code",
   "execution_count": null,
   "id": "96ee330c",
   "metadata": {},
   "outputs": [],
   "source": []
  },
  {
   "cell_type": "code",
   "execution_count": 8,
   "id": "7591d948",
   "metadata": {},
   "outputs": [
    {
     "name": "stdout",
     "output_type": "stream",
     "text": [
      "89\n"
     ]
    }
   ],
   "source": [
    "slogan = 'Freedom is our birthright! Unity in Diversity! India, where every heart beats with pride!'\n",
    "count = 0\n",
    "for i in slogan:\n",
    "    count += 1\n",
    "print(count)\n"
   ]
  },
  {
   "cell_type": "code",
   "execution_count": null,
   "id": "24d5873d",
   "metadata": {},
   "outputs": [],
   "source": []
  },
  {
   "cell_type": "code",
   "execution_count": 5,
   "id": "ef99be04",
   "metadata": {},
   "outputs": [
    {
     "name": "stdout",
     "output_type": "stream",
     "text": [
      "i is present\n"
     ]
    }
   ],
   "source": [
    "slogan = 'Freedom is our birthright! Unity in Diversity! India, where every heart beats with pride!'\n",
    "\n",
    "if 'i' in slogan:\n",
    "    print('i is present')"
   ]
  },
  {
   "cell_type": "code",
   "execution_count": 30,
   "id": "0e9b27db",
   "metadata": {},
   "outputs": [
    {
     "name": "stdout",
     "output_type": "stream",
     "text": [
      "String lenght = 529\n",
      "Alphabets = 389\n",
      "Digits = 28\n",
      "Vowels = 146\n",
      "Consonents = 243\n",
      "Lowercase = 349\n",
      "Uppercase = 40\n",
      "Special symbol = 15\n"
     ]
    }
   ],
   "source": [
    "# Count following from string\n",
    "# \t1. Alphabets\n",
    "# \t2. Digits\n",
    "# \t3. Vowels\n",
    "# \t4. Consonents\n",
    "# \t5. Lower case chars\n",
    "# \t6. Upper case chars\n",
    "# \t7. Special symbols\n",
    "\n",
    "\n",
    "string = \"\"\"Key Milestones\n",
    "\n",
    "    1988: CDAC established as a scientific society of the Ministry of Electronics and Information Technology, Government of India.\n",
    "    1990: CDAC develops India 's first supercomputer, the PARAM 8000.\n",
    "    1992: CDAC establishes its first center outside Pune, in Mumbai.\n",
    "    2000: CDAC initiates research projects in areas such as artificial intelligence and data analytics.\n",
    "    2010: CDAC establishes its first laboratory for cybersecurity research.\n",
    "    2015: CDAC launches its first startup accelerator program.\n",
    "\"\"\"\n",
    "alpha = 0\n",
    "str_len = 0\n",
    "digits = 0\n",
    "vowels = 0\n",
    "consonents = 0\n",
    "lowercase = 0\n",
    "uppercase = 0\n",
    "special_symbol = 0\n",
    "\n",
    "for char in string:\n",
    "    str_len += 1\n",
    "print('String lenght =', str_len)\n",
    "\n",
    "for char in string:\n",
    "    if char >= 'A' and char <= 'Z' or char >= 'a' and char <= 'z':\n",
    "        alpha += 1\n",
    "print('Alphabets =', alpha)\n",
    "\n",
    "for char in string:\n",
    "    if char >= '0' and char <= '9':\n",
    "        digits += 1\n",
    "print('Digits =', digits)\n",
    "\n",
    "\n",
    "for char in string:\n",
    "    if char in ['a','e','i','o','u','A','E','I','O','U',]:\n",
    "        vowels += 1\n",
    "print('Vowels =', vowels)\n",
    "\n",
    "for char in string:\n",
    "    if char >= 'A' and char <= 'Z' or char >= 'a' and char <= 'z':\n",
    "        if char not in ['a','e','i','o','u','A','E','I','O','U',]:\n",
    "            consonents += 1\n",
    "print('Consonents =', consonents)\n",
    "\n",
    "for char in string:\n",
    "    if char >= 'a' and char <= 'z':\n",
    "        lowercase += 1\n",
    "print('Lowercase =', lowercase)\n",
    "\n",
    "for char in string:\n",
    "    if char >= 'A' and char <= 'Z':\n",
    "        uppercase += 1\n",
    "print('Uppercase =', uppercase)\n",
    "\n",
    "special_symbol_list = '~!@#$%^&*()+=-_,.<>;:[]{}\\/?'\n",
    "for char in string:\n",
    "    if char in special_symbol_list:\n",
    "        special_symbol += 1\n",
    "print('Special symbol =', special_symbol)\n"
   ]
  },
  {
   "cell_type": "code",
   "execution_count": 33,
   "id": "21989f29",
   "metadata": {},
   "outputs": [
    {
     "name": "stdout",
     "output_type": "stream",
     "text": [
      "Cdac@123\n",
      "String lenght = 8\n",
      "Alphabets = 4\n",
      "Digits = 3\n",
      "Vowels = 1\n",
      "Consonents = 3\n",
      "Lowercase = 3\n",
      "Uppercase = 1\n",
      "Special symbol = 1\n"
     ]
    }
   ],
   "source": [
    "# Count following from string\n",
    "# \t1. Alphabets\n",
    "# \t2. Digits\n",
    "# \t3. Vowels\n",
    "# \t4. Consonents\n",
    "# \t5. Lower case chars\n",
    "# \t6. Upper case chars\n",
    "# \t7. Special symbols\n",
    "\n",
    "\n",
    "string = 'Cdac@123'\n",
    "alpha = 0\n",
    "str_len = 0\n",
    "digits = 0\n",
    "vowels = 0\n",
    "consonents = 0\n",
    "lowercase = 0\n",
    "uppercase = 0\n",
    "special_symbol = 0\n",
    "\n",
    "print(string)\n",
    "\n",
    "for char in string:\n",
    "    str_len += 1\n",
    "print('String lenght =', str_len)\n",
    "\n",
    "for char in string:\n",
    "    if char >= 'A' and char <= 'Z' or char >= 'a' and char <= 'z':\n",
    "        alpha += 1\n",
    "print('Alphabets =', alpha)\n",
    "\n",
    "for char in string:\n",
    "    if char >= '0' and char <= '9':\n",
    "        digits += 1\n",
    "print('Digits =', digits)\n",
    "\n",
    "\n",
    "for char in string:\n",
    "    if char in ['a','e','i','o','u','A','E','I','O','U',]:\n",
    "        vowels += 1\n",
    "print('Vowels =', vowels)\n",
    "\n",
    "for char in string:\n",
    "    if char >= 'A' and char <= 'Z' or char >= 'a' and char <= 'z':\n",
    "        if char not in ['a','e','i','o','u','A','E','I','O','U',]:\n",
    "            consonents += 1\n",
    "print('Consonents =', consonents)\n",
    "\n",
    "for char in string:\n",
    "    if char >= 'a' and char <= 'z':\n",
    "        lowercase += 1\n",
    "print('Lowercase =', lowercase)\n",
    "\n",
    "for char in string:\n",
    "    if char >= 'A' and char <= 'Z':\n",
    "        uppercase += 1\n",
    "print('Uppercase =', uppercase)\n",
    "\n",
    "\n",
    "special_symbol_list = '~!@#$%^&*()+=-_,.<>;:[]{}\\/? '\n",
    "for char in string:\n",
    "    if char in special_symbol_list:\n",
    "        special_symbol += 1\n",
    "print('Special symbol =', special_symbol)\n"
   ]
  },
  {
   "cell_type": "code",
   "execution_count": 34,
   "id": "ee3a7ffd",
   "metadata": {},
   "outputs": [
    {
     "name": "stdout",
     "output_type": "stream",
     "text": [
      "0 0\n",
      "0 1\n",
      "0 2\n",
      "0 3\n",
      "0 4\n",
      "0 5\n",
      "0 6\n",
      "1 0\n",
      "1 1\n",
      "1 2\n",
      "1 3\n",
      "1 4\n",
      "1 5\n",
      "1 6\n",
      "2 0\n",
      "2 1\n",
      "2 2\n",
      "2 3\n",
      "2 4\n",
      "2 5\n",
      "2 6\n",
      "3 0\n",
      "3 1\n",
      "3 2\n",
      "3 3\n",
      "3 4\n",
      "3 5\n",
      "3 6\n",
      "4 0\n",
      "4 1\n",
      "4 2\n",
      "4 3\n",
      "4 4\n",
      "4 5\n",
      "4 6\n",
      "5 0\n",
      "5 1\n",
      "5 2\n",
      "5 3\n",
      "5 4\n",
      "5 5\n",
      "5 6\n",
      "6 0\n",
      "6 1\n",
      "6 2\n",
      "6 3\n",
      "6 4\n",
      "6 5\n",
      "6 6\n"
     ]
    }
   ],
   "source": [
    "n =  7\n",
    "for i in range(n):\n",
    "    for j in range(n):\n",
    "        print(i,j)"
   ]
  },
  {
   "cell_type": "code",
   "execution_count": 35,
   "id": "6b376c9d",
   "metadata": {},
   "outputs": [
    {
     "name": "stdout",
     "output_type": "stream",
     "text": [
      "0 0\n",
      "1 0\n",
      "2 0\n",
      "3 0\n",
      "4 0\n",
      "5 0\n",
      "6 0\n",
      "0 1\n",
      "1 1\n",
      "2 1\n",
      "3 1\n",
      "4 1\n",
      "5 1\n",
      "6 1\n",
      "0 2\n",
      "1 2\n",
      "2 2\n",
      "3 2\n",
      "4 2\n",
      "5 2\n",
      "6 2\n",
      "0 3\n",
      "1 3\n",
      "2 3\n",
      "3 3\n",
      "4 3\n",
      "5 3\n",
      "6 3\n",
      "0 4\n",
      "1 4\n",
      "2 4\n",
      "3 4\n",
      "4 4\n",
      "5 4\n",
      "6 4\n",
      "0 5\n",
      "1 5\n",
      "2 5\n",
      "3 5\n",
      "4 5\n",
      "5 5\n",
      "6 5\n",
      "0 6\n",
      "1 6\n",
      "2 6\n",
      "3 6\n",
      "4 6\n",
      "5 6\n",
      "6 6\n"
     ]
    }
   ],
   "source": [
    "n =  7\n",
    "for i in range(n):\n",
    "    for j in range(n):\n",
    "        print(j, i)"
   ]
  },
  {
   "cell_type": "code",
   "execution_count": 37,
   "id": "e4cbe666",
   "metadata": {},
   "outputs": [
    {
     "name": "stdout",
     "output_type": "stream",
     "text": [
      "* * * * * * * * * * * * * * * * * * * * * * * * * * * * * * * * * * * * * * * * * * * * * * * * * "
     ]
    }
   ],
   "source": [
    "n =  7\n",
    "for i in range(n):\n",
    "    for j in range(n):\n",
    "        print('*', end=' ')"
   ]
  },
  {
   "cell_type": "code",
   "execution_count": 38,
   "id": "cbded08d",
   "metadata": {},
   "outputs": [
    {
     "name": "stdout",
     "output_type": "stream",
     "text": [
      "* * * * * * * \n",
      "* * * * * * * \n",
      "* * * * * * * \n",
      "* * * * * * * \n",
      "* * * * * * * \n",
      "* * * * * * * \n",
      "* * * * * * * \n"
     ]
    }
   ],
   "source": [
    "n =  7\n",
    "for i in range(n):\n",
    "    for j in range(n):\n",
    "        print('*', end=' ')\n",
    "    print()"
   ]
  },
  {
   "cell_type": "code",
   "execution_count": 42,
   "id": "faae1e6d",
   "metadata": {},
   "outputs": [
    {
     "name": "stdout",
     "output_type": "stream",
     "text": [
      "* * * * * * *  \n",
      "* * * * * * *  \n",
      "* * * * * * *  \n",
      "* * * * * * *  \n",
      "* * * * * * *  \n",
      "* * * * * * *  \n",
      "* * * * * * *  \n"
     ]
    }
   ],
   "source": [
    "n = 7\n",
    "for i in range(n):\n",
    "    print('* ' * n, end=' ')\n",
    "    print()"
   ]
  },
  {
   "cell_type": "code",
   "execution_count": 43,
   "id": "3739cd20",
   "metadata": {},
   "outputs": [
    {
     "name": "stdout",
     "output_type": "stream",
     "text": [
      "*******\n",
      "*******\n",
      "*******\n",
      "*******\n",
      "*******\n",
      "*******\n",
      "*******\n"
     ]
    }
   ],
   "source": [
    "n =  7\n",
    "for i in range(n):\n",
    "    for j in range(n):\n",
    "        print('*', end='')\n",
    "    print()"
   ]
  },
  {
   "cell_type": "code",
   "execution_count": 47,
   "id": "1972ed50",
   "metadata": {},
   "outputs": [
    {
     "name": "stdout",
     "output_type": "stream",
     "text": [
      "******* \n",
      "******* \n",
      "******* \n",
      "******* \n",
      "******* \n",
      "******* \n",
      "******* \n"
     ]
    }
   ],
   "source": [
    "n = 7\n",
    "for i in range(n):\n",
    "    print('*' * n, end=' ')\n",
    "    print()"
   ]
  },
  {
   "cell_type": "code",
   "execution_count": 51,
   "id": "dbf48261",
   "metadata": {},
   "outputs": [
    {
     "name": "stdout",
     "output_type": "stream",
     "text": [
      "*\n",
      "**\n",
      "***\n",
      "****\n",
      "*****\n"
     ]
    }
   ],
   "source": [
    "n =  5\n",
    "for i in range(n):\n",
    "    for j in range(i+1):\n",
    "        print('*', end='')\n",
    "    print()"
   ]
  },
  {
   "cell_type": "code",
   "execution_count": 55,
   "id": "5ab39a22",
   "metadata": {},
   "outputs": [
    {
     "name": "stdout",
     "output_type": "stream",
     "text": [
      "$$$$$$$*******\n",
      "$$$$$$******\n",
      "$$$$$*****\n",
      "$$$$****\n",
      "$$$***\n",
      "$$**\n",
      "$*\n"
     ]
    }
   ],
   "source": [
    "n =  7\n",
    "for i in range(n, 0, -1):\n",
    "    for j in range(0, i):\n",
    "        print('$', end='')\n",
    "    for j in range(i):\n",
    "        print('*', end='')\n",
    "    print()"
   ]
  },
  {
   "cell_type": "code",
   "execution_count": 2,
   "id": "be448ca6",
   "metadata": {},
   "outputs": [
    {
     "name": "stdout",
     "output_type": "stream",
     "text": [
      "*******\n",
      " ******\n",
      "  *****\n",
      "   ****\n",
      "    ***\n",
      "     **\n",
      "      *\n"
     ]
    }
   ],
   "source": [
    "n =  7\n",
    "for i in range(n, 0, -1):\n",
    "    for j in range(n, i, -1):\n",
    "        print(' ', end='')\n",
    "    for j in range(i):\n",
    "        print('*', end='')\n",
    "    print()"
   ]
  },
  {
   "cell_type": "code",
   "execution_count": 3,
   "id": "077a314f",
   "metadata": {},
   "outputs": [
    {
     "name": "stdout",
     "output_type": "stream",
     "text": [
      "*\n",
      "**\n",
      "***\n",
      "****\n",
      "*****\n",
      "******\n",
      "*******\n"
     ]
    }
   ],
   "source": [
    "n =  7\n",
    "for i in range(n):\n",
    "    for j in range(i+1):\n",
    "        print('*', end='')\n",
    "    print()"
   ]
  },
  {
   "cell_type": "code",
   "execution_count": 8,
   "id": "43da6cda",
   "metadata": {},
   "outputs": [
    {
     "name": "stdout",
     "output_type": "stream",
     "text": [
      "$*******\n",
      "$$******\n",
      "$$$*****\n",
      "$$$$****\n",
      "$$$$$***\n",
      "$$$$$$**\n",
      "$$$$$$$*\n"
     ]
    }
   ],
   "source": [
    "n =  7\n",
    "for i in range(n):\n",
    "    for j in range(i+1):\n",
    "        print('$', end='')\n",
    "    for i in range(n, i, -1):\n",
    "        print('*', end='')\n",
    "    print()"
   ]
  },
  {
   "cell_type": "code",
   "execution_count": 9,
   "id": "d3011744",
   "metadata": {},
   "outputs": [
    {
     "name": "stdout",
     "output_type": "stream",
     "text": [
      " *******\n",
      "  ******\n",
      "   *****\n",
      "    ****\n",
      "     ***\n",
      "      **\n",
      "       *\n"
     ]
    }
   ],
   "source": [
    "n =  7\n",
    "for i in range(n):\n",
    "    for j in range(i+1):\n",
    "        print(' ', end='')\n",
    "    for i in range(n, i, -1):\n",
    "        print('*', end='')\n",
    "    print()"
   ]
  },
  {
   "cell_type": "code",
   "execution_count": 11,
   "id": "1958ad48",
   "metadata": {},
   "outputs": [
    {
     "name": "stdout",
     "output_type": "stream",
     "text": [
      "*******\n",
      " ******\n",
      "  *****\n",
      "   ****\n",
      "    ***\n",
      "     **\n",
      "      *\n",
      "*******\n",
      " ******\n",
      "  *****\n",
      "   ****\n",
      "    ***\n",
      "     **\n",
      "      *\n"
     ]
    }
   ],
   "source": [
    "n =  7\n",
    "for i in range(n, 0, -1):\n",
    "    for j in range(n, i, -1):\n",
    "        print(' ', end='')\n",
    "    for j in range(i):\n",
    "        print('*', end='')\n",
    "    print()\n",
    "\n",
    "n =  7\n",
    "for i in range(n):\n",
    "    for j in range(i):\n",
    "        print(' ', end='')\n",
    "    for i in range(n, i, -1):\n",
    "        print('*', end='')\n",
    "    print()"
   ]
  },
  {
   "cell_type": "code",
   "execution_count": 17,
   "id": "9bf20198",
   "metadata": {},
   "outputs": [
    {
     "name": "stdout",
     "output_type": "stream",
     "text": [
      "$$$$$$$\n",
      "$$$$$$*\n",
      "$$$$$**\n",
      "$$$$***\n",
      "$$$****\n",
      "$$*****\n",
      "$******\n"
     ]
    }
   ],
   "source": [
    "# n =  7\n",
    "# for i in range(n, 0, -1):\n",
    "#     for j in range(n, i, -1):\n",
    "#         print(' ', end='')\n",
    "#     for j in range(i):\n",
    "#         print('*', end='')\n",
    "#     print()\n",
    "\n",
    "\n",
    "n = 7\n",
    "for i in range(n):\n",
    "    for j in range(n-i):\n",
    "        print('$', end='')\n",
    "    for j in range(i):\n",
    "        print('*', end='')\n",
    "    print()"
   ]
  },
  {
   "cell_type": "code",
   "execution_count": 18,
   "id": "0c215bda",
   "metadata": {},
   "outputs": [
    {
     "name": "stdout",
     "output_type": "stream",
     "text": [
      "       \n",
      "      *\n",
      "     **\n",
      "    ***\n",
      "   ****\n",
      "  *****\n",
      " ******\n"
     ]
    }
   ],
   "source": [
    "n = 7\n",
    "for i in range(n):\n",
    "    for j in range(n-i):\n",
    "        print(' ', end='')\n",
    "    for j in range(i):\n",
    "        print('*', end='')\n",
    "    print()"
   ]
  },
  {
   "cell_type": "code",
   "execution_count": null,
   "id": "3c92d7e3",
   "metadata": {},
   "outputs": [],
   "source": []
  },
  {
   "cell_type": "code",
   "execution_count": null,
   "id": "c0e3b7ec",
   "metadata": {},
   "outputs": [],
   "source": []
  },
  {
   "cell_type": "code",
   "execution_count": null,
   "id": "76b1bfcc",
   "metadata": {},
   "outputs": [],
   "source": []
  },
  {
   "cell_type": "code",
   "execution_count": null,
   "id": "42dba2ad",
   "metadata": {},
   "outputs": [],
   "source": []
  },
  {
   "cell_type": "code",
   "execution_count": null,
   "id": "136a9820",
   "metadata": {},
   "outputs": [],
   "source": []
  },
  {
   "cell_type": "code",
   "execution_count": null,
   "id": "f5def0f7",
   "metadata": {},
   "outputs": [],
   "source": []
  },
  {
   "cell_type": "code",
   "execution_count": null,
   "id": "763379df",
   "metadata": {},
   "outputs": [],
   "source": []
  },
  {
   "cell_type": "code",
   "execution_count": null,
   "id": "f42e685a",
   "metadata": {},
   "outputs": [],
   "source": []
  },
  {
   "cell_type": "code",
   "execution_count": null,
   "id": "81e25b77",
   "metadata": {},
   "outputs": [],
   "source": []
  },
  {
   "cell_type": "code",
   "execution_count": null,
   "id": "7c4da10e",
   "metadata": {},
   "outputs": [],
   "source": []
  }
 ],
 "metadata": {
  "kernelspec": {
   "display_name": "Python 3 (ipykernel)",
   "language": "python",
   "name": "python3"
  },
  "language_info": {
   "codemirror_mode": {
    "name": "ipython",
    "version": 3
   },
   "file_extension": ".py",
   "mimetype": "text/x-python",
   "name": "python",
   "nbconvert_exporter": "python",
   "pygments_lexer": "ipython3",
   "version": "3.10.12"
  }
 },
 "nbformat": 4,
 "nbformat_minor": 5
}
