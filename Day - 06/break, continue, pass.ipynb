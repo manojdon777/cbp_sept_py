{
 "cells": [
  {
   "cell_type": "code",
   "execution_count": 2,
   "id": "098d268b",
   "metadata": {},
   "outputs": [
    {
     "name": "stdout",
     "output_type": "stream",
     "text": [
      "4321\n"
     ]
    }
   ],
   "source": [
    "# Reverse the number without string\n",
    "\n",
    "num = 1234\n",
    "result = 0\n",
    "while num > 0:\n",
    "    rem = num % 10\n",
    "    result = result * 10  + rem\n",
    "    num = num // 10\n",
    "print(result)\n",
    "    "
   ]
  },
  {
   "cell_type": "code",
   "execution_count": 4,
   "id": "21be1972",
   "metadata": {},
   "outputs": [
    {
     "name": "stdout",
     "output_type": "stream",
     "text": [
      "6 7805 6\n",
      "5 780 65\n",
      "0 78 650\n",
      "8 7 6508\n",
      "7 0 65087\n",
      "65087\n"
     ]
    }
   ],
   "source": [
    "# Reverse the number without string\n",
    "\n",
    "num = 78056\n",
    "result = 0\n",
    "while num > 0:\n",
    "    rem = num % 10\n",
    "    result = result * 10  + rem\n",
    "    num = num // 10\n",
    "    print(rem, num, result)\n",
    "print(result)\n",
    "    "
   ]
  },
  {
   "cell_type": "code",
   "execution_count": 6,
   "id": "0fc83df1",
   "metadata": {},
   "outputs": [
    {
     "name": "stdout",
     "output_type": "stream",
     "text": [
      "1 3 5 7 9 11 13 15 17 19 21 23 25 27 29 "
     ]
    }
   ],
   "source": [
    "# print all odd numbers from 1 to 30\n",
    "for i in range(31):\n",
    "    if i % 2 != 0:\n",
    "        print(i, end=' ')"
   ]
  },
  {
   "cell_type": "code",
   "execution_count": 7,
   "id": "f30d8fd7",
   "metadata": {},
   "outputs": [
    {
     "name": "stdout",
     "output_type": "stream",
     "text": [
      "0 2 4 6 8 10 12 14 16 18 20 22 24 26 28 30 "
     ]
    }
   ],
   "source": [
    "# print all even numbers from 1 to 30\n",
    "for i in range(31):\n",
    "    if i % 2 == 0:\n",
    "        print(i, end=' ')"
   ]
  },
  {
   "cell_type": "code",
   "execution_count": null,
   "id": "4c29dfb7",
   "metadata": {},
   "outputs": [],
   "source": [
    "# print all numbers which are divisible by 7 from 1 to 100\n",
    "for i in range(31):\n",
    "    if i % 2 != 0:\n",
    "        print(i, end=' ')"
   ]
  },
  {
   "cell_type": "code",
   "execution_count": 10,
   "id": "a1ec982b",
   "metadata": {},
   "outputs": [
    {
     "name": "stdout",
     "output_type": "stream",
     "text": [
      "7 14 21 28 35 42 49 56 63 70 77 84 91 98 "
     ]
    }
   ],
   "source": [
    "# print all numbers which are divisible by 7 from 1 to 100\n",
    "for i in range(1, 100):\n",
    "    if i % 7 == 0:\n",
    "        print(i, end=' ')"
   ]
  },
  {
   "cell_type": "code",
   "execution_count": 20,
   "id": "04f3d105",
   "metadata": {},
   "outputs": [
    {
     "name": "stdout",
     "output_type": "stream",
     "text": [
      "ENter any num: 7\n",
      "prime\n"
     ]
    }
   ],
   "source": [
    "# check if any number is prime or not\n",
    "n = int(input('ENter any num: '))\n",
    "boolean = True\n",
    "for i in range(2, n):\n",
    "    if n % i  == 0:\n",
    "        boolean = False\n",
    "if boolean == True:\n",
    "    print('prime')\n",
    "else:\n",
    "    print('Non-Prime')"
   ]
  },
  {
   "cell_type": "markdown",
   "id": "60a4b63a",
   "metadata": {},
   "source": [
    "### break, continue, pass"
   ]
  },
  {
   "cell_type": "code",
   "execution_count": 21,
   "id": "17deb418",
   "metadata": {},
   "outputs": [
    {
     "name": "stdout",
     "output_type": "stream",
     "text": [
      "0 1 2 3 4 5 6 "
     ]
    }
   ],
   "source": [
    "for i in range(10):\n",
    "    if i == 7:\n",
    "        break;\n",
    "    else:\n",
    "        print(i, end=' ')\n",
    "        "
   ]
  },
  {
   "cell_type": "code",
   "execution_count": 22,
   "id": "9618ba18",
   "metadata": {},
   "outputs": [
    {
     "name": "stdout",
     "output_type": "stream",
     "text": [
      "0 1 2 3 4 5 6 8 9 "
     ]
    }
   ],
   "source": [
    "for i in range(10):\n",
    "    if i == 7:\n",
    "        continue;\n",
    "    else:\n",
    "        print(i, end=' ')\n",
    "        "
   ]
  },
  {
   "cell_type": "code",
   "execution_count": 23,
   "id": "ab764f32",
   "metadata": {},
   "outputs": [
    {
     "name": "stdout",
     "output_type": "stream",
     "text": [
      "0 1 2 3 4 5 6 8 9 "
     ]
    }
   ],
   "source": [
    "for i in range(10):\n",
    "    if i == 7:\n",
    "        continue;\n",
    "        print(7, end=' ')\n",
    "    else:\n",
    "        print(i, end=' ')\n",
    "        "
   ]
  },
  {
   "cell_type": "code",
   "execution_count": 34,
   "id": "d7172dd7",
   "metadata": {},
   "outputs": [],
   "source": [
    "for i in range(5):\n",
    "    pass\n",
    "\n",
    "if 56>23:\n",
    "    pass\n",
    "\n",
    "def function():\n",
    "    pass\n",
    "\n",
    "class abc:\n",
    "    pass"
   ]
  },
  {
   "cell_type": "code",
   "execution_count": null,
   "id": "366f09e1",
   "metadata": {},
   "outputs": [],
   "source": []
  },
  {
   "cell_type": "code",
   "execution_count": null,
   "id": "19fe4329",
   "metadata": {},
   "outputs": [],
   "source": []
  },
  {
   "cell_type": "code",
   "execution_count": null,
   "id": "0be70e47",
   "metadata": {},
   "outputs": [],
   "source": []
  },
  {
   "cell_type": "code",
   "execution_count": null,
   "id": "390eff11",
   "metadata": {},
   "outputs": [],
   "source": []
  },
  {
   "cell_type": "code",
   "execution_count": null,
   "id": "0029f60c",
   "metadata": {},
   "outputs": [],
   "source": []
  },
  {
   "cell_type": "code",
   "execution_count": 26,
   "id": "7b2c66d4",
   "metadata": {},
   "outputs": [
    {
     "name": "stdout",
     "output_type": "stream",
     "text": [
      "ENter any num: 44444444444444444444444444\n",
      "Non-Prime\n"
     ]
    }
   ],
   "source": [
    "# check if any number is prime or not\n",
    "n = int(input('ENter any num: '))\n",
    "boolean = True\n",
    "for i in range(2, n):\n",
    "    if n % i  == 0:\n",
    "        boolean = False\n",
    "        break\n",
    "if boolean == True:\n",
    "    print('prime')\n",
    "else:\n",
    "    print('Non-Prime')"
   ]
  },
  {
   "cell_type": "code",
   "execution_count": 30,
   "id": "f1e0ccc1",
   "metadata": {},
   "outputs": [
    {
     "name": "stdout",
     "output_type": "stream",
     "text": [
      "Enter number: 10\n",
      "0 1 1 2 3 5 8 13 21 34 "
     ]
    }
   ],
   "source": [
    "# Generate first n fibonacci numbers\n",
    "n = int(input('Enter number: '))\n",
    "first = 0\n",
    "second = 1\n",
    "print(first, end=' ')\n",
    "print(second, end=' ')\n",
    "for i in range(n-2):\n",
    "    third = first + second\n",
    "    print(third, end=' ')\n",
    "    first = second\n",
    "    second = third\n",
    "    \n",
    "    "
   ]
  },
  {
   "cell_type": "code",
   "execution_count": null,
   "id": "ed543629",
   "metadata": {},
   "outputs": [],
   "source": [
    "0, 1, 1, 2, 3, 5, 8, 13, 21, 34, 55, 89, 144, 233, 377, 610"
   ]
  },
  {
   "cell_type": "code",
   "execution_count": 35,
   "id": "a89c0405",
   "metadata": {},
   "outputs": [
    {
     "data": {
      "text/plain": [
       "True"
      ]
     },
     "execution_count": 35,
     "metadata": {},
     "output_type": "execute_result"
    }
   ],
   "source": [
    "boolean = 55 > 33\n",
    "boolean"
   ]
  },
  {
   "cell_type": "code",
   "execution_count": 37,
   "id": "68138477",
   "metadata": {},
   "outputs": [
    {
     "name": "stdout",
     "output_type": "stream",
     "text": [
      "55\n"
     ]
    }
   ],
   "source": [
    "boolean = 55 > 33\n",
    "if boolean == True:\n",
    "    print('55')\n",
    "else:\n",
    "    print('33')"
   ]
  },
  {
   "cell_type": "code",
   "execution_count": 38,
   "id": "f5b76106",
   "metadata": {},
   "outputs": [
    {
     "name": "stdout",
     "output_type": "stream",
     "text": [
      "55\n"
     ]
    }
   ],
   "source": [
    "boolean = 55 > 33\n",
    "if boolean:\n",
    "    print('55')\n",
    "else:\n",
    "    print('33')"
   ]
  },
  {
   "cell_type": "code",
   "execution_count": 39,
   "id": "b166fca1",
   "metadata": {},
   "outputs": [
    {
     "name": "stdout",
     "output_type": "stream",
     "text": [
      "ENter any num: 45\n",
      "Non-Prime\n"
     ]
    }
   ],
   "source": [
    "# check if any number is prime or not\n",
    "n = int(input('ENter any num: '))\n",
    "boolean = True\n",
    "for i in range(2, n):\n",
    "    if n % i  == 0:\n",
    "        boolean = False\n",
    "if boolean:\n",
    "    print('prime')\n",
    "else:\n",
    "    print('Non-Prime')"
   ]
  },
  {
   "cell_type": "markdown",
   "id": "fe02812c",
   "metadata": {},
   "source": [
    "syntax-\n",
    "\n",
    "## for condition:\n",
    "## else:\n",
    "    "
   ]
  },
  {
   "cell_type": "code",
   "execution_count": 40,
   "id": "5c3baf13",
   "metadata": {},
   "outputs": [
    {
     "ename": "SyntaxError",
     "evalue": "invalid syntax (3368583373.py, line 1)",
     "output_type": "error",
     "traceback": [
      "\u001b[0;36m  File \u001b[0;32m\"/tmp/ipykernel_10681/3368583373.py\"\u001b[0;36m, line \u001b[0;32m1\u001b[0m\n\u001b[0;31m    else:\u001b[0m\n\u001b[0m    ^\u001b[0m\n\u001b[0;31mSyntaxError\u001b[0m\u001b[0;31m:\u001b[0m invalid syntax\n"
     ]
    }
   ],
   "source": [
    "else:\n",
    "    print('hsdhfgk')"
   ]
  },
  {
   "cell_type": "code",
   "execution_count": 42,
   "id": "4db5579a",
   "metadata": {},
   "outputs": [
    {
     "name": "stdout",
     "output_type": "stream",
     "text": [
      "0 1 2 3 4 5 6 7 8 9 \n",
      "For loop ended\n"
     ]
    }
   ],
   "source": [
    "for i in range(10):\n",
    "    print(i, end=' ')\n",
    "else:\n",
    "    print('\\nFor loop ended')"
   ]
  },
  {
   "cell_type": "code",
   "execution_count": 46,
   "id": "1e903ee5",
   "metadata": {},
   "outputs": [
    {
     "ename": "SyntaxError",
     "evalue": "invalid syntax (393105111.py, line 5)",
     "output_type": "error",
     "traceback": [
      "\u001b[0;36m  File \u001b[0;32m\"/tmp/ipykernel_10681/393105111.py\"\u001b[0;36m, line \u001b[0;32m5\u001b[0m\n\u001b[0;31m    else:\u001b[0m\n\u001b[0m    ^\u001b[0m\n\u001b[0;31mSyntaxError\u001b[0m\u001b[0;31m:\u001b[0m invalid syntax\n"
     ]
    }
   ],
   "source": [
    "for i in range(1, 15):\n",
    "    if i % 9 == 0:\n",
    "        print(i, end=' ')\n",
    "        break;    \n",
    "else:\n",
    "    print('\\nFor loop ended')"
   ]
  },
  {
   "cell_type": "code",
   "execution_count": 56,
   "id": "0c4fb6c3",
   "metadata": {},
   "outputs": [
    {
     "name": "stdout",
     "output_type": "stream",
     "text": [
      "Enter any num: 7\n",
      "7 2\n",
      "7 3\n",
      "7 4\n",
      "7 5\n",
      "7 6\n",
      "Prime\n"
     ]
    }
   ],
   "source": [
    "# check if any number is prime or not\n",
    "n = int(input('Enter any num: '))\n",
    "# boolean = True\n",
    "for i in range(2, n):\n",
    "    print(n, i)\n",
    "    if n % i  == 0:\n",
    "        print('Non prime')\n",
    "        break\n",
    "else:\n",
    "    print('Prime')"
   ]
  },
  {
   "cell_type": "code",
   "execution_count": 57,
   "id": "90ceb7e8",
   "metadata": {},
   "outputs": [
    {
     "name": "stdout",
     "output_type": "stream",
     "text": [
      "Enter any num: 349\n",
      "Prime\n"
     ]
    }
   ],
   "source": [
    "# check if any number is prime or not\n",
    "n = int(input('Enter any num: '))\n",
    "# boolean = True\n",
    "for i in range(2, n):\n",
    "#     print(n, i)\n",
    "    if n % i  == 0:\n",
    "        print('Non prime')\n",
    "        break\n",
    "else:\n",
    "    print('Prime')"
   ]
  },
  {
   "cell_type": "code",
   "execution_count": 61,
   "id": "f1b93627",
   "metadata": {},
   "outputs": [
    {
     "name": "stdout",
     "output_type": "stream",
     "text": [
      "2 3 5 7 11 13 17 19 23 29 31 37 41 43 47 53 59 61 67 71 73 79 83 89 97 101 103 107 109 113 127 131 137 139 149 151 157 163 167 173 179 181 191 193 197 199 211 223 227 229 233 239 241 251 257 263 269 271 277 281 283 293 307 311 313 317 331 337 347 349 353 359 367 373 379 383 389 397 401 409 419 421 431 433 439 443 449 457 461 463 467 479 487 491 499 503 509 521 523 541 547 557 563 569 571 577 587 593 599 601 607 613 617 619 631 641 643 647 653 659 661 673 677 683 691 701 709 719 727 733 739 743 751 757 761 769 773 787 797 809 811 821 823 827 829 839 853 857 859 863 877 881 883 887 907 911 919 929 937 941 947 953 967 971 977 983 991 997 "
     ]
    }
   ],
   "source": [
    "# generate all prime numbers between 1 to 1000\n",
    "n = 1000\n",
    "for num in range(2, n):\n",
    "    boolean = True\n",
    "    for i in range(2, num):\n",
    "        if num % i == 0:\n",
    "            boolean = False;\n",
    "            break\n",
    "    if boolean:\n",
    "        print(num, end=' ')\n",
    "                \n",
    "\n",
    "            "
   ]
  },
  {
   "cell_type": "code",
   "execution_count": 62,
   "id": "8fb502aa",
   "metadata": {},
   "outputs": [
    {
     "name": "stdout",
     "output_type": "stream",
     "text": [
      "Enter number: 7\n",
      "7 * 1 = 7\n",
      "7 * 2 = 14\n",
      "7 * 3 = 21\n",
      "7 * 4 = 28\n",
      "7 * 5 = 35\n",
      "7 * 6 = 42\n",
      "7 * 7 = 49\n",
      "7 * 8 = 56\n",
      "7 * 9 = 63\n",
      "7 * 10 = 70\n"
     ]
    }
   ],
   "source": [
    "# genrate table like below\n",
    "# 7 * 1 = 7\n",
    "# 7 * 2 = 14\n",
    "\n",
    "num = int(input('Enter number: '))\n",
    "for i in range(1, 11):\n",
    "    print(num, '*', i, '=', num*i)\n"
   ]
  },
  {
   "cell_type": "code",
   "execution_count": 65,
   "id": "3fbe5383",
   "metadata": {},
   "outputs": [
    {
     "name": "stdout",
     "output_type": "stream",
     "text": [
      "X= 2\n",
      "Y= 5\n",
      "0\n"
     ]
    }
   ],
   "source": [
    "# x power y\n",
    "x = int(input('X= '))\n",
    "y = int(input('Y= '))\n",
    "result = 0\n",
    "for i in range(y):\n",
    "    result = result * x\n",
    "print(result)\n"
   ]
  },
  {
   "cell_type": "code",
   "execution_count": 66,
   "id": "f8429d39",
   "metadata": {},
   "outputs": [
    {
     "name": "stdout",
     "output_type": "stream",
     "text": [
      "X= 2\n",
      "Y= 5\n",
      "32\n"
     ]
    }
   ],
   "source": [
    "# x power y\n",
    "x = int(input('X= '))\n",
    "y = int(input('Y= '))\n",
    "result = 1\n",
    "for i in range(y):\n",
    "    result = result * x\n",
    "print(result)\n"
   ]
  },
  {
   "cell_type": "code",
   "execution_count": 67,
   "id": "54917376",
   "metadata": {},
   "outputs": [
    {
     "name": "stdout",
     "output_type": "stream",
     "text": [
      "X= 5\n",
      "Y= 8\n",
      "40\n"
     ]
    }
   ],
   "source": [
    "# x * y using for loop\n",
    "x = int(input('X= '))\n",
    "y = int(input('Y= '))\n",
    "result = 0\n",
    "for i in range(y):\n",
    "    result = result + x\n",
    "print(result)\n"
   ]
  },
  {
   "cell_type": "code",
   "execution_count": 71,
   "id": "2a7e3d0b",
   "metadata": {},
   "outputs": [
    {
     "name": "stdout",
     "output_type": "stream",
     "text": [
      "1 3 5 9 15 45 "
     ]
    }
   ],
   "source": [
    "# factors of a number\n",
    "num = 45\n",
    "for i in  range(1, 45+1):\n",
    "    if num % i == 0:\n",
    "        print(i, end=' ')"
   ]
  },
  {
   "cell_type": "code",
   "execution_count": 10,
   "id": "e129dd8f",
   "metadata": {},
   "outputs": [
    {
     "name": "stdout",
     "output_type": "stream",
     "text": [
      "60\n"
     ]
    }
   ],
   "source": [
    "a = 20\n",
    "b = 60\n",
    "sum1 = a\n",
    "sum2 = b\n",
    "while True:    \n",
    "    if sum1 < sum2:\n",
    "        sum1 += a\n",
    "    else :\n",
    "        sum2 += b\n",
    "    if sum1 == sum2:\n",
    "        break\n",
    "print(sum1)"
   ]
  },
  {
   "cell_type": "code",
   "execution_count": 75,
   "id": "0de4f1e1",
   "metadata": {},
   "outputs": [
    {
     "name": "stdout",
     "output_type": "stream",
     "text": [
      "18\n"
     ]
    }
   ],
   "source": [
    "# lcm\n",
    "num1 = 45\n",
    "num2 = 18\n",
    "\n",
    "small = num1 if num1 < num2 else num2\n",
    "\n",
    "print(small)\n",
    "lcm = 1\n",
    "for i in range(1, small+1):\n",
    "    if num1 % i  == 0 and num2 % i == 0:\n",
    "        lcm *= lcm\n",
    "\n",
    "        print(lcm)"
   ]
  },
  {
   "cell_type": "code",
   "execution_count": null,
   "id": "a18720d5",
   "metadata": {},
   "outputs": [],
   "source": [
    "a = 20\n",
    "b = 60\n",
    "comman "
   ]
  },
  {
   "cell_type": "code",
   "execution_count": null,
   "id": "ae7939f8",
   "metadata": {},
   "outputs": [],
   "source": []
  }
 ],
 "metadata": {
  "kernelspec": {
   "display_name": "Python 3 (ipykernel)",
   "language": "python",
   "name": "python3"
  },
  "language_info": {
   "codemirror_mode": {
    "name": "ipython",
    "version": 3
   },
   "file_extension": ".py",
   "mimetype": "text/x-python",
   "name": "python",
   "nbconvert_exporter": "python",
   "pygments_lexer": "ipython3",
   "version": "3.10.12"
  }
 },
 "nbformat": 4,
 "nbformat_minor": 5
}
