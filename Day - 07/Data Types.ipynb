{
 "cells": [
  {
   "cell_type": "markdown",
   "id": "afd8a1b5",
   "metadata": {},
   "source": [
    "### Data Types"
   ]
  },
  {
   "cell_type": "code",
   "execution_count": null,
   "id": "35d93ef7",
   "metadata": {},
   "outputs": [],
   "source": [
    "number: int, float, complex\n",
    "\n",
    "sequence: list, tuple, str\n",
    "\n",
    "string: str\n",
    "\n",
    "setDT: set, frozenset\n",
    "\n",
    "boolean: bool\n",
    "\n",
    "hashmap: dict"
   ]
  },
  {
   "cell_type": "code",
   "execution_count": 5,
   "id": "5c42c7a4",
   "metadata": {},
   "outputs": [
    {
     "name": "stdout",
     "output_type": "stream",
     "text": [
      "8 <class 'int'>\n"
     ]
    }
   ],
   "source": [
    "num = 8\n",
    "print(num, type(num))"
   ]
  },
  {
   "cell_type": "markdown",
   "id": "c4b10b72",
   "metadata": {},
   "source": [
    "### complex"
   ]
  },
  {
   "cell_type": "code",
   "execution_count": 6,
   "id": "4ea8d8dc",
   "metadata": {},
   "outputs": [
    {
     "name": "stdout",
     "output_type": "stream",
     "text": [
      "(4+7j) <class 'complex'>\n"
     ]
    }
   ],
   "source": [
    "num = 4+7j\n",
    "print(num, type(num))"
   ]
  },
  {
   "cell_type": "code",
   "execution_count": 4,
   "id": "1d83352c",
   "metadata": {},
   "outputs": [
    {
     "name": "stdout",
     "output_type": "stream",
     "text": [
      "8j <class 'complex'>\n"
     ]
    }
   ],
   "source": [
    "num = 8j\n",
    "print(num, type(num))"
   ]
  },
  {
   "cell_type": "code",
   "execution_count": 1,
   "id": "39dcfe74",
   "metadata": {},
   "outputs": [
    {
     "data": {
      "text/plain": [
       "(6+0j)"
      ]
     },
     "execution_count": 1,
     "metadata": {},
     "output_type": "execute_result"
    }
   ],
   "source": [
    "num = complex(6)\n",
    "num"
   ]
  },
  {
   "cell_type": "markdown",
   "id": "aaad21a3",
   "metadata": {},
   "source": [
    "### string type casting into int and str"
   ]
  },
  {
   "cell_type": "code",
   "execution_count": 9,
   "id": "74c7eecc",
   "metadata": {},
   "outputs": [
    {
     "name": "stdout",
     "output_type": "stream",
     "text": [
      "123 <class 'int'>\n"
     ]
    }
   ],
   "source": [
    "num = '123'\n",
    "num2 = int(num)\n",
    "print(num2, type(num2))"
   ]
  },
  {
   "cell_type": "code",
   "execution_count": 10,
   "id": "1c20a2d8",
   "metadata": {},
   "outputs": [
    {
     "name": "stdout",
     "output_type": "stream",
     "text": [
      "123.8995 <class 'float'>\n"
     ]
    }
   ],
   "source": [
    "num = '123.8995'\n",
    "num2 = float(num)\n",
    "print(num2, type(num2))"
   ]
  },
  {
   "cell_type": "code",
   "execution_count": 12,
   "id": "6ce7f36c",
   "metadata": {},
   "outputs": [
    {
     "name": "stdout",
     "output_type": "stream",
     "text": [
      "123 <class 'int'>\n"
     ]
    }
   ],
   "source": [
    "num = 123.8995\n",
    "num2 = int(num)\n",
    "print(num2, type(num2))"
   ]
  },
  {
   "cell_type": "code",
   "execution_count": 11,
   "id": "c8507312",
   "metadata": {},
   "outputs": [
    {
     "ename": "ValueError",
     "evalue": "invalid literal for int() with base 10: '123.8995'",
     "output_type": "error",
     "traceback": [
      "\u001b[0;31m---------------------------------------------------------------------------\u001b[0m",
      "\u001b[0;31mValueError\u001b[0m                                Traceback (most recent call last)",
      "\u001b[0;32m/tmp/ipykernel_16594/2666286168.py\u001b[0m in \u001b[0;36m<module>\u001b[0;34m\u001b[0m\n\u001b[1;32m      1\u001b[0m \u001b[0mnum\u001b[0m \u001b[0;34m=\u001b[0m \u001b[0;34m'123.8995'\u001b[0m\u001b[0;34m\u001b[0m\u001b[0;34m\u001b[0m\u001b[0m\n\u001b[0;32m----> 2\u001b[0;31m \u001b[0mnum2\u001b[0m \u001b[0;34m=\u001b[0m \u001b[0mint\u001b[0m\u001b[0;34m(\u001b[0m\u001b[0mnum\u001b[0m\u001b[0;34m)\u001b[0m\u001b[0;34m\u001b[0m\u001b[0;34m\u001b[0m\u001b[0m\n\u001b[0m\u001b[1;32m      3\u001b[0m \u001b[0mprint\u001b[0m\u001b[0;34m(\u001b[0m\u001b[0mnum2\u001b[0m\u001b[0;34m,\u001b[0m \u001b[0mtype\u001b[0m\u001b[0;34m(\u001b[0m\u001b[0mnum2\u001b[0m\u001b[0;34m)\u001b[0m\u001b[0;34m)\u001b[0m\u001b[0;34m\u001b[0m\u001b[0;34m\u001b[0m\u001b[0m\n",
      "\u001b[0;31mValueError\u001b[0m: invalid literal for int() with base 10: '123.8995'"
     ]
    }
   ],
   "source": [
    "num = '123.8995'\n",
    "num2 = int(num)\n",
    "print(num2, type(num2))"
   ]
  },
  {
   "cell_type": "code",
   "execution_count": 13,
   "id": "e8cb4c58",
   "metadata": {},
   "outputs": [
    {
     "name": "stdout",
     "output_type": "stream",
     "text": [
      "123 <class 'int'>\n"
     ]
    }
   ],
   "source": [
    "num = '123.8995'\n",
    "num1 = float(num)\n",
    "num2 = int(num1)\n",
    "print(num2, type(num2))"
   ]
  },
  {
   "cell_type": "markdown",
   "id": "7c243f76",
   "metadata": {},
   "source": [
    "### int to complex"
   ]
  },
  {
   "cell_type": "code",
   "execution_count": 14,
   "id": "c30f72b8",
   "metadata": {},
   "outputs": [
    {
     "name": "stdout",
     "output_type": "stream",
     "text": [
      "9 <class 'int'>\n",
      "(9+0j) <class 'complex'>\n"
     ]
    }
   ],
   "source": [
    "num = 9\n",
    "num_complex = complex(num)\n",
    "print(num, type(num))\n",
    "print(num_complex, type(num_complex))\n"
   ]
  },
  {
   "cell_type": "markdown",
   "id": "54645d03",
   "metadata": {},
   "source": [
    "### complex to int"
   ]
  },
  {
   "cell_type": "code",
   "execution_count": 15,
   "id": "e54fd705",
   "metadata": {},
   "outputs": [
    {
     "name": "stdout",
     "output_type": "stream",
     "text": [
      "(7+8j) <class 'complex'>\n"
     ]
    }
   ],
   "source": [
    "complex_num = 7+8j\n",
    "print(complex_num, type(complex_num))"
   ]
  },
  {
   "cell_type": "code",
   "execution_count": 16,
   "id": "6a2b6e6a",
   "metadata": {},
   "outputs": [
    {
     "ename": "TypeError",
     "evalue": "int() argument must be a string, a bytes-like object or a real number, not 'complex'",
     "output_type": "error",
     "traceback": [
      "\u001b[0;31m---------------------------------------------------------------------------\u001b[0m",
      "\u001b[0;31mTypeError\u001b[0m                                 Traceback (most recent call last)",
      "\u001b[0;32m/tmp/ipykernel_16594/3159211408.py\u001b[0m in \u001b[0;36m<module>\u001b[0;34m\u001b[0m\n\u001b[0;32m----> 1\u001b[0;31m \u001b[0mnew_num\u001b[0m \u001b[0;34m=\u001b[0m \u001b[0mint\u001b[0m\u001b[0;34m(\u001b[0m\u001b[0mcomplex_num\u001b[0m\u001b[0;34m)\u001b[0m\u001b[0;34m\u001b[0m\u001b[0;34m\u001b[0m\u001b[0m\n\u001b[0m",
      "\u001b[0;31mTypeError\u001b[0m: int() argument must be a string, a bytes-like object or a real number, not 'complex'"
     ]
    }
   ],
   "source": [
    "new_num = int(complex_num)"
   ]
  },
  {
   "cell_type": "markdown",
   "id": "09fdf288",
   "metadata": {},
   "source": [
    "# 1. List"
   ]
  },
  {
   "cell_type": "code",
   "execution_count": null,
   "id": "eb3411ed",
   "metadata": {},
   "outputs": [],
   "source": [
    "list\n",
    "    - object to hold 2 or more values\n",
    "    - separated by comma\n",
    "    - heterogenous\n",
    "    - duplicates allowed\n",
    "    - mutable\n",
    "    - starts with 0 index"
   ]
  },
  {
   "cell_type": "code",
   "execution_count": null,
   "id": "56f7ccd3",
   "metadata": {},
   "outputs": [],
   "source": [
    "empty list"
   ]
  },
  {
   "cell_type": "code",
   "execution_count": 17,
   "id": "4e4cf184",
   "metadata": {},
   "outputs": [
    {
     "data": {
      "text/plain": [
       "[]"
      ]
     },
     "execution_count": 17,
     "metadata": {},
     "output_type": "execute_result"
    }
   ],
   "source": [
    "l = []\n",
    "l"
   ]
  },
  {
   "cell_type": "code",
   "execution_count": 18,
   "id": "b009fcb2",
   "metadata": {},
   "outputs": [
    {
     "data": {
      "text/plain": [
       "[]"
      ]
     },
     "execution_count": 18,
     "metadata": {},
     "output_type": "execute_result"
    }
   ],
   "source": [
    "empty_list = list()\n",
    "empty_list"
   ]
  },
  {
   "cell_type": "code",
   "execution_count": 21,
   "id": "ed4a1c5d",
   "metadata": {},
   "outputs": [
    {
     "data": {
      "text/plain": [
       "[]"
      ]
     },
     "execution_count": 21,
     "metadata": {},
     "output_type": "execute_result"
    }
   ],
   "source": [
    "empty_list = list()\n",
    "empty_list"
   ]
  },
  {
   "cell_type": "code",
   "execution_count": 22,
   "id": "9be5581a",
   "metadata": {},
   "outputs": [
    {
     "data": {
      "text/plain": [
       "[1, 2, 3, 4, 5, 6, 7, 8, 9]"
      ]
     },
     "execution_count": 22,
     "metadata": {},
     "output_type": "execute_result"
    }
   ],
   "source": [
    "list1 = [1,2,3,4,5,6,7,8,9]\n",
    "list1"
   ]
  },
  {
   "cell_type": "code",
   "execution_count": 23,
   "id": "d7c8653e",
   "metadata": {},
   "outputs": [
    {
     "data": {
      "text/plain": [
       "list"
      ]
     },
     "execution_count": 23,
     "metadata": {},
     "output_type": "execute_result"
    }
   ],
   "source": [
    "list1 = [1,2,3,4,5,6,7,8,9]\n",
    "type(list1)"
   ]
  },
  {
   "cell_type": "code",
   "execution_count": 24,
   "id": "d231c597",
   "metadata": {},
   "outputs": [
    {
     "data": {
      "text/plain": [
       "[1, 2, 3.14, 'aman']"
      ]
     },
     "execution_count": 24,
     "metadata": {},
     "output_type": "execute_result"
    }
   ],
   "source": [
    "list2 = [1,2,3.14, 'aman']\n",
    "list2"
   ]
  },
  {
   "cell_type": "code",
   "execution_count": 25,
   "id": "6a120ced",
   "metadata": {},
   "outputs": [
    {
     "data": {
      "text/plain": [
       "3.14"
      ]
     },
     "execution_count": 25,
     "metadata": {},
     "output_type": "execute_result"
    }
   ],
   "source": [
    "list2[2]"
   ]
  },
  {
   "cell_type": "code",
   "execution_count": 28,
   "id": "2d3b7227",
   "metadata": {},
   "outputs": [
    {
     "data": {
      "text/plain": [
       "'aman'"
      ]
     },
     "execution_count": 28,
     "metadata": {},
     "output_type": "execute_result"
    }
   ],
   "source": [
    "list2[3]"
   ]
  },
  {
   "cell_type": "code",
   "execution_count": 26,
   "id": "e579bb41",
   "metadata": {},
   "outputs": [
    {
     "ename": "IndexError",
     "evalue": "list index out of range",
     "output_type": "error",
     "traceback": [
      "\u001b[0;31m---------------------------------------------------------------------------\u001b[0m",
      "\u001b[0;31mIndexError\u001b[0m                                Traceback (most recent call last)",
      "\u001b[0;32m/tmp/ipykernel_16594/138570432.py\u001b[0m in \u001b[0;36m<module>\u001b[0;34m\u001b[0m\n\u001b[0;32m----> 1\u001b[0;31m \u001b[0mlist2\u001b[0m\u001b[0;34m[\u001b[0m\u001b[0;36m7\u001b[0m\u001b[0;34m]\u001b[0m\u001b[0;34m\u001b[0m\u001b[0;34m\u001b[0m\u001b[0m\n\u001b[0m",
      "\u001b[0;31mIndexError\u001b[0m: list index out of range"
     ]
    }
   ],
   "source": [
    "list2[7]"
   ]
  },
  {
   "cell_type": "code",
   "execution_count": 29,
   "id": "592b0756",
   "metadata": {},
   "outputs": [
    {
     "name": "stdout",
     "output_type": "stream",
     "text": [
      "[1, 2, 3.14, 'aman']\n",
      "[1, 2, 3.14, 'CBP']\n"
     ]
    }
   ],
   "source": [
    "print(list2)\n",
    "list2[3] = 'CBP'\n",
    "print(list2)"
   ]
  },
  {
   "cell_type": "code",
   "execution_count": 30,
   "id": "0e7a1403",
   "metadata": {},
   "outputs": [
    {
     "name": "stdout",
     "output_type": "stream",
     "text": [
      "1\n",
      "2\n",
      "3.14\n",
      "CBP\n"
     ]
    }
   ],
   "source": [
    "for i in range(4):\n",
    "    print(list2[i])"
   ]
  },
  {
   "cell_type": "code",
   "execution_count": 31,
   "id": "d4778e22",
   "metadata": {},
   "outputs": [
    {
     "name": "stdout",
     "output_type": "stream",
     "text": [
      "1 2 3.14 CBP "
     ]
    }
   ],
   "source": [
    "for i in range(4):\n",
    "    print(list2[i], end=' ')"
   ]
  },
  {
   "cell_type": "code",
   "execution_count": 35,
   "id": "60d620b0",
   "metadata": {},
   "outputs": [
    {
     "name": "stdout",
     "output_type": "stream",
     "text": [
      "2 3.14 "
     ]
    },
    {
     "ename": "TypeError",
     "evalue": "list indices must be integers or slices, not float",
     "output_type": "error",
     "traceback": [
      "\u001b[0;31m---------------------------------------------------------------------------\u001b[0m",
      "\u001b[0;31mTypeError\u001b[0m                                 Traceback (most recent call last)",
      "\u001b[0;32m/tmp/ipykernel_16594/3091146906.py\u001b[0m in \u001b[0;36m<module>\u001b[0;34m\u001b[0m\n\u001b[1;32m      1\u001b[0m \u001b[0;32mfor\u001b[0m \u001b[0mi\u001b[0m \u001b[0;32min\u001b[0m \u001b[0mlist2\u001b[0m\u001b[0;34m:\u001b[0m\u001b[0;34m\u001b[0m\u001b[0;34m\u001b[0m\u001b[0m\n\u001b[0;32m----> 2\u001b[0;31m     \u001b[0mprint\u001b[0m\u001b[0;34m(\u001b[0m\u001b[0mlist2\u001b[0m\u001b[0;34m[\u001b[0m\u001b[0mi\u001b[0m\u001b[0;34m]\u001b[0m\u001b[0;34m,\u001b[0m \u001b[0mend\u001b[0m\u001b[0;34m=\u001b[0m\u001b[0;34m' '\u001b[0m\u001b[0;34m)\u001b[0m\u001b[0;34m\u001b[0m\u001b[0;34m\u001b[0m\u001b[0m\n\u001b[0m",
      "\u001b[0;31mTypeError\u001b[0m: list indices must be integers or slices, not float"
     ]
    }
   ],
   "source": [
    "for i in list2:\n",
    "    print(list2[i], end=' ')"
   ]
  },
  {
   "cell_type": "code",
   "execution_count": 36,
   "id": "0bbb9f88",
   "metadata": {},
   "outputs": [
    {
     "name": "stdout",
     "output_type": "stream",
     "text": [
      "2 aman "
     ]
    },
    {
     "ename": "TypeError",
     "evalue": "list indices must be integers or slices, not str",
     "output_type": "error",
     "traceback": [
      "\u001b[0;31m---------------------------------------------------------------------------\u001b[0m",
      "\u001b[0;31mTypeError\u001b[0m                                 Traceback (most recent call last)",
      "\u001b[0;32m/tmp/ipykernel_16594/2331552810.py\u001b[0m in \u001b[0;36m<module>\u001b[0;34m\u001b[0m\n\u001b[1;32m      1\u001b[0m \u001b[0mlist2\u001b[0m \u001b[0;34m=\u001b[0m \u001b[0;34m[\u001b[0m\u001b[0;36m1\u001b[0m\u001b[0;34m,\u001b[0m\u001b[0;36m2\u001b[0m\u001b[0;34m,\u001b[0m\u001b[0;34m'aman'\u001b[0m\u001b[0;34m]\u001b[0m\u001b[0;34m\u001b[0m\u001b[0;34m\u001b[0m\u001b[0m\n\u001b[1;32m      2\u001b[0m \u001b[0;32mfor\u001b[0m \u001b[0mi\u001b[0m \u001b[0;32min\u001b[0m \u001b[0mlist2\u001b[0m\u001b[0;34m:\u001b[0m\u001b[0;34m\u001b[0m\u001b[0;34m\u001b[0m\u001b[0m\n\u001b[0;32m----> 3\u001b[0;31m     \u001b[0mprint\u001b[0m\u001b[0;34m(\u001b[0m\u001b[0mlist2\u001b[0m\u001b[0;34m[\u001b[0m\u001b[0mi\u001b[0m\u001b[0;34m]\u001b[0m\u001b[0;34m,\u001b[0m \u001b[0mend\u001b[0m\u001b[0;34m=\u001b[0m\u001b[0;34m' '\u001b[0m\u001b[0;34m)\u001b[0m\u001b[0;34m\u001b[0m\u001b[0;34m\u001b[0m\u001b[0m\n\u001b[0m",
      "\u001b[0;31mTypeError\u001b[0m: list indices must be integers or slices, not str"
     ]
    }
   ],
   "source": [
    "list2 = [1,2,'aman']\n",
    "for i in list2:\n",
    "    print(list2[i], end=' ')"
   ]
  },
  {
   "cell_type": "code",
   "execution_count": null,
   "id": "3d1735e3",
   "metadata": {},
   "outputs": [],
   "source": [
    "for i in list2:\n",
    "    print(list2[i], end=' ')"
   ]
  },
  {
   "cell_type": "code",
   "execution_count": 37,
   "id": "a14f5b30",
   "metadata": {},
   "outputs": [
    {
     "data": {
      "text/plain": [
       "11"
      ]
     },
     "execution_count": 37,
     "metadata": {},
     "output_type": "execute_result"
    }
   ],
   "source": [
    "string = 'aman mishra'\n",
    "len(string)"
   ]
  },
  {
   "cell_type": "code",
   "execution_count": 38,
   "id": "e2e19af0",
   "metadata": {},
   "outputs": [
    {
     "data": {
      "text/plain": [
       "9"
      ]
     },
     "execution_count": 38,
     "metadata": {},
     "output_type": "execute_result"
    }
   ],
   "source": [
    "l1 = [1,2,3,4,5,6,'789', '889', [55,66,77,88]]\n",
    "len(l1)"
   ]
  },
  {
   "cell_type": "code",
   "execution_count": 39,
   "id": "45afdaa9",
   "metadata": {},
   "outputs": [
    {
     "data": {
      "text/plain": [
       "4"
      ]
     },
     "execution_count": 39,
     "metadata": {},
     "output_type": "execute_result"
    }
   ],
   "source": [
    "len(l1[8])"
   ]
  },
  {
   "cell_type": "code",
   "execution_count": 41,
   "id": "7e3293cc",
   "metadata": {},
   "outputs": [
    {
     "name": "stdout",
     "output_type": "stream",
     "text": [
      "1 <class 'int'>\n",
      "2 <class 'int'>\n",
      "3 <class 'int'>\n",
      "4 <class 'int'>\n",
      "5 <class 'int'>\n",
      "6 <class 'int'>\n",
      "789 <class 'str'>\n",
      "55.893 <class 'float'>\n",
      "[55, 66, 77, 88] <class 'list'>\n"
     ]
    }
   ],
   "source": [
    "l1 = [1,2,3,4,5,6,'789', 55.893, [55,66,77,88]]\n",
    "for i in l1:\n",
    "    print(i, type(i))"
   ]
  },
  {
   "cell_type": "code",
   "execution_count": 42,
   "id": "8747da25",
   "metadata": {},
   "outputs": [
    {
     "name": "stdout",
     "output_type": "stream",
     "text": [
      "1\n",
      "2\n",
      "3\n",
      "4\n",
      "5\n",
      "6\n",
      "789\n",
      "55.893\n",
      "[55, 66, 77, 88]\n"
     ]
    }
   ],
   "source": [
    "l1 = [1,2,3,4,5,6,'789', 55.893, [55,66,77,88]]\n",
    "for i in range(9):\n",
    "    print(l1[i])"
   ]
  },
  {
   "cell_type": "code",
   "execution_count": 43,
   "id": "c67a2cf3",
   "metadata": {},
   "outputs": [
    {
     "name": "stdout",
     "output_type": "stream",
     "text": [
      "1\n",
      "2\n",
      "3\n",
      "4\n",
      "5\n",
      "6\n",
      "789\n",
      "55.893\n",
      "[55, 66, 77, 88]\n",
      "6767\n"
     ]
    }
   ],
   "source": [
    "l1 = [1,2,3,4,5,6,'789', 55.893, [55,66,77,88],6767]\n",
    "for i in range(len(l1)):\n",
    "    print(l1[i])"
   ]
  },
  {
   "cell_type": "code",
   "execution_count": 44,
   "id": "c1406dbb",
   "metadata": {},
   "outputs": [
    {
     "name": "stdout",
     "output_type": "stream",
     "text": [
      "11 22 33 44 55 66 77 88 99 "
     ]
    }
   ],
   "source": [
    "l1 = [11,22,33,44,55,66,77,88,99]\n",
    "for i in range(len(l1)):\n",
    "    print(l1[i], end=' ')"
   ]
  },
  {
   "cell_type": "code",
   "execution_count": 46,
   "id": "1b19d59c",
   "metadata": {},
   "outputs": [
    {
     "name": "stdout",
     "output_type": "stream",
     "text": [
      "99 88 77 66 55 44 33 22 "
     ]
    }
   ],
   "source": [
    "l1 = [11,22,33,44,55,66,77,88,99]\n",
    "for i in range(len(l1)-1, 0, -1):\n",
    "    print(l1[i], end=' ')"
   ]
  },
  {
   "cell_type": "code",
   "execution_count": 47,
   "id": "712f3919",
   "metadata": {},
   "outputs": [
    {
     "name": "stdout",
     "output_type": "stream",
     "text": [
      "99 88 77 66 55 44 33 22 11 "
     ]
    }
   ],
   "source": [
    "l1 = [11,22,33,44,55,66,77,88,99]\n",
    "for i in range(len(l1)-1, -1, -1):\n",
    "    print(l1[i], end=' ')"
   ]
  },
  {
   "cell_type": "code",
   "execution_count": 52,
   "id": "815c324f",
   "metadata": {},
   "outputs": [
    {
     "name": "stdout",
     "output_type": "stream",
     "text": [
      "9\n"
     ]
    }
   ],
   "source": [
    "import random\n",
    "num = random.randint(1,10)\n",
    "print(num)"
   ]
  },
  {
   "cell_type": "code",
   "execution_count": 56,
   "id": "d5def4c3",
   "metadata": {},
   "outputs": [
    {
     "data": {
      "text/plain": [
       "[1, 9, 6, 3, 8, 2, 9, 5, 1, 2]"
      ]
     },
     "execution_count": 56,
     "metadata": {},
     "output_type": "execute_result"
    }
   ],
   "source": [
    "l = []\n",
    "for i in range(10):\n",
    "    l.append(random.randint(1,10))\n",
    "l"
   ]
  },
  {
   "cell_type": "code",
   "execution_count": 57,
   "id": "1218da1d",
   "metadata": {},
   "outputs": [
    {
     "name": "stdout",
     "output_type": "stream",
     "text": [
      "6 8 2 2 "
     ]
    }
   ],
   "source": [
    "list1 = [1, 9, 6, 3, 8, 2, 9, 5, 1, 2]\n",
    "for i in list1:\n",
    "    if i%2 == 0:\n",
    "        print(i, end=' ')"
   ]
  },
  {
   "cell_type": "code",
   "execution_count": 58,
   "id": "c2949fe9",
   "metadata": {},
   "outputs": [
    {
     "name": "stdout",
     "output_type": "stream",
     "text": [
      "1 9 3 9 5 1 "
     ]
    }
   ],
   "source": [
    "list1 = [1, 9, 6, 3, 8, 2, 9, 5, 1, 2]\n",
    "for i in list1:\n",
    "    if i%2 != 0:\n",
    "        print(i, end=' ')"
   ]
  },
  {
   "cell_type": "code",
   "execution_count": 59,
   "id": "330b0ae6",
   "metadata": {},
   "outputs": [
    {
     "name": "stdout",
     "output_type": "stream",
     "text": [
      "6 8 2 2 "
     ]
    }
   ],
   "source": [
    "list1 = [1, 9, 6, 3, 8, 2, 9, 5, 1, 2]\n",
    "for i in list1:\n",
    "    if not i%2 != 0:\n",
    "        print(i, end=' ')"
   ]
  },
  {
   "cell_type": "code",
   "execution_count": null,
   "id": "be599028",
   "metadata": {},
   "outputs": [],
   "source": []
  },
  {
   "cell_type": "code",
   "execution_count": null,
   "id": "e60b243d",
   "metadata": {},
   "outputs": [],
   "source": []
  },
  {
   "cell_type": "code",
   "execution_count": null,
   "id": "3b5555f7",
   "metadata": {},
   "outputs": [],
   "source": []
  },
  {
   "cell_type": "code",
   "execution_count": null,
   "id": "cd713935",
   "metadata": {},
   "outputs": [],
   "source": []
  }
 ],
 "metadata": {
  "kernelspec": {
   "display_name": "Python 3 (ipykernel)",
   "language": "python",
   "name": "python3"
  },
  "language_info": {
   "codemirror_mode": {
    "name": "ipython",
    "version": 3
   },
   "file_extension": ".py",
   "mimetype": "text/x-python",
   "name": "python",
   "nbconvert_exporter": "python",
   "pygments_lexer": "ipython3",
   "version": "3.10.12"
  }
 },
 "nbformat": 4,
 "nbformat_minor": 5
}
