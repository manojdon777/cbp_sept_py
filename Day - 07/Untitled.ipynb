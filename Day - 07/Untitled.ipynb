{
 "cells": [
  {
   "cell_type": "markdown",
   "id": "4d7f85d2",
   "metadata": {},
   "source": [
    "### lcm of two numbers"
   ]
  },
  {
   "cell_type": "code",
   "execution_count": 10,
   "id": "fe8f0ac9",
   "metadata": {},
   "outputs": [
    {
     "name": "stdout",
     "output_type": "stream",
     "text": [
      "Enter first num: 34\n",
      "Enter second num: 80\n",
      "LCM of 34 and 80 is = 1360\n"
     ]
    }
   ],
   "source": [
    "first = int(input('Enter first num: '))\n",
    "second = int(input('Enter second num: '))\n",
    "num1 = first\n",
    "num2 = second\n",
    "i = 2\n",
    "lcm = 1\n",
    "big = num1 if num1>num2 else num2\n",
    "# print(big)\n",
    "while i<= big:\n",
    "    while num1%i == 0 or num2%i == 0:\n",
    "        if num1%i == 0 and num2%i == 0:         \n",
    "            num1 //= i\n",
    "            num2 //= i\n",
    "        elif num1%i == 0 :\n",
    "            num1 //= i\n",
    "        elif num2%i == 0 :\n",
    "            num2 //= i\n",
    "        lcm = lcm * i\n",
    "    i += 1\n",
    "print('LCM of', first, 'and', second, 'is =', lcm)\n"
   ]
  },
  {
   "cell_type": "markdown",
   "id": "41e07eba",
   "metadata": {},
   "source": [
    "### gcd of two numbers"
   ]
  },
  {
   "cell_type": "code",
   "execution_count": 20,
   "id": "3aca3b85",
   "metadata": {},
   "outputs": [
    {
     "name": "stdout",
     "output_type": "stream",
     "text": [
      "Enter first num: 100\n",
      "Enter second num: 200\n",
      "GCD of 100 and 200 is = 100\n"
     ]
    }
   ],
   "source": [
    "num1 = int(input('Enter first num: '))\n",
    "num2 = int(input('Enter second num: '))\n",
    "small = num1 if num1<num2 else num2\n",
    "i = 2\n",
    "gcd = 1\n",
    "while i <= small:\n",
    "    if num1%i == 0 and num2%i == 0:\n",
    "        gcd = i\n",
    "    i += 1\n",
    "print('GCD of', num1, 'and', num2, 'is =', gcd)"
   ]
  },
  {
   "cell_type": "markdown",
   "id": "735c2327",
   "metadata": {},
   "source": [
    "### factorial of a number"
   ]
  },
  {
   "cell_type": "code",
   "execution_count": 23,
   "id": "4aa59966",
   "metadata": {},
   "outputs": [
    {
     "name": "stdout",
     "output_type": "stream",
     "text": [
      "Enter num: 10\n",
      "3628800\n"
     ]
    }
   ],
   "source": [
    "num = int(input('Enter num: '))\n",
    "fact = 1\n",
    "for i in range(1,num+1):\n",
    "    fact *= i\n",
    "print(fact)"
   ]
  },
  {
   "cell_type": "code",
   "execution_count": 28,
   "id": "885a431a",
   "metadata": {},
   "outputs": [
    {
     "name": "stdout",
     "output_type": "stream",
     "text": [
      "Enter any num: 75\n",
      "Non prime\n"
     ]
    }
   ],
   "source": [
    "n = int(input('Enter any num: '))\n",
    "# boolean = True\n",
    "for i in range(2, n):\n",
    "\n",
    "    if n % i  == 0:\n",
    "        print('Non prime')\n",
    "        break\n",
    "else:\n",
    "    print('Prime')"
   ]
  },
  {
   "cell_type": "code",
   "execution_count": 44,
   "id": "ae1a82b2",
   "metadata": {},
   "outputs": [
    {
     "name": "stdout",
     "output_type": "stream",
     "text": [
      "Enter any num: 4\n",
      "Prime\n"
     ]
    }
   ],
   "source": [
    "## optimizations is out last prime number checking program\n",
    "# check if any number is prime or not\n",
    "n = int(input('Enter any num: '))\n",
    "# boolean = True\n",
    "for i in range(2, n//2):\n",
    "\n",
    "    if n % i  == 0:\n",
    "        print('Non prime')\n",
    "        break\n",
    "else:\n",
    "    print('Prime')"
   ]
  },
  {
   "cell_type": "markdown",
   "id": "f76d3aea",
   "metadata": {},
   "source": [
    "## optimizations is out last prime number checking program"
   ]
  },
  {
   "cell_type": "code",
   "execution_count": 45,
   "id": "99651297",
   "metadata": {},
   "outputs": [
    {
     "name": "stdout",
     "output_type": "stream",
     "text": [
      "Enter any num: 5\n"
     ]
    },
    {
     "ename": "TypeError",
     "evalue": "'float' object cannot be interpreted as an integer",
     "output_type": "error",
     "traceback": [
      "\u001b[0;31m---------------------------------------------------------------------------\u001b[0m",
      "\u001b[0;31mTypeError\u001b[0m                                 Traceback (most recent call last)",
      "\u001b[0;32m/tmp/ipykernel_13707/3534426003.py\u001b[0m in \u001b[0;36m<module>\u001b[0;34m\u001b[0m\n\u001b[1;32m      3\u001b[0m \u001b[0mn\u001b[0m \u001b[0;34m=\u001b[0m \u001b[0mint\u001b[0m\u001b[0;34m(\u001b[0m\u001b[0minput\u001b[0m\u001b[0;34m(\u001b[0m\u001b[0;34m'Enter any num: '\u001b[0m\u001b[0;34m)\u001b[0m\u001b[0;34m)\u001b[0m\u001b[0;34m\u001b[0m\u001b[0;34m\u001b[0m\u001b[0m\n\u001b[1;32m      4\u001b[0m \u001b[0;31m# boolean = True\u001b[0m\u001b[0;34m\u001b[0m\u001b[0;34m\u001b[0m\u001b[0m\n\u001b[0;32m----> 5\u001b[0;31m \u001b[0;32mfor\u001b[0m \u001b[0mi\u001b[0m \u001b[0;32min\u001b[0m \u001b[0mrange\u001b[0m\u001b[0;34m(\u001b[0m\u001b[0;36m2\u001b[0m\u001b[0;34m,\u001b[0m \u001b[0mn\u001b[0m\u001b[0;34m/\u001b[0m\u001b[0;36m2\u001b[0m\u001b[0;34m)\u001b[0m\u001b[0;34m:\u001b[0m\u001b[0;34m\u001b[0m\u001b[0;34m\u001b[0m\u001b[0m\n\u001b[0m\u001b[1;32m      6\u001b[0m \u001b[0;34m\u001b[0m\u001b[0m\n\u001b[1;32m      7\u001b[0m     \u001b[0;32mif\u001b[0m \u001b[0mn\u001b[0m \u001b[0;34m%\u001b[0m \u001b[0mi\u001b[0m  \u001b[0;34m==\u001b[0m \u001b[0;36m0\u001b[0m\u001b[0;34m:\u001b[0m\u001b[0;34m\u001b[0m\u001b[0;34m\u001b[0m\u001b[0m\n",
      "\u001b[0;31mTypeError\u001b[0m: 'float' object cannot be interpreted as an integer"
     ]
    }
   ],
   "source": [
    "\n",
    "# check if any number is prime or not\n",
    "n = int(input('Enter any num: '))\n",
    "# boolean = True\n",
    "for i in range(2, n/2):\n",
    "\n",
    "    if n % i  == 0:\n",
    "        print('Non prime')\n",
    "        break\n",
    "else:\n",
    "    print('Prime')"
   ]
  },
  {
   "cell_type": "code",
   "execution_count": 35,
   "id": "589e8b8a",
   "metadata": {},
   "outputs": [
    {
     "name": "stdout",
     "output_type": "stream",
     "text": [
      "2 3 4 5 7 11 13 17 19 23 29 31 37 41 43 47 53 59 61 67 71 73 79 83 89 97 "
     ]
    }
   ],
   "source": [
    "# generate all prime numbers between 1 to 100\n",
    "n = 100\n",
    "for num in range(2, n):\n",
    "    boolean = True\n",
    "    for i in range(2, num//2+1):\n",
    "        if num % i == 0:\n",
    "            boolean = False;\n",
    "            break\n",
    "    if boolean:\n",
    "        print(num, end=' ')\n",
    "                \n",
    "\n",
    "            "
   ]
  },
  {
   "cell_type": "code",
   "execution_count": 47,
   "id": "0d18c438",
   "metadata": {},
   "outputs": [
    {
     "name": "stdout",
     "output_type": "stream",
     "text": [
      "2 3 5 7 11 13 17 19 23 29 31 37 41 43 47 53 59 61 67 71 73 79 83 89 97 "
     ]
    }
   ],
   "source": [
    "import math\n",
    "# generate all prime numbers between 1 to 100\n",
    "n = 100\n",
    "for num in range(2, n):\n",
    "    boolean = True\n",
    "    for i in range(2, int(math.sqrt(num)+1)):\n",
    "        if num % i == 0:\n",
    "            boolean = False;\n",
    "            break\n",
    "    if boolean:\n",
    "        print(num, end=' ')\n",
    "                \n",
    "\n",
    "            "
   ]
  },
  {
   "cell_type": "code",
   "execution_count": 37,
   "id": "cdc0671c",
   "metadata": {},
   "outputs": [
    {
     "name": "stdout",
     "output_type": "stream",
     "text": [
      "2 3 4 5 6 7 8 9 10 11 12 13 14 15 16 17 18 19 "
     ]
    }
   ],
   "source": [
    "for i in range(2,20, 1):\n",
    "    print(i, end=' ')"
   ]
  },
  {
   "cell_type": "code",
   "execution_count": 38,
   "id": "42b6acf3",
   "metadata": {},
   "outputs": [],
   "source": [
    "for i in range(2,20, -1):\n",
    "    print(i, end=' ')"
   ]
  },
  {
   "cell_type": "code",
   "execution_count": 39,
   "id": "8fc135e8",
   "metadata": {},
   "outputs": [
    {
     "name": "stdout",
     "output_type": "stream",
     "text": [
      "30 25 20 15 10 5 "
     ]
    }
   ],
   "source": [
    "for i in range(30,4, -5):\n",
    "    print(i, end=' ')"
   ]
  },
  {
   "cell_type": "code",
   "execution_count": 40,
   "id": "cb30a6c2",
   "metadata": {},
   "outputs": [],
   "source": [
    "for i in range(30,4, 5):\n",
    "    print(i, end=' ')"
   ]
  },
  {
   "cell_type": "code",
   "execution_count": 42,
   "id": "18fcb89f",
   "metadata": {},
   "outputs": [
    {
     "name": "stdout",
     "output_type": "stream",
     "text": [
      "[]\n"
     ]
    }
   ],
   "source": [
    "print(list(range(30,4, 5)))"
   ]
  },
  {
   "cell_type": "code",
   "execution_count": 43,
   "id": "fcb4d06d",
   "metadata": {},
   "outputs": [
    {
     "name": "stdout",
     "output_type": "stream",
     "text": [
      "[30, 25, 20, 15, 10, 5]\n"
     ]
    }
   ],
   "source": [
    "print(list(range(30,4, -5)))"
   ]
  },
  {
   "cell_type": "code",
   "execution_count": null,
   "id": "3b04b45b",
   "metadata": {},
   "outputs": [],
   "source": []
  },
  {
   "cell_type": "code",
   "execution_count": null,
   "id": "2329bd0a",
   "metadata": {},
   "outputs": [],
   "source": []
  },
  {
   "cell_type": "code",
   "execution_count": null,
   "id": "32d57c74",
   "metadata": {},
   "outputs": [],
   "source": []
  }
 ],
 "metadata": {
  "kernelspec": {
   "display_name": "Python 3 (ipykernel)",
   "language": "python",
   "name": "python3"
  },
  "language_info": {
   "codemirror_mode": {
    "name": "ipython",
    "version": 3
   },
   "file_extension": ".py",
   "mimetype": "text/x-python",
   "name": "python",
   "nbconvert_exporter": "python",
   "pygments_lexer": "ipython3",
   "version": "3.10.12"
  }
 },
 "nbformat": 4,
 "nbformat_minor": 5
}
