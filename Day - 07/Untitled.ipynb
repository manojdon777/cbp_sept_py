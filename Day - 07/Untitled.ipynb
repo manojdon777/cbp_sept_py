{
 "cells": [
  {
   "cell_type": "markdown",
   "id": "c8b4e866",
   "metadata": {},
   "source": [
    "### lcm of two numbers"
   ]
  },
  {
   "cell_type": "code",
   "execution_count": 10,
   "id": "390472ff",
   "metadata": {},
   "outputs": [
    {
     "name": "stdout",
     "output_type": "stream",
     "text": [
      "Enter first num: 34\n",
      "Enter second num: 80\n",
      "LCM of 34 and 80 is = 1360\n"
     ]
    }
   ],
   "source": [
    "first = int(input('Enter first num: '))\n",
    "second = int(input('Enter second num: '))\n",
    "num1 = first\n",
    "num2 = second\n",
    "i = 2\n",
    "lcm = 1\n",
    "big = num1 if num1>num2 else num2\n",
    "# print(big)\n",
    "while i<= big:\n",
    "    while num1%i == 0 or num2%i == 0:\n",
    "        if num1%i == 0 and num2%i == 0:         \n",
    "            num1 //= i\n",
    "            num2 //= i\n",
    "        elif num1%i == 0 :\n",
    "            num1 //= i\n",
    "        elif num2%i == 0 :\n",
    "            num2 //= i\n",
    "        lcm = lcm * i\n",
    "    i += 1\n",
    "print('LCM of', first, 'and', second, 'is =', lcm)\n"
   ]
  },
  {
   "cell_type": "markdown",
   "id": "a60a140f",
   "metadata": {},
   "source": [
    "### gcd of two numbers"
   ]
  },
  {
   "cell_type": "code",
   "execution_count": null,
   "id": "fe4921f9",
   "metadata": {},
   "outputs": [],
   "source": [
    "num1 = int(input('Enter first num: '))\n",
    "num2 = int(input('Enter second num: '))\n",
    "small = num1 if num1<num2 else num2\n",
    "i = 2\n",
    "gcd = 1\n",
    "while i <= small:\n",
    "    if num1%i == 0 and num2%i == 0:\n",
    "        gcd = i\n",
    "    i += 1\n",
    "print('GCD of', num1, 'and', num2, 'is =', gcd)"
   ]
  },
  {
   "cell_type": "code",
   "execution_count": null,
   "id": "345a4f77",
   "metadata": {},
   "outputs": [],
   "source": []
  },
  {
   "cell_type": "code",
   "execution_count": null,
   "id": "32dccd42",
   "metadata": {},
   "outputs": [],
   "source": []
  },
  {
   "cell_type": "code",
   "execution_count": null,
   "id": "61be66d5",
   "metadata": {},
   "outputs": [],
   "source": []
  },
  {
   "cell_type": "code",
   "execution_count": null,
   "id": "405b88d9",
   "metadata": {},
   "outputs": [],
   "source": []
  }
 ],
 "metadata": {
  "kernelspec": {
   "display_name": "Python 3 (ipykernel)",
   "language": "python",
   "name": "python3"
  },
  "language_info": {
   "codemirror_mode": {
    "name": "ipython",
    "version": 3
   },
   "file_extension": ".py",
   "mimetype": "text/x-python",
   "name": "python",
   "nbconvert_exporter": "python",
   "pygments_lexer": "ipython3",
   "version": "3.10.12"
  }
 },
 "nbformat": 4,
 "nbformat_minor": 5
}
