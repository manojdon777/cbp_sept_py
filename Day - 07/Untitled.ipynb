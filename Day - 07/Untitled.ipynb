{
 "cells": [
  {
   "cell_type": "code",
   "execution_count": 10,
   "id": "a2a1ed59",
   "metadata": {},
   "outputs": [
    {
     "name": "stdout",
     "output_type": "stream",
     "text": [
      "Enter first num: 34\n",
      "Enter second num: 80\n",
      "LCM of 34 and 80 is = 1360\n"
     ]
    }
   ],
   "source": [
    "first = int(input('Enter first num: '))\n",
    "second = int(input('Enter second num: '))\n",
    "num1 = first\n",
    "num2 = second\n",
    "i = 2\n",
    "lcm = 1\n",
    "big = num1 if num1>num2 else num2\n",
    "# print(big)\n",
    "while i<= big:\n",
    "    while num1%i == 0 or num2%i == 0:\n",
    "        if num1%i == 0 and num2%i == 0:         \n",
    "            num1 //= i\n",
    "            num2 //= i\n",
    "        elif num1%i == 0 :\n",
    "            num1 //= i\n",
    "        elif num2%i == 0 :\n",
    "            num2 //= i\n",
    "        lcm = lcm * i\n",
    "    i += 1\n",
    "print('LCM of', first, 'and', second, 'is =', lcm)\n"
   ]
  }
 ],
 "metadata": {
  "kernelspec": {
   "display_name": "Python 3 (ipykernel)",
   "language": "python",
   "name": "python3"
  },
  "language_info": {
   "codemirror_mode": {
    "name": "ipython",
    "version": 3
   },
   "file_extension": ".py",
   "mimetype": "text/x-python",
   "name": "python",
   "nbconvert_exporter": "python",
   "pygments_lexer": "ipython3",
   "version": "3.10.12"
  }
 },
 "nbformat": 4,
 "nbformat_minor": 5
}
