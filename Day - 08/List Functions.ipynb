{
 "cells": [
  {
   "cell_type": "code",
   "execution_count": 1,
   "id": "e2d25181",
   "metadata": {},
   "outputs": [
    {
     "name": "stdout",
     "output_type": "stream",
     "text": [
      "0 -> 1 -> <class 'list'>\n",
      "1 -> 2 -> <class 'list'>\n",
      "2 -> CBP -> <class 'list'>\n",
      "3 -> 77.88 -> <class 'list'>\n",
      "4 -> [22, 66, 88] -> <class 'list'>\n",
      "5 -> (1, 3) -> <class 'list'>\n"
     ]
    }
   ],
   "source": [
    "list2 = [1, 2, 'CBP', 77.88, [22,66,88], (1,3)]\n",
    "for i in range(len(list2)):\n",
    "    print(i, '->', list2[i], '->', type(list2))"
   ]
  },
  {
   "cell_type": "markdown",
   "id": "0c58f2b2",
   "metadata": {},
   "source": [
    "## Add items"
   ]
  },
  {
   "cell_type": "markdown",
   "id": "b3fb71b5",
   "metadata": {},
   "source": [
    "## 1. append()"
   ]
  },
  {
   "cell_type": "code",
   "execution_count": 5,
   "id": "a147a50b",
   "metadata": {},
   "outputs": [
    {
     "data": {
      "text/plain": [
       "[45]"
      ]
     },
     "execution_count": 5,
     "metadata": {},
     "output_type": "execute_result"
    }
   ],
   "source": [
    "list1 = []\n",
    "list1.append(45)\n",
    "list1"
   ]
  },
  {
   "cell_type": "code",
   "execution_count": 6,
   "id": "f6d5b2b0",
   "metadata": {},
   "outputs": [
    {
     "data": {
      "text/plain": [
       "[45, 39]"
      ]
     },
     "execution_count": 6,
     "metadata": {},
     "output_type": "execute_result"
    }
   ],
   "source": [
    "list1.append(39)\n",
    "list1"
   ]
  },
  {
   "cell_type": "code",
   "execution_count": 7,
   "id": "bfac1169",
   "metadata": {},
   "outputs": [
    {
     "data": {
      "text/plain": [
       "[45, 39, 'CBP Program 2024']"
      ]
     },
     "execution_count": 7,
     "metadata": {},
     "output_type": "execute_result"
    }
   ],
   "source": [
    "list1.append('CBP Program 2024')\n",
    "list1"
   ]
  },
  {
   "cell_type": "code",
   "execution_count": 8,
   "id": "cb48e1b1",
   "metadata": {},
   "outputs": [
    {
     "data": {
      "text/plain": [
       "[45, 39, 'CBP Program 2024', {'a': [1, 1, 1], 'b': [2, 2, 2]}]"
      ]
     },
     "execution_count": 8,
     "metadata": {},
     "output_type": "execute_result"
    }
   ],
   "source": [
    "list1.append({'a':[1,1,1], 'b':[2,2,2]})\n",
    "list1"
   ]
  },
  {
   "cell_type": "code",
   "execution_count": 33,
   "id": "739c8553",
   "metadata": {},
   "outputs": [
    {
     "data": {
      "text/plain": [
       "[1, 2]"
      ]
     },
     "execution_count": 33,
     "metadata": {},
     "output_type": "execute_result"
    }
   ],
   "source": [
    "l = [1,2]\n",
    "l"
   ]
  },
  {
   "cell_type": "code",
   "execution_count": 34,
   "id": "3375851f",
   "metadata": {},
   "outputs": [
    {
     "ename": "TypeError",
     "evalue": "list.append() takes exactly one argument (2 given)",
     "output_type": "error",
     "traceback": [
      "\u001b[0;31m---------------------------------------------------------------------------\u001b[0m",
      "\u001b[0;31mTypeError\u001b[0m                                 Traceback (most recent call last)",
      "\u001b[0;32m/tmp/ipykernel_21835/3245866658.py\u001b[0m in \u001b[0;36m<module>\u001b[0;34m\u001b[0m\n\u001b[0;32m----> 1\u001b[0;31m \u001b[0ml\u001b[0m\u001b[0;34m.\u001b[0m\u001b[0mappend\u001b[0m\u001b[0;34m(\u001b[0m\u001b[0;36m3\u001b[0m\u001b[0;34m,\u001b[0m\u001b[0;36m4\u001b[0m\u001b[0;34m)\u001b[0m\u001b[0;34m\u001b[0m\u001b[0;34m\u001b[0m\u001b[0m\n\u001b[0m",
      "\u001b[0;31mTypeError\u001b[0m: list.append() takes exactly one argument (2 given)"
     ]
    }
   ],
   "source": [
    "l.append(3,4)"
   ]
  },
  {
   "cell_type": "code",
   "execution_count": 35,
   "id": "9b52fb08",
   "metadata": {},
   "outputs": [],
   "source": [
    "l.append([3,4])"
   ]
  },
  {
   "cell_type": "code",
   "execution_count": 36,
   "id": "836ffb19",
   "metadata": {},
   "outputs": [
    {
     "data": {
      "text/plain": [
       "[1, 2, [3, 4]]"
      ]
     },
     "execution_count": 36,
     "metadata": {},
     "output_type": "execute_result"
    }
   ],
   "source": [
    "l"
   ]
  },
  {
   "cell_type": "code",
   "execution_count": 37,
   "id": "865d3828",
   "metadata": {},
   "outputs": [
    {
     "data": {
      "text/plain": [
       "[1, 2, 3, 4]"
      ]
     },
     "execution_count": 37,
     "metadata": {},
     "output_type": "execute_result"
    }
   ],
   "source": [
    "list = [1,2,3,4]\n",
    "list"
   ]
  },
  {
   "cell_type": "code",
   "execution_count": 38,
   "id": "542fef4a",
   "metadata": {},
   "outputs": [
    {
     "ename": "TypeError",
     "evalue": "'list' object is not callable",
     "output_type": "error",
     "traceback": [
      "\u001b[0;31m---------------------------------------------------------------------------\u001b[0m",
      "\u001b[0;31mTypeError\u001b[0m                                 Traceback (most recent call last)",
      "\u001b[0;32m/tmp/ipykernel_21835/1713203303.py\u001b[0m in \u001b[0;36m<module>\u001b[0;34m\u001b[0m\n\u001b[0;32m----> 1\u001b[0;31m \u001b[0mlist1\u001b[0m \u001b[0;34m=\u001b[0m \u001b[0mlist\u001b[0m\u001b[0;34m(\u001b[0m\u001b[0;34m)\u001b[0m\u001b[0;34m\u001b[0m\u001b[0;34m\u001b[0m\u001b[0m\n\u001b[0m",
      "\u001b[0;31mTypeError\u001b[0m: 'list' object is not callable"
     ]
    }
   ],
   "source": [
    "list1 = list()"
   ]
  },
  {
   "cell_type": "code",
   "execution_count": 39,
   "id": "46069632",
   "metadata": {},
   "outputs": [
    {
     "data": {
      "text/plain": [
       "[0, 0, 0, 0, 0, 0, 0, 0, 0, 0, 0, 0, 0, 0, 0, 0, 0, 0, 0, 0]"
      ]
     },
     "execution_count": 39,
     "metadata": {},
     "output_type": "execute_result"
    }
   ],
   "source": [
    "l = []\n",
    "for i in range(1,21):\n",
    "    l.append(0)\n",
    "l"
   ]
  },
  {
   "cell_type": "code",
   "execution_count": 40,
   "id": "1d87c18a",
   "metadata": {},
   "outputs": [
    {
     "data": {
      "text/plain": [
       "[1, 2, 3, 4, 5, 6, 7, 8, 9, 10, 11, 12, 13, 14, 15, 16, 17, 18, 19, 20]"
      ]
     },
     "execution_count": 40,
     "metadata": {},
     "output_type": "execute_result"
    }
   ],
   "source": [
    "l = []\n",
    "for i in range(1,21):\n",
    "    l.append(i)\n",
    "l"
   ]
  },
  {
   "cell_type": "code",
   "execution_count": 41,
   "id": "0c3e83b5",
   "metadata": {},
   "outputs": [
    {
     "data": {
      "text/plain": [
       "[3, 6, 9, 12, 15, 18, 21, 24, 27, 30, 33, 36, 39, 42, 45, 48, 51, 54, 57, 60]"
      ]
     },
     "execution_count": 41,
     "metadata": {},
     "output_type": "execute_result"
    }
   ],
   "source": [
    "l = []\n",
    "for i in range(1,21):\n",
    "    l.append(i*3)\n",
    "l"
   ]
  },
  {
   "cell_type": "code",
   "execution_count": 43,
   "id": "8385f4d7",
   "metadata": {},
   "outputs": [
    {
     "data": {
      "text/plain": [
       "[0.42419747804607755,\n",
       " 0.33049074530366285,\n",
       " 0.942879973198804,\n",
       " 0.9309134137407882,\n",
       " 0.2991558864852566,\n",
       " 0.025571981095666718,\n",
       " 0.01741494212710748,\n",
       " 0.3562987615944937,\n",
       " 0.34413175375814,\n",
       " 0.4412074446788623]"
      ]
     },
     "execution_count": 43,
     "metadata": {},
     "output_type": "execute_result"
    }
   ],
   "source": [
    "import random\n",
    "ran_list = []\n",
    "for i in range(10):\n",
    "    ran_list.append(random.random())\n",
    "ran_list"
   ]
  },
  {
   "cell_type": "code",
   "execution_count": 47,
   "id": "87b80dcb",
   "metadata": {},
   "outputs": [
    {
     "data": {
      "text/plain": [
       "[99, 66, 75, 93, 88, 65, 78, 59, 100, 55]"
      ]
     },
     "execution_count": 47,
     "metadata": {},
     "output_type": "execute_result"
    }
   ],
   "source": [
    "ran_list = []\n",
    "for i in range(10):\n",
    "    ran_list.append(random.randint(51,100))\n",
    "ran_list"
   ]
  },
  {
   "cell_type": "markdown",
   "id": "d0c35fa1",
   "metadata": {},
   "source": [
    "## 2. extend()"
   ]
  },
  {
   "cell_type": "code",
   "execution_count": 14,
   "id": "e4f844c5",
   "metadata": {},
   "outputs": [
    {
     "data": {
      "text/plain": [
       "[1, 2]"
      ]
     },
     "execution_count": 14,
     "metadata": {},
     "output_type": "execute_result"
    }
   ],
   "source": [
    "l = [1,2]\n",
    "l"
   ]
  },
  {
   "cell_type": "code",
   "execution_count": 15,
   "id": "fd122f3e",
   "metadata": {},
   "outputs": [
    {
     "data": {
      "text/plain": [
       "[1, 2, 3, 4]"
      ]
     },
     "execution_count": 15,
     "metadata": {},
     "output_type": "execute_result"
    }
   ],
   "source": [
    "l.extend([3,4])\n",
    "l"
   ]
  },
  {
   "cell_type": "code",
   "execution_count": 48,
   "id": "afe6bb57",
   "metadata": {},
   "outputs": [
    {
     "data": {
      "text/plain": [
       "11"
      ]
     },
     "execution_count": 48,
     "metadata": {},
     "output_type": "execute_result"
    }
   ],
   "source": [
    "5+6"
   ]
  },
  {
   "cell_type": "code",
   "execution_count": 49,
   "id": "02f139c8",
   "metadata": {},
   "outputs": [
    {
     "data": {
      "text/plain": [
       "[11, 22, 33, 44, 'aa', 'bb', 'cc', 'dd']"
      ]
     },
     "execution_count": 49,
     "metadata": {},
     "output_type": "execute_result"
    }
   ],
   "source": [
    "l1 = [11,22,33,44]\n",
    "l2 = ['aa','bb','cc','dd']\n",
    "l1 + l2"
   ]
  },
  {
   "cell_type": "code",
   "execution_count": 51,
   "id": "ff6395b3",
   "metadata": {},
   "outputs": [
    {
     "data": {
      "text/plain": [
       "[11, 22, 33, 44, 'aa', 'bb', 'cc', 'dd']"
      ]
     },
     "execution_count": 51,
     "metadata": {},
     "output_type": "execute_result"
    }
   ],
   "source": [
    "l1 = [11,22,33,44]\n",
    "l2 = ['aa','bb','cc','dd']\n",
    "l3 = l1 + l2\n",
    "l3"
   ]
  },
  {
   "cell_type": "code",
   "execution_count": 52,
   "id": "bdb918ea",
   "metadata": {},
   "outputs": [
    {
     "data": {
      "text/plain": [
       "['aa', 'bb', 'cc', 'dd', 11, 22, 33, 44]"
      ]
     },
     "execution_count": 52,
     "metadata": {},
     "output_type": "execute_result"
    }
   ],
   "source": [
    "l1 = [11,22,33,44]\n",
    "l2 = ['aa','bb','cc','dd']\n",
    "l3 = l2 + l1\n",
    "l3"
   ]
  },
  {
   "cell_type": "markdown",
   "id": "4f22dacd",
   "metadata": {},
   "source": [
    "## 3. insert(index, item)"
   ]
  },
  {
   "cell_type": "code",
   "execution_count": 53,
   "id": "520abbeb",
   "metadata": {},
   "outputs": [
    {
     "data": {
      "text/plain": [
       "[11, 22, 'some string', 33, 44]"
      ]
     },
     "execution_count": 53,
     "metadata": {},
     "output_type": "execute_result"
    }
   ],
   "source": [
    "l = [11,22,33,44]\n",
    "l.insert(2, \"some string\")\n",
    "l"
   ]
  },
  {
   "cell_type": "code",
   "execution_count": 55,
   "id": "44d8bfa0",
   "metadata": {},
   "outputs": [
    {
     "data": {
      "text/plain": [
       "[11, 22, 'some string', 44]"
      ]
     },
     "execution_count": 55,
     "metadata": {},
     "output_type": "execute_result"
    }
   ],
   "source": [
    "l = [11,22,33,44]\n",
    "l[2] = \"some string\"\n",
    "l"
   ]
  },
  {
   "cell_type": "markdown",
   "id": "5ff51853",
   "metadata": {},
   "source": [
    "## enumerate()"
   ]
  },
  {
   "cell_type": "code",
   "execution_count": 56,
   "id": "e9351ae0",
   "metadata": {},
   "outputs": [
    {
     "name": "stdout",
     "output_type": "stream",
     "text": [
      "(0, 11)\n",
      "(1, 22)\n",
      "(2, 33)\n",
      "(3, 44)\n"
     ]
    }
   ],
   "source": [
    "l = [11,22,33,44]\n",
    "for val in enumerate(l):\n",
    "    print(val)"
   ]
  },
  {
   "cell_type": "code",
   "execution_count": 57,
   "id": "7f44fb74",
   "metadata": {},
   "outputs": [
    {
     "name": "stdout",
     "output_type": "stream",
     "text": [
      "(0, 'a')\n",
      "(1, 'b')\n",
      "(2, 'c')\n",
      "(3, 'd')\n",
      "(4, 'e')\n"
     ]
    }
   ],
   "source": [
    "l = ['a', 'b', 'c', 'd', 'e',]\n",
    "for val in enumerate(l):\n",
    "    print(val)"
   ]
  },
  {
   "cell_type": "code",
   "execution_count": 61,
   "id": "e1d8e786",
   "metadata": {},
   "outputs": [
    {
     "name": "stdout",
     "output_type": "stream",
     "text": [
      "0 -> a\n",
      "1 -> b\n",
      "2 -> c\n",
      "3 -> d\n",
      "4 -> e\n"
     ]
    }
   ],
   "source": [
    "l = ['a', 'b', 'c', 'd', 'e',]\n",
    "for i,j in enumerate(l):\n",
    "    print(i, '->', j)"
   ]
  },
  {
   "cell_type": "code",
   "execution_count": 63,
   "id": "23acb654",
   "metadata": {},
   "outputs": [
    {
     "name": "stdout",
     "output_type": "stream",
     "text": [
      "0 -> a\n",
      "1 -> b\n",
      "2 -> c\n",
      "3 -> d\n",
      "4 -> e\n"
     ]
    }
   ],
   "source": [
    "l = ['a', 'b', 'c', 'd', 'e',]\n",
    "for index, value in enumerate(l):\n",
    "    print(index, '->', value)"
   ]
  },
  {
   "cell_type": "code",
   "execution_count": 68,
   "id": "77645556",
   "metadata": {},
   "outputs": [
    {
     "name": "stdout",
     "output_type": "stream",
     "text": [
      "0 -> a -> a\n",
      "1 -> b -> b\n",
      "2 -> c -> c\n",
      "3 -> d -> d\n",
      "4 -> e -> e\n"
     ]
    }
   ],
   "source": [
    "list_1 = ['a', 'b', 'c', 'd', 'e',]\n",
    "for index, value in enumerate(list_1):\n",
    "    print(index, '->', value, '->', list_1[index])"
   ]
  },
  {
   "cell_type": "code",
   "execution_count": 69,
   "id": "1493762c",
   "metadata": {},
   "outputs": [
    {
     "name": "stdout",
     "output_type": "stream",
     "text": [
      "0\n",
      "1\n",
      "2\n",
      "3\n",
      "4\n"
     ]
    }
   ],
   "source": [
    "list_1 = ['a', 'b', 'c', 'd', 'e',]\n",
    "for index in range(len(list_1)):\n",
    "    print(index)"
   ]
  },
  {
   "cell_type": "code",
   "execution_count": 70,
   "id": "775ea359",
   "metadata": {},
   "outputs": [
    {
     "data": {
      "text/plain": [
       "'a'"
      ]
     },
     "execution_count": 70,
     "metadata": {},
     "output_type": "execute_result"
    }
   ],
   "source": [
    "list_1[0]"
   ]
  },
  {
   "cell_type": "code",
   "execution_count": 71,
   "id": "bbe82522",
   "metadata": {},
   "outputs": [
    {
     "data": {
      "text/plain": [
       "'c'"
      ]
     },
     "execution_count": 71,
     "metadata": {},
     "output_type": "execute_result"
    }
   ],
   "source": [
    "list_1[2]"
   ]
  },
  {
   "cell_type": "code",
   "execution_count": 73,
   "id": "8eba08ec",
   "metadata": {},
   "outputs": [
    {
     "name": "stdout",
     "output_type": "stream",
     "text": [
      "0 -> a\n",
      "1 -> b\n",
      "2 -> c\n",
      "3 -> d\n",
      "4 -> e\n"
     ]
    }
   ],
   "source": [
    "list_1 = ['a', 'b', 'c', 'd', 'e',]\n",
    "for index in range(len(list_1)):\n",
    "    print(index, '->', list_1[index])"
   ]
  },
  {
   "cell_type": "code",
   "execution_count": null,
   "id": "32ba7d49",
   "metadata": {},
   "outputs": [],
   "source": [
    "list_1 = ['a', 'b', 'c', 'd', 'e',]\n",
    "for index in list_1:\n",
    "    print(index, '->', list_1[index])"
   ]
  }
 ],
 "metadata": {
  "kernelspec": {
   "display_name": "Python 3 (ipykernel)",
   "language": "python",
   "name": "python3"
  },
  "language_info": {
   "codemirror_mode": {
    "name": "ipython",
    "version": 3
   },
   "file_extension": ".py",
   "mimetype": "text/x-python",
   "name": "python",
   "nbconvert_exporter": "python",
   "pygments_lexer": "ipython3",
   "version": "3.10.12"
  }
 },
 "nbformat": 4,
 "nbformat_minor": 5
}
