{
 "cells": [
  {
   "cell_type": "code",
   "execution_count": null,
   "id": "a43d19a5",
   "metadata": {},
   "outputs": [],
   "source": [
    "append() ->    Used for adding elements to the end of the List. \n",
    "copy() ->  It returns a shallow copy of a list\n",
    "clear() -> This method is used for removing all items from the list. \n",
    "count() -> These methods count the elements.\n",
    "extend() ->    Adds each element of an iterable to the end of the List\n",
    "index() -> Returns the lowest index where the element appears. \n",
    "insert() ->    Inserts a given element at a given index in a list. \n",
    "pop() ->   Removes and returns the last value from the List or the given index value.\n",
    "remove() ->    Removes a given object from the List. \n",
    "reverse() ->   Reverses objects of the List in place.\n",
    "sort() ->  Sort a List in ascending, descending, or user-defined order\n",
    "min() ->   Calculates the minimum of all the elements of the List\n",
    "max() ->   Calculates the maximum of all the elements of the List"
   ]
  },
  {
   "cell_type": "code",
   "execution_count": 1,
   "id": "607f4bb3",
   "metadata": {},
   "outputs": [
    {
     "name": "stdout",
     "output_type": "stream",
     "text": [
      "0 -> 1 -> <class 'list'>\n",
      "1 -> 2 -> <class 'list'>\n",
      "2 -> CBP -> <class 'list'>\n",
      "3 -> 77.88 -> <class 'list'>\n",
      "4 -> [22, 66, 88] -> <class 'list'>\n",
      "5 -> (1, 3) -> <class 'list'>\n"
     ]
    }
   ],
   "source": [
    "list2 = [1, 2, 'CBP', 77.88, [22,66,88], (1,3)]\n",
    "for i in range(len(list2)):\n",
    "    print(i, '->', list2[i], '->', type(list2))"
   ]
  },
  {
   "cell_type": "markdown",
   "id": "f0b25381",
   "metadata": {},
   "source": [
    "## Add items"
   ]
  },
  {
   "cell_type": "markdown",
   "id": "dfa144b6",
   "metadata": {},
   "source": [
    "## 1. append()"
   ]
  },
  {
   "cell_type": "code",
   "execution_count": 5,
   "id": "71ce2f22",
   "metadata": {},
   "outputs": [
    {
     "data": {
      "text/plain": [
       "[45]"
      ]
     },
     "execution_count": 5,
     "metadata": {},
     "output_type": "execute_result"
    }
   ],
   "source": [
    "list1 = []\n",
    "list1.append(45)\n",
    "list1"
   ]
  },
  {
   "cell_type": "code",
   "execution_count": 6,
   "id": "b37d29ef",
   "metadata": {},
   "outputs": [
    {
     "data": {
      "text/plain": [
       "[45, 39]"
      ]
     },
     "execution_count": 6,
     "metadata": {},
     "output_type": "execute_result"
    }
   ],
   "source": [
    "list1.append(39)\n",
    "list1"
   ]
  },
  {
   "cell_type": "code",
   "execution_count": 7,
   "id": "25f0daf7",
   "metadata": {},
   "outputs": [
    {
     "data": {
      "text/plain": [
       "[45, 39, 'CBP Program 2024']"
      ]
     },
     "execution_count": 7,
     "metadata": {},
     "output_type": "execute_result"
    }
   ],
   "source": [
    "list1.append('CBP Program 2024')\n",
    "list1"
   ]
  },
  {
   "cell_type": "code",
   "execution_count": 8,
   "id": "aad9adbe",
   "metadata": {},
   "outputs": [
    {
     "data": {
      "text/plain": [
       "[45, 39, 'CBP Program 2024', {'a': [1, 1, 1], 'b': [2, 2, 2]}]"
      ]
     },
     "execution_count": 8,
     "metadata": {},
     "output_type": "execute_result"
    }
   ],
   "source": [
    "list1.append({'a':[1,1,1], 'b':[2,2,2]})\n",
    "list1"
   ]
  },
  {
   "cell_type": "code",
   "execution_count": 33,
   "id": "4d86974a",
   "metadata": {},
   "outputs": [
    {
     "data": {
      "text/plain": [
       "[1, 2]"
      ]
     },
     "execution_count": 33,
     "metadata": {},
     "output_type": "execute_result"
    }
   ],
   "source": [
    "l = [1,2]\n",
    "l"
   ]
  },
  {
   "cell_type": "code",
   "execution_count": 34,
   "id": "b8fe65cc",
   "metadata": {},
   "outputs": [
    {
     "ename": "TypeError",
     "evalue": "list.append() takes exactly one argument (2 given)",
     "output_type": "error",
     "traceback": [
      "\u001b[0;31m---------------------------------------------------------------------------\u001b[0m",
      "\u001b[0;31mTypeError\u001b[0m                                 Traceback (most recent call last)",
      "\u001b[0;32m/tmp/ipykernel_21835/3245866658.py\u001b[0m in \u001b[0;36m<module>\u001b[0;34m\u001b[0m\n\u001b[0;32m----> 1\u001b[0;31m \u001b[0ml\u001b[0m\u001b[0;34m.\u001b[0m\u001b[0mappend\u001b[0m\u001b[0;34m(\u001b[0m\u001b[0;36m3\u001b[0m\u001b[0;34m,\u001b[0m\u001b[0;36m4\u001b[0m\u001b[0;34m)\u001b[0m\u001b[0;34m\u001b[0m\u001b[0;34m\u001b[0m\u001b[0m\n\u001b[0m",
      "\u001b[0;31mTypeError\u001b[0m: list.append() takes exactly one argument (2 given)"
     ]
    }
   ],
   "source": [
    "l.append(3,4)"
   ]
  },
  {
   "cell_type": "code",
   "execution_count": 35,
   "id": "ee335605",
   "metadata": {},
   "outputs": [],
   "source": [
    "l.append([3,4])"
   ]
  },
  {
   "cell_type": "code",
   "execution_count": 36,
   "id": "9545fe1d",
   "metadata": {},
   "outputs": [
    {
     "data": {
      "text/plain": [
       "[1, 2, [3, 4]]"
      ]
     },
     "execution_count": 36,
     "metadata": {},
     "output_type": "execute_result"
    }
   ],
   "source": [
    "l"
   ]
  },
  {
   "cell_type": "code",
   "execution_count": 37,
   "id": "4225cf7c",
   "metadata": {},
   "outputs": [
    {
     "data": {
      "text/plain": [
       "[1, 2, 3, 4]"
      ]
     },
     "execution_count": 37,
     "metadata": {},
     "output_type": "execute_result"
    }
   ],
   "source": [
    "list = [1,2,3,4]\n",
    "list"
   ]
  },
  {
   "cell_type": "code",
   "execution_count": 38,
   "id": "dd768c6a",
   "metadata": {},
   "outputs": [
    {
     "ename": "TypeError",
     "evalue": "'list' object is not callable",
     "output_type": "error",
     "traceback": [
      "\u001b[0;31m---------------------------------------------------------------------------\u001b[0m",
      "\u001b[0;31mTypeError\u001b[0m                                 Traceback (most recent call last)",
      "\u001b[0;32m/tmp/ipykernel_21835/1713203303.py\u001b[0m in \u001b[0;36m<module>\u001b[0;34m\u001b[0m\n\u001b[0;32m----> 1\u001b[0;31m \u001b[0mlist1\u001b[0m \u001b[0;34m=\u001b[0m \u001b[0mlist\u001b[0m\u001b[0;34m(\u001b[0m\u001b[0;34m)\u001b[0m\u001b[0;34m\u001b[0m\u001b[0;34m\u001b[0m\u001b[0m\n\u001b[0m",
      "\u001b[0;31mTypeError\u001b[0m: 'list' object is not callable"
     ]
    }
   ],
   "source": [
    "list1 = list()"
   ]
  },
  {
   "cell_type": "code",
   "execution_count": 39,
   "id": "9691ffd5",
   "metadata": {},
   "outputs": [
    {
     "data": {
      "text/plain": [
       "[0, 0, 0, 0, 0, 0, 0, 0, 0, 0, 0, 0, 0, 0, 0, 0, 0, 0, 0, 0]"
      ]
     },
     "execution_count": 39,
     "metadata": {},
     "output_type": "execute_result"
    }
   ],
   "source": [
    "l = []\n",
    "for i in range(1,21):\n",
    "    l.append(0)\n",
    "l"
   ]
  },
  {
   "cell_type": "code",
   "execution_count": 40,
   "id": "65e1a853",
   "metadata": {},
   "outputs": [
    {
     "data": {
      "text/plain": [
       "[1, 2, 3, 4, 5, 6, 7, 8, 9, 10, 11, 12, 13, 14, 15, 16, 17, 18, 19, 20]"
      ]
     },
     "execution_count": 40,
     "metadata": {},
     "output_type": "execute_result"
    }
   ],
   "source": [
    "l = []\n",
    "for i in range(1,21):\n",
    "    l.append(i)\n",
    "l"
   ]
  },
  {
   "cell_type": "code",
   "execution_count": 41,
   "id": "794d5d66",
   "metadata": {},
   "outputs": [
    {
     "data": {
      "text/plain": [
       "[3, 6, 9, 12, 15, 18, 21, 24, 27, 30, 33, 36, 39, 42, 45, 48, 51, 54, 57, 60]"
      ]
     },
     "execution_count": 41,
     "metadata": {},
     "output_type": "execute_result"
    }
   ],
   "source": [
    "l = []\n",
    "for i in range(1,21):\n",
    "    l.append(i*3)\n",
    "l"
   ]
  },
  {
   "cell_type": "code",
   "execution_count": 43,
   "id": "379f2349",
   "metadata": {},
   "outputs": [
    {
     "data": {
      "text/plain": [
       "[0.42419747804607755,\n",
       " 0.33049074530366285,\n",
       " 0.942879973198804,\n",
       " 0.9309134137407882,\n",
       " 0.2991558864852566,\n",
       " 0.025571981095666718,\n",
       " 0.01741494212710748,\n",
       " 0.3562987615944937,\n",
       " 0.34413175375814,\n",
       " 0.4412074446788623]"
      ]
     },
     "execution_count": 43,
     "metadata": {},
     "output_type": "execute_result"
    }
   ],
   "source": [
    "import random\n",
    "ran_list = []\n",
    "for i in range(10):\n",
    "    ran_list.append(random.random())\n",
    "ran_list"
   ]
  },
  {
   "cell_type": "code",
   "execution_count": 47,
   "id": "9a99d4e9",
   "metadata": {},
   "outputs": [
    {
     "data": {
      "text/plain": [
       "[99, 66, 75, 93, 88, 65, 78, 59, 100, 55]"
      ]
     },
     "execution_count": 47,
     "metadata": {},
     "output_type": "execute_result"
    }
   ],
   "source": [
    "ran_list = []\n",
    "for i in range(10):\n",
    "    ran_list.append(random.randint(51,100))\n",
    "ran_list"
   ]
  },
  {
   "cell_type": "markdown",
   "id": "633706a8",
   "metadata": {},
   "source": [
    "## 2. extend()"
   ]
  },
  {
   "cell_type": "code",
   "execution_count": 14,
   "id": "54f661ce",
   "metadata": {},
   "outputs": [
    {
     "data": {
      "text/plain": [
       "[1, 2]"
      ]
     },
     "execution_count": 14,
     "metadata": {},
     "output_type": "execute_result"
    }
   ],
   "source": [
    "l = [1,2]\n",
    "l"
   ]
  },
  {
   "cell_type": "code",
   "execution_count": 15,
   "id": "1d069d8c",
   "metadata": {},
   "outputs": [
    {
     "data": {
      "text/plain": [
       "[1, 2, 3, 4]"
      ]
     },
     "execution_count": 15,
     "metadata": {},
     "output_type": "execute_result"
    }
   ],
   "source": [
    "l.extend([3,4])\n",
    "l"
   ]
  },
  {
   "cell_type": "code",
   "execution_count": 48,
   "id": "9b7df8ee",
   "metadata": {},
   "outputs": [
    {
     "data": {
      "text/plain": [
       "11"
      ]
     },
     "execution_count": 48,
     "metadata": {},
     "output_type": "execute_result"
    }
   ],
   "source": [
    "5+6"
   ]
  },
  {
   "cell_type": "code",
   "execution_count": 49,
   "id": "cd5882f5",
   "metadata": {},
   "outputs": [
    {
     "data": {
      "text/plain": [
       "[11, 22, 33, 44, 'aa', 'bb', 'cc', 'dd']"
      ]
     },
     "execution_count": 49,
     "metadata": {},
     "output_type": "execute_result"
    }
   ],
   "source": [
    "l1 = [11,22,33,44]\n",
    "l2 = ['aa','bb','cc','dd']\n",
    "l1 + l2"
   ]
  },
  {
   "cell_type": "code",
   "execution_count": 51,
   "id": "cdfac4c6",
   "metadata": {},
   "outputs": [
    {
     "data": {
      "text/plain": [
       "[11, 22, 33, 44, 'aa', 'bb', 'cc', 'dd']"
      ]
     },
     "execution_count": 51,
     "metadata": {},
     "output_type": "execute_result"
    }
   ],
   "source": [
    "l1 = [11,22,33,44]\n",
    "l2 = ['aa','bb','cc','dd']\n",
    "l3 = l1 + l2\n",
    "l3"
   ]
  },
  {
   "cell_type": "code",
   "execution_count": 52,
   "id": "2d4a5551",
   "metadata": {},
   "outputs": [
    {
     "data": {
      "text/plain": [
       "['aa', 'bb', 'cc', 'dd', 11, 22, 33, 44]"
      ]
     },
     "execution_count": 52,
     "metadata": {},
     "output_type": "execute_result"
    }
   ],
   "source": [
    "l1 = [11,22,33,44]\n",
    "l2 = ['aa','bb','cc','dd']\n",
    "l3 = l2 + l1\n",
    "l3"
   ]
  },
  {
   "cell_type": "markdown",
   "id": "cb06d1ac",
   "metadata": {},
   "source": [
    "## 3. insert(index, item)"
   ]
  },
  {
   "cell_type": "code",
   "execution_count": 53,
   "id": "c6a303ba",
   "metadata": {},
   "outputs": [
    {
     "data": {
      "text/plain": [
       "[11, 22, 'some string', 33, 44]"
      ]
     },
     "execution_count": 53,
     "metadata": {},
     "output_type": "execute_result"
    }
   ],
   "source": [
    "l = [11,22,33,44]\n",
    "l.insert(2, \"some string\")\n",
    "l"
   ]
  },
  {
   "cell_type": "code",
   "execution_count": 55,
   "id": "6d126316",
   "metadata": {},
   "outputs": [
    {
     "data": {
      "text/plain": [
       "[11, 22, 'some string', 44]"
      ]
     },
     "execution_count": 55,
     "metadata": {},
     "output_type": "execute_result"
    }
   ],
   "source": [
    "l = [11,22,33,44]\n",
    "l[2] = \"some string\"\n",
    "l"
   ]
  },
  {
   "cell_type": "markdown",
   "id": "0960d443",
   "metadata": {},
   "source": [
    "## enumerate()"
   ]
  },
  {
   "cell_type": "code",
   "execution_count": 56,
   "id": "0270697a",
   "metadata": {},
   "outputs": [
    {
     "name": "stdout",
     "output_type": "stream",
     "text": [
      "(0, 11)\n",
      "(1, 22)\n",
      "(2, 33)\n",
      "(3, 44)\n"
     ]
    }
   ],
   "source": [
    "l = [11,22,33,44]\n",
    "for val in enumerate(l):\n",
    "    print(val)"
   ]
  },
  {
   "cell_type": "code",
   "execution_count": 57,
   "id": "85a04532",
   "metadata": {},
   "outputs": [
    {
     "name": "stdout",
     "output_type": "stream",
     "text": [
      "(0, 'a')\n",
      "(1, 'b')\n",
      "(2, 'c')\n",
      "(3, 'd')\n",
      "(4, 'e')\n"
     ]
    }
   ],
   "source": [
    "l = ['a', 'b', 'c', 'd', 'e',]\n",
    "for val in enumerate(l):\n",
    "    print(val)"
   ]
  },
  {
   "cell_type": "code",
   "execution_count": 61,
   "id": "8bf7cbbc",
   "metadata": {},
   "outputs": [
    {
     "name": "stdout",
     "output_type": "stream",
     "text": [
      "0 -> a\n",
      "1 -> b\n",
      "2 -> c\n",
      "3 -> d\n",
      "4 -> e\n"
     ]
    }
   ],
   "source": [
    "l = ['a', 'b', 'c', 'd', 'e',]\n",
    "for i,j in enumerate(l):\n",
    "    print(i, '->', j)"
   ]
  },
  {
   "cell_type": "code",
   "execution_count": 63,
   "id": "6586e5e0",
   "metadata": {},
   "outputs": [
    {
     "name": "stdout",
     "output_type": "stream",
     "text": [
      "0 -> a\n",
      "1 -> b\n",
      "2 -> c\n",
      "3 -> d\n",
      "4 -> e\n"
     ]
    }
   ],
   "source": [
    "l = ['a', 'b', 'c', 'd', 'e',]\n",
    "for index, value in enumerate(l):\n",
    "    print(index, '->', value)"
   ]
  },
  {
   "cell_type": "code",
   "execution_count": 68,
   "id": "f49f214a",
   "metadata": {},
   "outputs": [
    {
     "name": "stdout",
     "output_type": "stream",
     "text": [
      "0 -> a -> a\n",
      "1 -> b -> b\n",
      "2 -> c -> c\n",
      "3 -> d -> d\n",
      "4 -> e -> e\n"
     ]
    }
   ],
   "source": [
    "list_1 = ['a', 'b', 'c', 'd', 'e',]\n",
    "for index, value in enumerate(list_1):\n",
    "    print(index, '->', value, '->', list_1[index])"
   ]
  },
  {
   "cell_type": "code",
   "execution_count": 69,
   "id": "33857ed8",
   "metadata": {},
   "outputs": [
    {
     "name": "stdout",
     "output_type": "stream",
     "text": [
      "0\n",
      "1\n",
      "2\n",
      "3\n",
      "4\n"
     ]
    }
   ],
   "source": [
    "list_1 = ['a', 'b', 'c', 'd', 'e',]\n",
    "for index in range(len(list_1)):\n",
    "    print(index)"
   ]
  },
  {
   "cell_type": "code",
   "execution_count": 70,
   "id": "1de30e09",
   "metadata": {},
   "outputs": [
    {
     "data": {
      "text/plain": [
       "'a'"
      ]
     },
     "execution_count": 70,
     "metadata": {},
     "output_type": "execute_result"
    }
   ],
   "source": [
    "list_1[0]"
   ]
  },
  {
   "cell_type": "code",
   "execution_count": 71,
   "id": "180982db",
   "metadata": {},
   "outputs": [
    {
     "data": {
      "text/plain": [
       "'c'"
      ]
     },
     "execution_count": 71,
     "metadata": {},
     "output_type": "execute_result"
    }
   ],
   "source": [
    "list_1[2]"
   ]
  },
  {
   "cell_type": "code",
   "execution_count": 73,
   "id": "4c326fde",
   "metadata": {},
   "outputs": [
    {
     "name": "stdout",
     "output_type": "stream",
     "text": [
      "0 -> a\n",
      "1 -> b\n",
      "2 -> c\n",
      "3 -> d\n",
      "4 -> e\n"
     ]
    }
   ],
   "source": [
    "list_1 = ['a', 'b', 'c', 'd', 'e',]\n",
    "for index in range(len(list_1)):\n",
    "    print(index, '->', list_1[index])"
   ]
  },
  {
   "cell_type": "code",
   "execution_count": null,
   "id": "332bd700",
   "metadata": {},
   "outputs": [],
   "source": [
    "list_1 = ['a', 'b', 'c', 'd', 'e',]\n",
    "for index in list_1:\n",
    "    print(index, '->', list_1[index])"
   ]
  },
  {
   "cell_type": "markdown",
   "id": "d2ceb398",
   "metadata": {},
   "source": [
    "## Remove Items"
   ]
  },
  {
   "cell_type": "markdown",
   "id": "0a3d509f",
   "metadata": {},
   "source": [
    "### 1. remove(element)"
   ]
  },
  {
   "cell_type": "code",
   "execution_count": 74,
   "id": "45513898",
   "metadata": {},
   "outputs": [
    {
     "data": {
      "text/plain": [
       "['a', 'b', 'c', 'e']"
      ]
     },
     "execution_count": 74,
     "metadata": {},
     "output_type": "execute_result"
    }
   ],
   "source": [
    "list_1 = ['a', 'b', 'c', 'd', 'e',]\n",
    "list_1.remove('d')\n",
    "list_1"
   ]
  },
  {
   "cell_type": "code",
   "execution_count": 75,
   "id": "65d913f0",
   "metadata": {},
   "outputs": [
    {
     "data": {
      "text/plain": [
       "['Assam', 'Maharashtra', 'W. Bengal', 'CHennai']"
      ]
     },
     "execution_count": 75,
     "metadata": {},
     "output_type": "execute_result"
    }
   ],
   "source": [
    "cities = ['Assam', 'Bihar', 'Maharashtra', 'W. Bengal', 'CHennai']\n",
    "\n",
    "cities.remove('Bihar')\n",
    "\n",
    "cities"
   ]
  },
  {
   "cell_type": "code",
   "execution_count": null,
   "id": "815b0eba",
   "metadata": {},
   "outputs": [],
   "source": []
  },
  {
   "cell_type": "markdown",
   "id": "010d44cc",
   "metadata": {},
   "source": [
    "### 2. pop(index)\n",
    "    - if no index is given it removes last element in lost\n",
    "    - it reutrn removed element"
   ]
  },
  {
   "cell_type": "code",
   "execution_count": 88,
   "id": "d1e72cee",
   "metadata": {},
   "outputs": [
    {
     "data": {
      "text/plain": [
       "['Assam', 'Bihar', 'Maharashtra', 'CHennai']"
      ]
     },
     "execution_count": 88,
     "metadata": {},
     "output_type": "execute_result"
    }
   ],
   "source": [
    "states = ['Assam', 'Bihar', 'Maharashtra', 'W. Bengal', 'CHennai']\n",
    "\n",
    "states.pop(3)\n",
    "\n",
    "states"
   ]
  },
  {
   "cell_type": "code",
   "execution_count": 89,
   "id": "401e845b",
   "metadata": {},
   "outputs": [
    {
     "data": {
      "text/plain": [
       "'CHennai'"
      ]
     },
     "execution_count": 89,
     "metadata": {},
     "output_type": "execute_result"
    }
   ],
   "source": [
    "states.pop()"
   ]
  },
  {
   "cell_type": "code",
   "execution_count": 90,
   "id": "21fab957",
   "metadata": {},
   "outputs": [
    {
     "name": "stdout",
     "output_type": "stream",
     "text": [
      "['Assam', 'Bihar', 'Maharashtra']\n",
      "Maharashtra\n"
     ]
    }
   ],
   "source": [
    "print(states)\n",
    "state_name = states.pop()\n",
    "print(state_name)"
   ]
  },
  {
   "cell_type": "code",
   "execution_count": 91,
   "id": "5f3d9fbb",
   "metadata": {},
   "outputs": [
    {
     "data": {
      "text/plain": [
       "['Assam', 'Bihar']"
      ]
     },
     "execution_count": 91,
     "metadata": {},
     "output_type": "execute_result"
    }
   ],
   "source": [
    "states"
   ]
  },
  {
   "cell_type": "code",
   "execution_count": 86,
   "id": "e0599437",
   "metadata": {},
   "outputs": [
    {
     "name": "stdout",
     "output_type": "stream",
     "text": [
      "CHennai\n",
      "W. Bengal\n",
      "Maharashtra\n",
      "Bihar\n",
      "Assam\n",
      "All states removed\n"
     ]
    }
   ],
   "source": [
    "states = ['Assam', 'Bihar', 'Maharashtra', 'W. Bengal', 'CHennai']\n",
    "for i in range(len(states)):\n",
    "    state = states.pop()\n",
    "    print(state)\n",
    "print('All states removed')"
   ]
  },
  {
   "cell_type": "code",
   "execution_count": 87,
   "id": "dbb8eb70",
   "metadata": {},
   "outputs": [
    {
     "name": "stdout",
     "output_type": "stream",
     "text": [
      "CHennai\n",
      "W. Bengal\n",
      "Maharashtra\n",
      "Bihar\n",
      "Assam\n",
      "All states removed\n"
     ]
    },
    {
     "ename": "IndexError",
     "evalue": "pop from empty list",
     "output_type": "error",
     "traceback": [
      "\u001b[0;31m---------------------------------------------------------------------------\u001b[0m",
      "\u001b[0;31mIndexError\u001b[0m                                Traceback (most recent call last)",
      "\u001b[0;32m/tmp/ipykernel_21835/3191860044.py\u001b[0m in \u001b[0;36m<module>\u001b[0;34m\u001b[0m\n\u001b[1;32m      4\u001b[0m     \u001b[0mprint\u001b[0m\u001b[0;34m(\u001b[0m\u001b[0mstate\u001b[0m\u001b[0;34m)\u001b[0m\u001b[0;34m\u001b[0m\u001b[0;34m\u001b[0m\u001b[0m\n\u001b[1;32m      5\u001b[0m \u001b[0mprint\u001b[0m\u001b[0;34m(\u001b[0m\u001b[0;34m'All states removed'\u001b[0m\u001b[0;34m)\u001b[0m\u001b[0;34m\u001b[0m\u001b[0;34m\u001b[0m\u001b[0m\n\u001b[0;32m----> 6\u001b[0;31m \u001b[0mstates\u001b[0m\u001b[0;34m.\u001b[0m\u001b[0mpop\u001b[0m\u001b[0;34m(\u001b[0m\u001b[0;34m)\u001b[0m\u001b[0;34m\u001b[0m\u001b[0;34m\u001b[0m\u001b[0m\n\u001b[0m",
      "\u001b[0;31mIndexError\u001b[0m: pop from empty list"
     ]
    }
   ],
   "source": [
    "states = ['Assam', 'Bihar', 'Maharashtra', 'W. Bengal', 'CHennai']\n",
    "for i in range(len(states)):\n",
    "    state = states.pop()\n",
    "    print(state)\n",
    "print('All states removed')\n",
    "states.pop()"
   ]
  },
  {
   "cell_type": "markdown",
   "id": "6557a8fc",
   "metadata": {},
   "source": [
    "### 3. clear()"
   ]
  },
  {
   "cell_type": "code",
   "execution_count": null,
   "id": "9028fbd8",
   "metadata": {},
   "outputs": [],
   "source": [
    "- it removes all elements from list and makes it empty"
   ]
  },
  {
   "cell_type": "code",
   "execution_count": 92,
   "id": "863e6a0e",
   "metadata": {},
   "outputs": [
    {
     "data": {
      "text/plain": [
       "[]"
      ]
     },
     "execution_count": 92,
     "metadata": {},
     "output_type": "execute_result"
    }
   ],
   "source": [
    "states = ['Assam', 'Bihar', 'Maharashtra', 'W. Bengal', 'CHennai']\n",
    "states.clear()\n",
    "states"
   ]
  },
  {
   "cell_type": "code",
   "execution_count": 93,
   "id": "9ce3cf89",
   "metadata": {},
   "outputs": [
    {
     "data": {
      "text/plain": [
       "[]"
      ]
     },
     "execution_count": 93,
     "metadata": {},
     "output_type": "execute_result"
    }
   ],
   "source": [
    "states = ['Assam', 'Bihar', 'Maharashtra', 'W. Bengal', 'CHennai']\n",
    "states.clear()\n",
    "states"
   ]
  },
  {
   "cell_type": "code",
   "execution_count": 95,
   "id": "8fc0a05b",
   "metadata": {},
   "outputs": [
    {
     "name": "stdout",
     "output_type": "stream",
     "text": [
      "139847990276864\n",
      "139847990276864\n"
     ]
    }
   ],
   "source": [
    "states = ['Assam', 'Bihar', 'Maharashtra', 'W. Bengal', 'CHennai']\n",
    "print(id(states))\n",
    "states.clear()\n",
    "print(id(states))"
   ]
  },
  {
   "cell_type": "code",
   "execution_count": 96,
   "id": "cc298bf2",
   "metadata": {},
   "outputs": [
    {
     "name": "stdout",
     "output_type": "stream",
     "text": [
      "139847990538496\n",
      "139847990351360\n"
     ]
    }
   ],
   "source": [
    "states = ['Assam', 'Bihar', 'Maharashtra', 'W. Bengal', 'CHennai']\n",
    "print(id(states))\n",
    "states = []\n",
    "print(id(states))"
   ]
  },
  {
   "cell_type": "code",
   "execution_count": 98,
   "id": "e653e675",
   "metadata": {},
   "outputs": [
    {
     "name": "stdout",
     "output_type": "stream",
     "text": [
      "139847989142080\n",
      "139847989135616\n"
     ]
    }
   ],
   "source": [
    "l = [1,2,3]\n",
    "print(id(l))\n",
    "l = [2,3,4]\n",
    "print(id(l))"
   ]
  },
  {
   "cell_type": "markdown",
   "id": "bbe920b0",
   "metadata": {},
   "source": [
    "### 4. del"
   ]
  },
  {
   "cell_type": "code",
   "execution_count": 100,
   "id": "1f579229",
   "metadata": {},
   "outputs": [
    {
     "name": "stdout",
     "output_type": "stream",
     "text": [
      "['Assam', 'Bihar', 'Maharashtra', 'W. Bengal', 'CHennai']\n",
      "['Assam', 'Bihar', 'W. Bengal', 'CHennai']\n"
     ]
    }
   ],
   "source": [
    "states = ['Assam', 'Bihar', 'Maharashtra', 'W. Bengal', 'CHennai']\n",
    "print(states)\n",
    "del states[2]\n",
    "print(states)"
   ]
  },
  {
   "cell_type": "markdown",
   "id": "3a57e927",
   "metadata": {},
   "source": [
    "## Other list functions"
   ]
  },
  {
   "cell_type": "markdown",
   "id": "1f75086a",
   "metadata": {},
   "source": [
    "### 1. count(element)\n",
    "    - it counts number of times element is repeated in list"
   ]
  },
  {
   "cell_type": "code",
   "execution_count": 103,
   "id": "fb41fc63",
   "metadata": {},
   "outputs": [
    {
     "name": "stdout",
     "output_type": "stream",
     "text": [
      "[12, 18, 19, 17, 13, 11, 14, 20, 20, 13, 15, 11, 13, 11, 16, 16, 14, 13, 20, 17, 12, 13, 19, 13, 11, 19, 11, 12, 11, 16]\n"
     ]
    }
   ],
   "source": [
    "l = []\n",
    "for i in range(30):\n",
    "    l.append(random.randint(11,20))\n",
    "print(l)\n"
   ]
  },
  {
   "cell_type": "code",
   "execution_count": 104,
   "id": "7ac11613",
   "metadata": {},
   "outputs": [
    {
     "name": "stdout",
     "output_type": "stream",
     "text": [
      "5\n"
     ]
    }
   ],
   "source": [
    "l = [12, 18, 19, 17, 13, 11, 14, 20, 20, 13, 15, 11, 13, 11, 16, 16, 14, 13, 20, 17, 12, 13, 19, 13, 11, 19, 11]\n",
    "\n",
    "print(l.count(11))"
   ]
  },
  {
   "cell_type": "markdown",
   "id": "783e2c92",
   "metadata": {},
   "source": [
    "### 2. listobject.sort()"
   ]
  },
  {
   "cell_type": "code",
   "execution_count": 105,
   "id": "e7046053",
   "metadata": {},
   "outputs": [
    {
     "data": {
      "text/plain": [
       "[11, 11, 12, 13, 13, 14, 15, 17, 18, 19, 20, 20]"
      ]
     },
     "execution_count": 105,
     "metadata": {},
     "output_type": "execute_result"
    }
   ],
   "source": [
    "list1 = [12, 18, 19, 17, 13, 11, 14, 20, 20, 13, 15, 11]\n",
    "\n",
    "list1.sort()\n",
    "list1"
   ]
  },
  {
   "cell_type": "code",
   "execution_count": 106,
   "id": "c57e0510",
   "metadata": {},
   "outputs": [
    {
     "data": {
      "text/plain": [
       "[20, 20, 19, 18, 17, 15, 14, 13, 13, 12, 11, 11]"
      ]
     },
     "execution_count": 106,
     "metadata": {},
     "output_type": "execute_result"
    }
   ],
   "source": [
    "list1 = [12, 18, 19, 17, 13, 11, 14, 20, 20, 13, 15, 11]\n",
    "\n",
    "list1.sort(reverse=True)\n",
    "list1"
   ]
  },
  {
   "cell_type": "code",
   "execution_count": 108,
   "id": "6cb620aa",
   "metadata": {},
   "outputs": [
    {
     "ename": "TypeError",
     "evalue": "'<' not supported between instances of 'str' and 'int'",
     "output_type": "error",
     "traceback": [
      "\u001b[0;31m---------------------------------------------------------------------------\u001b[0m",
      "\u001b[0;31mTypeError\u001b[0m                                 Traceback (most recent call last)",
      "\u001b[0;32m/tmp/ipykernel_21835/2217352517.py\u001b[0m in \u001b[0;36m<module>\u001b[0;34m\u001b[0m\n\u001b[1;32m      1\u001b[0m \u001b[0mlist1\u001b[0m \u001b[0;34m=\u001b[0m \u001b[0;34m[\u001b[0m\u001b[0;36m1\u001b[0m\u001b[0;34m,\u001b[0m\u001b[0;36m2\u001b[0m\u001b[0;34m,\u001b[0m\u001b[0;36m3\u001b[0m\u001b[0;34m,\u001b[0m\u001b[0;36m4\u001b[0m\u001b[0;34m,\u001b[0m \u001b[0;34m'abc'\u001b[0m\u001b[0;34m,\u001b[0m \u001b[0;34m'apps'\u001b[0m\u001b[0;34m]\u001b[0m\u001b[0;34m\u001b[0m\u001b[0;34m\u001b[0m\u001b[0m\n\u001b[0;32m----> 2\u001b[0;31m \u001b[0mlist1\u001b[0m\u001b[0;34m.\u001b[0m\u001b[0msort\u001b[0m\u001b[0;34m(\u001b[0m\u001b[0;34m)\u001b[0m\u001b[0;34m\u001b[0m\u001b[0;34m\u001b[0m\u001b[0m\n\u001b[0m\u001b[1;32m      3\u001b[0m \u001b[0mlist1\u001b[0m\u001b[0;34m\u001b[0m\u001b[0;34m\u001b[0m\u001b[0m\n",
      "\u001b[0;31mTypeError\u001b[0m: '<' not supported between instances of 'str' and 'int'"
     ]
    }
   ],
   "source": [
    "list1 = [1,2,3,4, 'abc', 'apps']\n",
    "list1.sort()\n",
    "list1"
   ]
  },
  {
   "cell_type": "code",
   "execution_count": 109,
   "id": "cb093935",
   "metadata": {},
   "outputs": [
    {
     "data": {
      "text/plain": [
       "['Assam', 'Bihar', 'CHennai', 'Maharashtra', 'W. Bengal']"
      ]
     },
     "execution_count": 109,
     "metadata": {},
     "output_type": "execute_result"
    }
   ],
   "source": [
    "states = ['Assam', 'Bihar', 'Maharashtra', 'W. Bengal', 'CHennai']\n",
    "states.sort()\n",
    "states"
   ]
  },
  {
   "cell_type": "code",
   "execution_count": 110,
   "id": "7524d6e7",
   "metadata": {},
   "outputs": [
    {
     "name": "stdout",
     "output_type": "stream",
     "text": [
      "None\n"
     ]
    },
    {
     "data": {
      "text/plain": [
       "['Assam', 'Bihar', 'CHennai', 'Maharashtra', 'W. Bengal']"
      ]
     },
     "execution_count": 110,
     "metadata": {},
     "output_type": "execute_result"
    }
   ],
   "source": [
    "states = ['Assam', 'Bihar', 'Maharashtra', 'W. Bengal', 'CHennai']\n",
    "print(states.sort())\n",
    "states"
   ]
  },
  {
   "cell_type": "markdown",
   "id": "1ce95c78",
   "metadata": {},
   "source": [
    "### sorted()"
   ]
  },
  {
   "cell_type": "code",
   "execution_count": 111,
   "id": "703307ff",
   "metadata": {},
   "outputs": [
    {
     "data": {
      "text/plain": [
       "[12, 18, 19, 17, 13, 11, 14, 20, 20, 13, 15, 11]"
      ]
     },
     "execution_count": 111,
     "metadata": {},
     "output_type": "execute_result"
    }
   ],
   "source": [
    "list1 = [12, 18, 19, 17, 13, 11, 14, 20, 20, 13, 15, 11]\n",
    "\n",
    "sorted(list1)\n",
    "list1"
   ]
  },
  {
   "cell_type": "code",
   "execution_count": 112,
   "id": "fef1134b",
   "metadata": {},
   "outputs": [
    {
     "data": {
      "text/plain": [
       "[11, 11, 12, 13, 13, 14, 15, 17, 18, 19, 20, 20]"
      ]
     },
     "execution_count": 112,
     "metadata": {},
     "output_type": "execute_result"
    }
   ],
   "source": [
    "list1 = [12, 18, 19, 17, 13, 11, 14, 20, 20, 13, 15, 11]\n",
    "\n",
    "sorted_list = sorted(list1)\n",
    "sorted_list"
   ]
  },
  {
   "cell_type": "code",
   "execution_count": 113,
   "id": "39db13a1",
   "metadata": {},
   "outputs": [
    {
     "data": {
      "text/plain": [
       "list"
      ]
     },
     "execution_count": 113,
     "metadata": {},
     "output_type": "execute_result"
    }
   ],
   "source": [
    "list1 = [12, 18, 19, 17, 13, 11, 14, 20, 20, 13, 15, 11]\n",
    "\n",
    "sorted_list = sorted(list1)\n",
    "type(sorted_list)"
   ]
  },
  {
   "cell_type": "code",
   "execution_count": 114,
   "id": "a0169481",
   "metadata": {},
   "outputs": [
    {
     "data": {
      "text/plain": [
       "[20, 20, 19, 18, 17, 15, 14, 13, 13, 12, 11, 11]"
      ]
     },
     "execution_count": 114,
     "metadata": {},
     "output_type": "execute_result"
    }
   ],
   "source": [
    "list1 = [12, 18, 19, 17, 13, 11, 14, 20, 20, 13, 15, 11]\n",
    "\n",
    "sorted_list = sorted(list1, reverse=True)\n",
    "sorted_list"
   ]
  },
  {
   "cell_type": "code",
   "execution_count": 115,
   "id": "f0e6c679",
   "metadata": {},
   "outputs": [
    {
     "data": {
      "text/plain": [
       "[11, 11, 12, 13, 13, 14, 15, 17, 18, 19, 20, 20]"
      ]
     },
     "execution_count": 115,
     "metadata": {},
     "output_type": "execute_result"
    }
   ],
   "source": [
    "list1 = [12, 18, 19, 17, 13, 11, 14, 20, 20, 13, 15, 11]\n",
    "\n",
    "sorted_list = sorted(list1, reverse=False)\n",
    "sorted_list"
   ]
  },
  {
   "cell_type": "code",
   "execution_count": 116,
   "id": "40e23dfb",
   "metadata": {},
   "outputs": [
    {
     "data": {
      "text/plain": [
       "[11, 11, 12, 13, 13, 14, 15, 17, 18, 19, 20, 20]"
      ]
     },
     "execution_count": 116,
     "metadata": {},
     "output_type": "execute_result"
    }
   ],
   "source": [
    "list1 = [12, 18, 19, 17, 13, 11, 14, 20, 20, 13, 15, 11]\n",
    "\n",
    "sorted_list = sorted(list1)\n",
    "sorted_list"
   ]
  },
  {
   "cell_type": "markdown",
   "id": "64c928ba",
   "metadata": {},
   "source": [
    "### 3. listobject.reverse()"
   ]
  },
  {
   "cell_type": "code",
   "execution_count": 117,
   "id": "41c4ecd8",
   "metadata": {},
   "outputs": [
    {
     "data": {
      "text/plain": [
       "['CHennai', 'W. Bengal', 'Maharashtra', 'Bihar', 'Assam']"
      ]
     },
     "execution_count": 117,
     "metadata": {},
     "output_type": "execute_result"
    }
   ],
   "source": [
    "states = ['Assam', 'Bihar', 'Maharashtra', 'W. Bengal', 'CHennai']\n",
    "states.reverse()\n",
    "states"
   ]
  },
  {
   "cell_type": "markdown",
   "id": "afadce8c",
   "metadata": {},
   "source": [
    "### reversed()"
   ]
  },
  {
   "cell_type": "code",
   "execution_count": 1,
   "id": "ec9c0aea",
   "metadata": {},
   "outputs": [
    {
     "data": {
      "text/plain": [
       "['CHennai', 'W. Bengal', 'Maharashtra', 'Bihar', 'Assam']"
      ]
     },
     "execution_count": 1,
     "metadata": {},
     "output_type": "execute_result"
    }
   ],
   "source": [
    "states = ['Assam', 'Bihar', 'Maharashtra', 'W. Bengal', 'CHennai']\n",
    "sorted_states = list(reversed(states))\n",
    "sorted_states"
   ]
  },
  {
   "cell_type": "markdown",
   "id": "98dcd380",
   "metadata": {},
   "source": [
    "### reverse without inbuilt function"
   ]
  },
  {
   "cell_type": "code",
   "execution_count": 14,
   "id": "a931b8ca",
   "metadata": {},
   "outputs": [
    {
     "data": {
      "text/plain": [
       "(0, 9)"
      ]
     },
     "execution_count": 14,
     "metadata": {},
     "output_type": "execute_result"
    }
   ],
   "source": [
    "numbers = [9,3,55,77,22,88,56,23,45, 44]\n",
    "start = 0\n",
    "end = len(numbers) - 1\n",
    "start, end"
   ]
  },
  {
   "cell_type": "code",
   "execution_count": 27,
   "id": "3eb7dcd4",
   "metadata": {},
   "outputs": [
    {
     "data": {
      "text/plain": [
       "[100, 99, 88, 77, 66, 55, 44, 33, 22, 11]"
      ]
     },
     "execution_count": 27,
     "metadata": {},
     "output_type": "execute_result"
    }
   ],
   "source": [
    "numbers = [11,22,33,44,55,66,77,88,99, 100]\n",
    "start = 0\n",
    "end = len(numbers) - 1 \n",
    "mid = (start + end)//2 + 1\n",
    "# print(mid)\n",
    "while mid > start :\n",
    "    numbers[start], numbers[end] = numbers[end], numbers[start]\n",
    "    \n",
    "    start += 1\n",
    "    end -= 1\n",
    "numbers\n",
    "    "
   ]
  },
  {
   "cell_type": "code",
   "execution_count": 31,
   "id": "5b8bfd8f",
   "metadata": {},
   "outputs": [
    {
     "data": {
      "text/plain": [
       "[100, 99, 88, 77, 55, 66, 44, 33, 22, 11]"
      ]
     },
     "execution_count": 31,
     "metadata": {},
     "output_type": "execute_result"
    }
   ],
   "source": [
    "numbers = [11,22,33,44,55,66,77,88,99, 100]\n",
    "start = 0\n",
    "end = len(numbers) - 1 \n",
    "# print(mid)\n",
    "while True :\n",
    "    numbers[start], numbers[end] = numbers[end], numbers[start]\n",
    "    \n",
    "    start += 1\n",
    "    end -= 1\n",
    "    if start == end or start+1 == end:\n",
    "        break\n",
    "numbers\n",
    "    "
   ]
  },
  {
   "cell_type": "code",
   "execution_count": 33,
   "id": "af094972",
   "metadata": {},
   "outputs": [
    {
     "data": {
      "text/plain": [
       "[99, 88, 77, 66, 55, 44, 33, 22, 11]"
      ]
     },
     "execution_count": 33,
     "metadata": {},
     "output_type": "execute_result"
    }
   ],
   "source": [
    "numbers = [11,22,33,44,55,66,77,88,99]\n",
    "start = 0\n",
    "end = len(numbers) - 1 \n",
    "# print(mid)\n",
    "while start < end :\n",
    "    numbers[start], numbers[end] = numbers[end], numbers[start]    \n",
    "    start += 1\n",
    "    end -= 1\n",
    "numbers\n",
    "    "
   ]
  },
  {
   "cell_type": "markdown",
   "id": "dfda0b8e",
   "metadata": {},
   "source": [
    "### 4. min()"
   ]
  },
  {
   "cell_type": "code",
   "execution_count": 3,
   "id": "115b1973",
   "metadata": {},
   "outputs": [
    {
     "name": "stdout",
     "output_type": "stream",
     "text": [
      "3\n"
     ]
    }
   ],
   "source": [
    "numbers = [9,3,55,77,22,88,56,23,45]\n",
    "print(min(numbers))"
   ]
  },
  {
   "cell_type": "markdown",
   "id": "8a7afe5b",
   "metadata": {},
   "source": [
    "### min without inbuilt function"
   ]
  },
  {
   "cell_type": "code",
   "execution_count": 6,
   "id": "66e266a2",
   "metadata": {},
   "outputs": [
    {
     "name": "stdout",
     "output_type": "stream",
     "text": [
      "Min number is = 5\n"
     ]
    }
   ],
   "source": [
    "numbers = [9,55,77,22,88,5,56,23,45]\n",
    "min_num = numbers[0]\n",
    "for i in range(len(numbers)):\n",
    "    if min_num > numbers[i]:\n",
    "        min_num = numbers[i]\n",
    "print('Min number is =', min_num)"
   ]
  },
  {
   "cell_type": "code",
   "execution_count": 7,
   "id": "ee9547d2",
   "metadata": {},
   "outputs": [
    {
     "name": "stdout",
     "output_type": "stream",
     "text": [
      "Min number is = 5\n"
     ]
    }
   ],
   "source": [
    "numbers = [9,55,77,22,88,5,56,23,45]\n",
    "min_num = numbers[0]\n",
    "for i in numbers:\n",
    "    if min_num > i:\n",
    "        min_num = i\n",
    "print('Min number is =', min_num)"
   ]
  },
  {
   "cell_type": "code",
   "execution_count": null,
   "id": "7e215a66",
   "metadata": {},
   "outputs": [],
   "source": []
  },
  {
   "cell_type": "markdown",
   "id": "974bdfa4",
   "metadata": {},
   "source": [
    "### 5. max()"
   ]
  },
  {
   "cell_type": "code",
   "execution_count": 4,
   "id": "dde65e14",
   "metadata": {},
   "outputs": [
    {
     "name": "stdout",
     "output_type": "stream",
     "text": [
      "88\n"
     ]
    }
   ],
   "source": [
    "numbers = [9,3,55,77,22,88,56,23,45]\n",
    "print(max(numbers))"
   ]
  },
  {
   "cell_type": "markdown",
   "id": "dd02ab46",
   "metadata": {},
   "source": [
    "### max without inbuilt function"
   ]
  },
  {
   "cell_type": "code",
   "execution_count": 10,
   "id": "1ea4e3fd",
   "metadata": {},
   "outputs": [
    {
     "name": "stdout",
     "output_type": "stream",
     "text": [
      "Max number is = 88\n"
     ]
    }
   ],
   "source": [
    "numbers = [9,55,77,22,88,5,56,23,45]\n",
    "max_num = numbers[0]\n",
    "for i in range(len(numbers)):\n",
    "    if max_num < numbers[i]:\n",
    "        max_num = numbers[i]\n",
    "print('Max number is =', max_num)"
   ]
  },
  {
   "cell_type": "markdown",
   "id": "c649e1c2",
   "metadata": {},
   "source": [
    "### both min and max"
   ]
  },
  {
   "cell_type": "code",
   "execution_count": 11,
   "id": "5c20219c",
   "metadata": {},
   "outputs": [
    {
     "name": "stdout",
     "output_type": "stream",
     "text": [
      "Max number is = 88\n",
      "Min number is = 5\n"
     ]
    }
   ],
   "source": [
    "numbers = [9,55,77,22,88,5,56,23,45]\n",
    "max_num = numbers[0]\n",
    "min_num = numbers[0]\n",
    "for num in numbers:\n",
    "    if max_num < num:\n",
    "        max_num = num\n",
    "    if min_num > num:\n",
    "        min_num = num\n",
    "print('Max number is =', max_num)\n",
    "print('Min number is =', min_num)"
   ]
  },
  {
   "cell_type": "markdown",
   "id": "ac675f28",
   "metadata": {},
   "source": [
    "### 6. sum()"
   ]
  },
  {
   "cell_type": "code",
   "execution_count": 5,
   "id": "76c43ca0",
   "metadata": {},
   "outputs": [
    {
     "name": "stdout",
     "output_type": "stream",
     "text": [
      "378\n"
     ]
    }
   ],
   "source": [
    "numbers = [9,3,55,77,22,88,56,23,45]\n",
    "print(sum(numbers))"
   ]
  },
  {
   "cell_type": "code",
   "execution_count": 7,
   "id": "2c684e06",
   "metadata": {},
   "outputs": [
    {
     "name": "stdout",
     "output_type": "stream",
     "text": [
      "5050\n"
     ]
    }
   ],
   "source": [
    "numbers = []\n",
    "for i in range(1,101):\n",
    "    numbers.append(i)\n",
    "print(sum(numbers))"
   ]
  },
  {
   "cell_type": "code",
   "execution_count": 8,
   "id": "95a211e6",
   "metadata": {},
   "outputs": [
    {
     "name": "stdout",
     "output_type": "stream",
     "text": [
      "5050\n"
     ]
    }
   ],
   "source": [
    "n = 100\n",
    "print(n * (n+1)//2)"
   ]
  },
  {
   "cell_type": "code",
   "execution_count": 12,
   "id": "3b100e97",
   "metadata": {},
   "outputs": [
    {
     "name": "stdout",
     "output_type": "stream",
     "text": [
      "Sum of all numbers in list = 378\n"
     ]
    }
   ],
   "source": [
    "numbers = [9,3,55,77,22,88,56,23,45]\n",
    "sum_num = 0\n",
    "for num in numbers:\n",
    "    sum_num += num\n",
    "print('Sum of all numbers in list =', sum_num)"
   ]
  },
  {
   "cell_type": "markdown",
   "id": "12739141",
   "metadata": {},
   "source": [
    "### check if list is palindrome or not"
   ]
  },
  {
   "cell_type": "code",
   "execution_count": 39,
   "id": "8d979877",
   "metadata": {},
   "outputs": [
    {
     "name": "stdout",
     "output_type": "stream",
     "text": [
      "Not Palindrome\n"
     ]
    }
   ],
   "source": [
    "numbers = [1,2,88,4,5,4,3,2,1]\n",
    "start = 0\n",
    "end = len(numbers) - 1\n",
    "boolean = True\n",
    "while start < end :\n",
    "    if numbers[start] != numbers[end]:\n",
    "        print('Not Palindrome')\n",
    "        boolean = False\n",
    "        break\n",
    "    start += 1\n",
    "    end -= 1\n",
    "if boolean:\n",
    "    print('Is Palindrome')\n"
   ]
  },
  {
   "cell_type": "code",
   "execution_count": 43,
   "id": "4b124ed9",
   "metadata": {},
   "outputs": [
    {
     "name": "stdout",
     "output_type": "stream",
     "text": [
      "Is Palindrome\n"
     ]
    }
   ],
   "source": [
    "numbers = [1,2,3,4,5,4,3,2,1]\n",
    "start = 0\n",
    "end = len(numbers) - 1\n",
    "# boolean = True\n",
    "while start < end :\n",
    "    if numbers[start] != numbers[end]:\n",
    "        print('Not Palindrome')\n",
    "#         boolean = False\n",
    "        break\n",
    "    start += 1\n",
    "    end -= 1\n",
    "# if boolean:\n",
    "#     print('Is Palindrome')\n",
    "else:\n",
    "    print('Is Palindrome')\n"
   ]
  },
  {
   "cell_type": "code",
   "execution_count": null,
   "id": "76904cd4",
   "metadata": {},
   "outputs": [],
   "source": []
  },
  {
   "cell_type": "code",
   "execution_count": null,
   "id": "23520a1b",
   "metadata": {},
   "outputs": [],
   "source": []
  }
 ],
 "metadata": {
  "kernelspec": {
   "display_name": "Python 3 (ipykernel)",
   "language": "python",
   "name": "python3"
  },
  "language_info": {
   "codemirror_mode": {
    "name": "ipython",
    "version": 3
   },
   "file_extension": ".py",
   "mimetype": "text/x-python",
   "name": "python",
   "nbconvert_exporter": "python",
   "pygments_lexer": "ipython3",
   "version": "3.10.12"
  }
 },
 "nbformat": 4,
 "nbformat_minor": 5
}
